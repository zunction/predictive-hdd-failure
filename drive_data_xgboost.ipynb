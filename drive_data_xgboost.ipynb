{
 "cells": [
  {
   "cell_type": "markdown",
   "metadata": {},
   "source": [
    "## Predicting drive failure with XGBoost and RAPIDS\n",
    "\n",
    "**Dataset**: Hard disk SMART data and failure dataset from Backblaze ([More information](https://www.backblaze.com/b2/hard-drive-test-data.html))\n",
    "\n",
    "**Task**: Predict hard disk failure with RAPIDS"
   ]
  },
  {
   "cell_type": "code",
   "execution_count": 1,
   "metadata": {
    "ExecuteTime": {
     "end_time": "2018-12-23T14:36:50.489370Z",
     "start_time": "2018-12-23T14:36:49.322494Z"
    }
   },
   "outputs": [],
   "source": [
    "import time\n",
    "import numpy as np\n",
    "import pandas as pd\n",
    "from tqdm import tqdm_notebook\n",
    "\n",
    "from sklearn.metrics import mean_squared_error, accuracy_score\n",
    "from sklearn.model_selection import train_test_split\n",
    "from sklearn.preprocessing import OneHotEncoder\n",
    "\n",
    "# RAPIDS\n",
    "import cudf\n",
    "import xgboost as xgb"
   ]
  },
  {
   "cell_type": "markdown",
   "metadata": {},
   "source": [
    "### 1. Load Data\n",
    "\n",
    "#### Training Data\n",
    "\n",
    "Use Pandas to load training data from CSV. This consists of the drive data from July and August 2018."
   ]
  },
  {
   "cell_type": "code",
   "execution_count": 2,
   "metadata": {
    "ExecuteTime": {
     "end_time": "2018-12-23T14:37:13.856311Z",
     "start_time": "2018-12-23T14:36:50.491244Z"
    }
   },
   "outputs": [],
   "source": [
    "df = pd.read_csv(\"train.csv\")\n",
    "\n",
    "# fill in null data\n",
    "df.fillna(0, inplace=True)"
   ]
  },
  {
   "cell_type": "markdown",
   "metadata": {},
   "source": [
    "Split into features (`df_train`) and labels(`df_target`), where each is a Pandas `Dataframe`."
   ]
  },
  {
   "cell_type": "code",
   "execution_count": 3,
   "metadata": {
    "ExecuteTime": {
     "end_time": "2018-12-23T14:37:16.597909Z",
     "start_time": "2018-12-23T14:37:13.857591Z"
    }
   },
   "outputs": [],
   "source": [
    "df_train = df.drop([\"failure\"],axis=1).apply(pd.to_numeric)\n",
    "df_train_target = pd.DataFrame(df[\"failure\"]).apply(pd.to_numeric)"
   ]
  },
  {
   "cell_type": "markdown",
   "metadata": {},
   "source": [
    "#### Evaluation Data\n",
    "\n",
    "Do the same thing to load evaluation data from CSV. This consists of the drive data from September 2018."
   ]
  },
  {
   "cell_type": "code",
   "execution_count": 4,
   "metadata": {
    "ExecuteTime": {
     "end_time": "2018-12-23T14:37:29.019045Z",
     "start_time": "2018-12-23T14:37:16.599916Z"
    }
   },
   "outputs": [],
   "source": [
    "df_t = pd.read_csv(\"eval.csv\")\n",
    "\n",
    "# fill in null data\n",
    "df_t.fillna(0, inplace=True)\n",
    "\n",
    "df_test = df_t.drop([\"failure\"],axis=1).apply(pd.to_numeric)\n",
    "df_test_target = pd.DataFrame(df_t[\"failure\"]).apply(pd.to_numeric)"
   ]
  },
  {
   "cell_type": "markdown",
   "metadata": {},
   "source": [
    "### 2. Train with CPU\n",
    "\n",
    "XGBoost training with CPU (`params[tree_method] = 'hist'`), using a Pandas `Dataframe` loaded into `xgb.DMatrix`. For more information, check out [this page in the XGBoost Documentation](https://xgboost.readthedocs.io/en/latest/python/python_intro.html)."
   ]
  },
  {
   "cell_type": "code",
   "execution_count": 5,
   "metadata": {},
   "outputs": [
    {
     "name": "stdout",
     "output_type": "stream",
     "text": [
      "Model name:          Intel(R) Core(TM) i5-8500 CPU @ 3.00GHz\r\n"
     ]
    }
   ],
   "source": [
    "!lscpu | grep 'Model name:'"
   ]
  },
  {
   "cell_type": "code",
   "execution_count": 6,
   "metadata": {
    "ExecuteTime": {
     "end_time": "2018-12-23T14:38:13.023281Z",
     "start_time": "2018-12-23T14:37:29.020880Z"
    }
   },
   "outputs": [
    {
     "name": "stdout",
     "output_type": "stream",
     "text": [
      "[03:41:53] Tree method is selected to be 'hist', which uses a single updater grow_fast_histmaker.\n",
      "[0]\ttrain-rmse:0.450007\teval-rmse:0.450008\n",
      "[1]\ttrain-rmse:0.405014\teval-rmse:0.405017\n",
      "[2]\ttrain-rmse:0.364522\teval-rmse:0.364526\n",
      "[3]\ttrain-rmse:0.328079\teval-rmse:0.328086\n",
      "[4]\ttrain-rmse:0.295281\teval-rmse:0.295294\n",
      "[5]\ttrain-rmse:0.265764\teval-rmse:0.265779\n",
      "[6]\ttrain-rmse:0.239199\teval-rmse:0.239218\n",
      "[7]\ttrain-rmse:0.215292\teval-rmse:0.215315\n",
      "[8]\ttrain-rmse:0.193778\teval-rmse:0.193805\n",
      "[9]\ttrain-rmse:0.174416\teval-rmse:0.174448\n",
      "[10]\ttrain-rmse:0.156991\teval-rmse:0.15703\n",
      "[11]\ttrain-rmse:0.141311\teval-rmse:0.141355\n",
      "[12]\ttrain-rmse:0.1272\teval-rmse:0.127252\n",
      "[13]\ttrain-rmse:0.114503\teval-rmse:0.114563\n",
      "[14]\ttrain-rmse:0.103076\teval-rmse:0.10315\n",
      "[15]\ttrain-rmse:0.092794\teval-rmse:0.092885\n",
      "[16]\ttrain-rmse:0.08354\teval-rmse:0.083653\n",
      "[17]\ttrain-rmse:0.075215\teval-rmse:0.07535\n",
      "[18]\ttrain-rmse:0.067726\teval-rmse:0.067882\n",
      "[19]\ttrain-rmse:0.060989\teval-rmse:0.06117\n",
      "[20]\ttrain-rmse:0.054925\teval-rmse:0.055139\n",
      "[21]\ttrain-rmse:0.04947\teval-rmse:0.049725\n",
      "[22]\ttrain-rmse:0.044564\teval-rmse:0.044863\n",
      "[23]\ttrain-rmse:0.040152\teval-rmse:0.040501\n",
      "[24]\ttrain-rmse:0.036184\teval-rmse:0.036591\n",
      "[25]\ttrain-rmse:0.032617\teval-rmse:0.033091\n",
      "[26]\ttrain-rmse:0.02941\teval-rmse:0.029962\n",
      "[27]\ttrain-rmse:0.026527\teval-rmse:0.027173\n",
      "[28]\ttrain-rmse:0.023938\teval-rmse:0.024693\n",
      "[29]\ttrain-rmse:0.02161\teval-rmse:0.022481\n",
      "[30]\ttrain-rmse:0.01952\teval-rmse:0.020516\n",
      "[31]\ttrain-rmse:0.017645\teval-rmse:0.018786\n",
      "[32]\ttrain-rmse:0.015961\teval-rmse:0.01727\n",
      "[33]\ttrain-rmse:0.014453\teval-rmse:0.015947\n",
      "[34]\ttrain-rmse:0.013099\teval-rmse:0.014806\n",
      "[35]\ttrain-rmse:0.011882\teval-rmse:0.013822\n",
      "[36]\ttrain-rmse:0.010791\teval-rmse:0.012979\n",
      "[37]\ttrain-rmse:0.009816\teval-rmse:0.012269\n",
      "[38]\ttrain-rmse:0.008944\teval-rmse:0.011674\n",
      "[39]\ttrain-rmse:0.00817\teval-rmse:0.011181\n",
      "[40]\ttrain-rmse:0.007482\teval-rmse:0.010774\n",
      "[41]\ttrain-rmse:0.006853\teval-rmse:0.010465\n",
      "[42]\ttrain-rmse:0.006287\teval-rmse:0.01025\n",
      "[43]\ttrain-rmse:0.005801\teval-rmse:0.010047\n",
      "[44]\ttrain-rmse:0.005338\teval-rmse:0.009899\n",
      "[45]\ttrain-rmse:0.004915\teval-rmse:0.009859\n",
      "[46]\ttrain-rmse:0.004533\teval-rmse:0.00985\n",
      "[47]\ttrain-rmse:0.004187\teval-rmse:0.009887\n",
      "[48]\ttrain-rmse:0.003872\teval-rmse:0.009957\n",
      "[49]\ttrain-rmse:0.003596\teval-rmse:0.010044\n"
     ]
    }
   ],
   "source": [
    "start_time = time.time()\n",
    "\n",
    "xgtrain = xgb.DMatrix(df_train, df_train_target)\n",
    "xgeval = xgb.DMatrix(df_test, df_test_target)\n",
    "\n",
    "params = {'tree_method': 'hist', 'max_depth': 24, 'learning_rate': 0.1, 'silent': 1}\n",
    "bst = xgb.train(params, xgtrain, 50, evals=[(xgtrain, \"train\"), (xgeval, \"eval\")])\n",
    "\n",
    "timetaken_cpu = time.time() - start_time\n",
    "\n",
    "# free up memory\n",
    "del xgtrain\n",
    "del bst"
   ]
  },
  {
   "cell_type": "markdown",
   "metadata": {},
   "source": [
    "### 3. Train with GPU\n",
    "\n",
    "To use GPU, we set `params[tree_method] = 'gpu_hist'` and also (optionally) load the Pandas `Dataframe` into cuDF Dataframe (Python object type `cudf.dataframe.dataframe.DataFrame`)."
   ]
  },
  {
   "cell_type": "code",
   "execution_count": 7,
   "metadata": {
    "ExecuteTime": {
     "end_time": "2018-12-23T14:38:14.073981Z",
     "start_time": "2018-12-23T14:38:13.024721Z"
    }
   },
   "outputs": [],
   "source": [
    "# load into cuDF Dataframe\n",
    "\n",
    "gdf_train = cudf.DataFrame.from_pandas(df_train)\n",
    "gdf_train_target = cudf.DataFrame.from_pandas(df_train_target)\n",
    "\n",
    "gdf_test = cudf.DataFrame.from_pandas(df_test)\n",
    "gdf_test_target = cudf.DataFrame.from_pandas(df_test_target)"
   ]
  },
  {
   "cell_type": "code",
   "execution_count": 8,
   "metadata": {
    "ExecuteTime": {
     "end_time": "2018-12-23T14:38:28.652178Z",
     "start_time": "2018-12-23T14:38:14.075351Z"
    }
   },
   "outputs": [
    {
     "name": "stdout",
     "output_type": "stream",
     "text": [
      "[0]\ttrain-rmse:0.450007\teval-rmse:0.450008\n",
      "[1]\ttrain-rmse:0.405014\teval-rmse:0.405017\n",
      "[2]\ttrain-rmse:0.364521\teval-rmse:0.364526\n",
      "[3]\ttrain-rmse:0.328079\teval-rmse:0.328086\n",
      "[4]\ttrain-rmse:0.29528\teval-rmse:0.295293\n",
      "[5]\ttrain-rmse:0.265763\teval-rmse:0.265781\n",
      "[6]\ttrain-rmse:0.239198\teval-rmse:0.239221\n",
      "[7]\ttrain-rmse:0.215291\teval-rmse:0.215321\n",
      "[8]\ttrain-rmse:0.193776\teval-rmse:0.19381\n",
      "[9]\ttrain-rmse:0.174413\teval-rmse:0.174453\n",
      "[10]\ttrain-rmse:0.156989\teval-rmse:0.157034\n",
      "[11]\ttrain-rmse:0.141309\teval-rmse:0.141362\n",
      "[12]\ttrain-rmse:0.127197\teval-rmse:0.127262\n",
      "[13]\ttrain-rmse:0.114498\teval-rmse:0.114575\n",
      "[14]\ttrain-rmse:0.103073\teval-rmse:0.103163\n",
      "[15]\ttrain-rmse:0.092791\teval-rmse:0.092898\n",
      "[16]\ttrain-rmse:0.083539\teval-rmse:0.083664\n",
      "[17]\ttrain-rmse:0.075214\teval-rmse:0.075359\n",
      "[18]\ttrain-rmse:0.067725\teval-rmse:0.067893\n",
      "[19]\ttrain-rmse:0.060988\teval-rmse:0.061179\n",
      "[20]\ttrain-rmse:0.054928\teval-rmse:0.055149\n",
      "[21]\ttrain-rmse:0.049477\teval-rmse:0.049731\n",
      "[22]\ttrain-rmse:0.044573\teval-rmse:0.044866\n",
      "[23]\ttrain-rmse:0.040164\teval-rmse:0.040499\n",
      "[24]\ttrain-rmse:0.036199\teval-rmse:0.036585\n",
      "[25]\ttrain-rmse:0.032632\teval-rmse:0.03308\n",
      "[26]\ttrain-rmse:0.029424\teval-rmse:0.029947\n",
      "[27]\ttrain-rmse:0.026544\teval-rmse:0.027148\n",
      "[28]\ttrain-rmse:0.023953\teval-rmse:0.024644\n",
      "[29]\ttrain-rmse:0.021625\teval-rmse:0.022425\n",
      "[30]\ttrain-rmse:0.019533\teval-rmse:0.020445\n",
      "[31]\ttrain-rmse:0.017659\teval-rmse:0.018692\n",
      "[32]\ttrain-rmse:0.015973\teval-rmse:0.017139\n",
      "[33]\ttrain-rmse:0.014458\teval-rmse:0.015774\n",
      "[34]\ttrain-rmse:0.0131\teval-rmse:0.01458\n",
      "[35]\ttrain-rmse:0.011881\teval-rmse:0.013536\n",
      "[36]\ttrain-rmse:0.010794\teval-rmse:0.012636\n",
      "[37]\ttrain-rmse:0.009818\teval-rmse:0.011861\n",
      "[38]\ttrain-rmse:0.008948\teval-rmse:0.0112\n",
      "[39]\ttrain-rmse:0.008169\teval-rmse:0.010634\n",
      "[40]\ttrain-rmse:0.007476\teval-rmse:0.010159\n",
      "[41]\ttrain-rmse:0.006835\teval-rmse:0.009776\n",
      "[42]\ttrain-rmse:0.006266\teval-rmse:0.009475\n",
      "[43]\ttrain-rmse:0.005755\teval-rmse:0.00921\n",
      "[44]\ttrain-rmse:0.005296\teval-rmse:0.009018\n",
      "[45]\ttrain-rmse:0.004874\teval-rmse:0.008882\n",
      "[46]\ttrain-rmse:0.004509\teval-rmse:0.008795\n",
      "[47]\ttrain-rmse:0.004182\teval-rmse:0.008702\n",
      "[48]\ttrain-rmse:0.003883\teval-rmse:0.008679\n",
      "[49]\ttrain-rmse:0.00362\teval-rmse:0.008703\n"
     ]
    }
   ],
   "source": [
    "start_time = time.time()\n",
    "\n",
    "xgtrain = xgb.DMatrix(gdf_train, gdf_train_target)\n",
    "xgeval = xgb.DMatrix(gdf_test, gdf_test_target)\n",
    "\n",
    "params = {'tree_method': 'gpu_hist', 'max_depth': 24, 'learning_rate': 0.1, 'silent': 1}\n",
    "bst = xgb.train(params, xgtrain, 50, evals=[(xgtrain, \"train\"), (xgeval, \"eval\")])\n",
    "\n",
    "timetaken_gpu = time.time() - start_time"
   ]
  },
  {
   "cell_type": "code",
   "execution_count": 9,
   "metadata": {
    "ExecuteTime": {
     "end_time": "2018-12-23T14:38:29.532366Z",
     "start_time": "2018-12-23T14:38:28.653601Z"
    }
   },
   "outputs": [
    {
     "name": "stdout",
     "output_type": "stream",
     "text": [
      "Check GPU memory usage\n",
      "\u001b[1m\u001b[37mf1f2465685ad\u001b[m  Mon Dec 24 03:42:48 2018\n",
      "\u001b[36m[0]\u001b[m \u001b[34mGeForce GTX 1080 Ti\u001b[m |\u001b[31m 45'C\u001b[m, \u001b[32m  3 %\u001b[m | \u001b[36m\u001b[1m\u001b[33m 9776\u001b[m / \u001b[33m11175\u001b[m MB |\n"
     ]
    }
   ],
   "source": [
    "print(\"Check GPU memory usage\")\n",
    "!gpustat\n",
    "\n",
    "# free up memory\n",
    "del xgtrain\n",
    "del bst"
   ]
  },
  {
   "cell_type": "markdown",
   "metadata": {},
   "source": [
    "### 4. Results\n",
    "\n",
    "We see a significant speed-up when we use the RAPIDS stack."
   ]
  },
  {
   "cell_type": "code",
   "execution_count": 10,
   "metadata": {
    "ExecuteTime": {
     "end_time": "2018-12-23T14:38:29.537586Z",
     "start_time": "2018-12-23T14:38:29.534001Z"
    }
   },
   "outputs": [
    {
     "name": "stdout",
     "output_type": "stream",
     "text": [
      "CPU Time Taken: 45.4\n",
      "GPU Time Taken: 15.1\n",
      "Speed-up with RAPIDS: 300.0 %\n"
     ]
    }
   ],
   "source": [
    "print(\"CPU Time Taken:\", round(timetaken_cpu,1))\n",
    "print(\"GPU Time Taken:\", round(timetaken_gpu,1))\n",
    "print(\"Speed-up with RAPIDS:\", round(timetaken_cpu/timetaken_gpu*100,1), \"%\")"
   ]
  },
  {
   "cell_type": "code",
   "execution_count": null,
   "metadata": {},
   "outputs": [],
   "source": []
  }
 ],
 "metadata": {
  "kernelspec": {
   "display_name": "Python 3",
   "language": "python",
   "name": "python3"
  },
  "language_info": {
   "codemirror_mode": {
    "name": "ipython",
    "version": 3
   },
   "file_extension": ".py",
   "mimetype": "text/x-python",
   "name": "python",
   "nbconvert_exporter": "python",
   "pygments_lexer": "ipython3",
   "version": "3.6.7"
  }
 },
 "nbformat": 4,
 "nbformat_minor": 2
}
