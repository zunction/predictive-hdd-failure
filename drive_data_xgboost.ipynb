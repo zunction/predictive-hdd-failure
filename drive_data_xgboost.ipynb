{
 "cells": [
  {
   "cell_type": "markdown",
   "metadata": {},
   "source": [
    "## Predicting drive failure with XGBoost and RAPIDS\n",
    "\n",
    "**Dataset**: Hard disk SMART data and failure dataset from Backblaze ([More information](https://www.backblaze.com/b2/hard-drive-test-data.html))\n",
    "\n",
    "**Task**: Predict hard disk failure with RAPIDS"
   ]
  },
  {
   "cell_type": "code",
   "execution_count": 1,
   "metadata": {},
   "outputs": [
    {
     "name": "stdout",
     "output_type": "stream",
     "text": [
      "Collecting tqdm\n",
      "\u001b[?25l  Downloading https://files.pythonhosted.org/packages/6c/4b/c38b5144cf167c4f52288517436ccafefe9dc01b8d1c190e18a6b154cd4a/tqdm-4.31.1-py2.py3-none-any.whl (48kB)\n",
      "\u001b[K     |################################| 51kB 6.4MB/s \n",
      "\u001b[?25hRequirement already satisfied: matplotlib in /conda/envs/rapids/lib/python3.6/site-packages (3.0.3)\n",
      "Requirement already satisfied: numpy>=1.10.0 in /conda/envs/rapids/lib/python3.6/site-packages (from matplotlib) (1.16.2)\n",
      "Requirement already satisfied: cycler>=0.10 in /conda/envs/rapids/lib/python3.6/site-packages (from matplotlib) (0.10.0)\n",
      "Requirement already satisfied: kiwisolver>=1.0.1 in /conda/envs/rapids/lib/python3.6/site-packages (from matplotlib) (1.1.0)\n",
      "Requirement already satisfied: pyparsing!=2.0.4,!=2.1.2,!=2.1.6,>=2.0.1 in /conda/envs/rapids/lib/python3.6/site-packages (from matplotlib) (2.4.0)\n",
      "Requirement already satisfied: python-dateutil>=2.1 in /conda/envs/rapids/lib/python3.6/site-packages (from matplotlib) (2.8.0)\n",
      "Requirement already satisfied: six in /conda/envs/rapids/lib/python3.6/site-packages (from cycler>=0.10->matplotlib) (1.12.0)\n",
      "Requirement already satisfied: setuptools in /conda/envs/rapids/lib/python3.6/site-packages (from kiwisolver>=1.0.1->matplotlib) (41.0.1)\n",
      "Installing collected packages: tqdm\n",
      "Successfully installed tqdm-4.31.1\n"
     ]
    }
   ],
   "source": [
    "! pip install tqdm matplotlib gpustat"
   ]
  },
  {
   "cell_type": "code",
   "execution_count": 2,
   "metadata": {
    "ExecuteTime": {
     "end_time": "2018-12-23T14:36:50.489370Z",
     "start_time": "2018-12-23T14:36:49.322494Z"
    }
   },
   "outputs": [],
   "source": [
    "import time\n",
    "import itertools\n",
    "import numpy as np\n",
    "import pandas as pd\n",
    "from tqdm import tqdm_notebook\n",
    "\n",
    "from sklearn.metrics import *\n",
    "import matplotlib.pyplot as plt\n",
    "%matplotlib inline\n",
    "\n",
    "# RAPIDS\n",
    "import cudf\n",
    "import xgboost as xgb"
   ]
  },
  {
   "cell_type": "code",
   "execution_count": 3,
   "metadata": {},
   "outputs": [
    {
     "name": "stdout",
     "output_type": "stream",
     "text": [
      "--2019-05-13 03:46:00--  https://s3-ap-southeast-1.amazonaws.com/deeplearning-mat/hdd_test_data/train.csv\n",
      "Resolving s3-ap-southeast-1.amazonaws.com (s3-ap-southeast-1.amazonaws.com)... 52.219.40.81\n",
      "Connecting to s3-ap-southeast-1.amazonaws.com (s3-ap-southeast-1.amazonaws.com)|52.219.40.81|:443... connected.\n",
      "HTTP request sent, awaiting response... 200 OK\n",
      "Length: 23739943 (23M) [text/csv]\n",
      "Saving to: 'train.csv'\n",
      "\n",
      "train.csv           100%[===================>]  22.64M  8.39MB/s    in 2.7s    \n",
      "\n",
      "2019-05-13 03:46:04 (8.39 MB/s) - 'train.csv' saved [23739943/23739943]\n",
      "\n",
      "--2019-05-13 03:46:05--  https://s3-ap-southeast-1.amazonaws.com/deeplearning-mat/hdd_test_data/eval.csv\n",
      "Resolving s3-ap-southeast-1.amazonaws.com (s3-ap-southeast-1.amazonaws.com)... 52.219.40.81\n",
      "Connecting to s3-ap-southeast-1.amazonaws.com (s3-ap-southeast-1.amazonaws.com)|52.219.40.81|:443... connected.\n",
      "HTTP request sent, awaiting response... 200 OK\n",
      "Length: 6892135 (6.6M) [text/csv]\n",
      "Saving to: 'eval.csv'\n",
      "\n",
      "eval.csv            100%[===================>]   6.57M  4.63MB/s    in 1.4s    \n",
      "\n",
      "2019-05-13 03:46:07 (4.63 MB/s) - 'eval.csv' saved [6892135/6892135]\n",
      "\n"
     ]
    }
   ],
   "source": [
    "# download our training and evaluation data\n",
    "!wget -nc https://s3-ap-southeast-1.amazonaws.com/deeplearning-mat/hdd_test_data/train.csv\n",
    "!wget -nc https://s3-ap-southeast-1.amazonaws.com/deeplearning-mat/hdd_test_data/eval.csv"
   ]
  },
  {
   "cell_type": "markdown",
   "metadata": {},
   "source": [
    "### 1. Load Data\n",
    "\n",
    "#### Training Data\n",
    "\n",
    "Use Pandas to load training data from CSV. This consists of the pre-processed drive data from **January 2015** to **September 2018**."
   ]
  },
  {
   "cell_type": "code",
   "execution_count": 4,
   "metadata": {
    "ExecuteTime": {
     "end_time": "2018-12-23T14:37:13.856311Z",
     "start_time": "2018-12-23T14:36:50.491244Z"
    }
   },
   "outputs": [
    {
     "name": "stdout",
     "output_type": "stream",
     "text": [
      "<class 'pandas.core.frame.DataFrame'>\n",
      "RangeIndex: 16770 entries, 0 to 16769\n",
      "Columns: 318 entries, failure to feat314\n",
      "dtypes: float64(315), int64(3)\n",
      "memory usage: 40.7 MB\n"
     ]
    }
   ],
   "source": [
    "df = pd.read_csv(\"train.csv\")\n",
    "df.info()"
   ]
  },
  {
   "cell_type": "markdown",
   "metadata": {},
   "source": [
    "Split into features (`df_train`) and labels(`df_target`), where each is a Pandas `Dataframe`."
   ]
  },
  {
   "cell_type": "code",
   "execution_count": 5,
   "metadata": {
    "ExecuteTime": {
     "end_time": "2018-12-23T14:37:16.597909Z",
     "start_time": "2018-12-23T14:37:13.857591Z"
    }
   },
   "outputs": [],
   "source": [
    "df_train = df.drop([\"failure\"],axis=1).apply(pd.to_numeric).astype(np.float32)\n",
    "df_train_target = pd.DataFrame(df[\"failure\"]).apply(pd.to_numeric)"
   ]
  },
  {
   "cell_type": "markdown",
   "metadata": {},
   "source": [
    "#### Evaluation Data\n",
    "\n",
    "Do the same thing to load evaluation data from CSV.\n",
    "\n",
    "In our case, this consists of the pre-processed drive data from **October 2018 to December 2018**."
   ]
  },
  {
   "cell_type": "code",
   "execution_count": 6,
   "metadata": {
    "ExecuteTime": {
     "end_time": "2018-12-23T14:37:29.019045Z",
     "start_time": "2018-12-23T14:37:16.599916Z"
    }
   },
   "outputs": [
    {
     "name": "stdout",
     "output_type": "stream",
     "text": [
      "<class 'pandas.core.frame.DataFrame'>\n",
      "RangeIndex: 4527 entries, 0 to 4526\n",
      "Columns: 318 entries, failure to feat314\n",
      "dtypes: float64(315), int64(3)\n",
      "memory usage: 11.0 MB\n"
     ]
    }
   ],
   "source": [
    "df_t = pd.read_csv(\"eval.csv\")\n",
    "df_t.info()"
   ]
  },
  {
   "cell_type": "code",
   "execution_count": 7,
   "metadata": {},
   "outputs": [],
   "source": [
    "df_test = df_t.drop([\"failure\"],axis=1).apply(pd.to_numeric).astype(np.float32)\n",
    "df_test_target = pd.DataFrame(df_t[\"failure\"]).apply(pd.to_numeric)"
   ]
  },
  {
   "cell_type": "markdown",
   "metadata": {},
   "source": [
    "### 2. Model Parameters"
   ]
  },
  {
   "cell_type": "code",
   "execution_count": 8,
   "metadata": {},
   "outputs": [],
   "source": [
    "MAX_TREE_DEPTH = 10\n",
    "TREE_METHOD = 'hist'\n",
    "ITERATIONS = 120\n",
    "SUBSAMPLE = 0.8\n",
    "REGULARIZATION = 1.4\n",
    "GAMMA = 0.4\n",
    "POS_WEIGHT = 0.8\n",
    "EARLY_STOP = None"
   ]
  },
  {
   "cell_type": "markdown",
   "metadata": {},
   "source": [
    "### 3. Train with CPU\n",
    "\n",
    "XGBoost training with CPU (`params[tree_method] = 'hist'`), using a Pandas `Dataframe` loaded into `xgb.DMatrix`. For more information, check out [this page in the XGBoost Documentation](https://xgboost.readthedocs.io/en/latest/python/python_intro.html).\n",
    "\n",
    "As we can see, training with even a high-end Intel Xeon CPU is pretty slow!"
   ]
  },
  {
   "cell_type": "code",
   "execution_count": 9,
   "metadata": {},
   "outputs": [
    {
     "name": "stdout",
     "output_type": "stream",
     "text": [
      "Model name:            Intel(R) Xeon(R) CPU E5-2698 v3 @ 2.30GHz\n",
      "CPU(s):                64\n",
      "On-line CPU(s) list:   0-31\n",
      "Off-line CPU(s) list:  32-63\n",
      "NUMA node0 CPU(s):     0-15\n",
      "NUMA node1 CPU(s):     16-31\n"
     ]
    }
   ],
   "source": [
    "!lscpu | grep 'Model name:'\n",
    "!lscpu | grep 'CPU(s)'"
   ]
  },
  {
   "cell_type": "code",
   "execution_count": 10,
   "metadata": {},
   "outputs": [
    {
     "name": "stdout",
     "output_type": "stream",
     "text": [
      "[0]\ttrain-rmse:0.484645\teval-rmse:0.482874\n",
      "[1]\ttrain-rmse:0.470413\teval-rmse:0.466816\n",
      "[2]\ttrain-rmse:0.457102\teval-rmse:0.452582\n",
      "[3]\ttrain-rmse:0.444752\teval-rmse:0.437972\n",
      "[4]\ttrain-rmse:0.433335\teval-rmse:0.42463\n",
      "[5]\ttrain-rmse:0.422742\teval-rmse:0.412813\n",
      "[6]\ttrain-rmse:0.412927\teval-rmse:0.401007\n",
      "[7]\ttrain-rmse:0.403715\teval-rmse:0.390577\n",
      "[8]\ttrain-rmse:0.395206\teval-rmse:0.380392\n",
      "[9]\ttrain-rmse:0.387268\teval-rmse:0.37212\n",
      "[10]\ttrain-rmse:0.37999\teval-rmse:0.362625\n",
      "[11]\ttrain-rmse:0.373443\teval-rmse:0.353973\n",
      "[12]\ttrain-rmse:0.367512\teval-rmse:0.346046\n",
      "[13]\ttrain-rmse:0.36188\teval-rmse:0.338827\n",
      "[14]\ttrain-rmse:0.356754\teval-rmse:0.331773\n",
      "[15]\ttrain-rmse:0.352014\teval-rmse:0.32522\n",
      "[16]\ttrain-rmse:0.347603\teval-rmse:0.319345\n",
      "[17]\ttrain-rmse:0.343501\teval-rmse:0.313636\n",
      "[18]\ttrain-rmse:0.339799\teval-rmse:0.308468\n",
      "[19]\ttrain-rmse:0.336476\teval-rmse:0.303938\n",
      "[20]\ttrain-rmse:0.333339\teval-rmse:0.299364\n",
      "[21]\ttrain-rmse:0.330495\teval-rmse:0.296466\n",
      "[22]\ttrain-rmse:0.327894\teval-rmse:0.293518\n",
      "[23]\ttrain-rmse:0.325406\teval-rmse:0.289653\n",
      "[24]\ttrain-rmse:0.323174\teval-rmse:0.285977\n",
      "[25]\ttrain-rmse:0.321189\teval-rmse:0.282571\n",
      "[26]\ttrain-rmse:0.31931\teval-rmse:0.279909\n",
      "[27]\ttrain-rmse:0.317571\teval-rmse:0.277247\n",
      "[28]\ttrain-rmse:0.31598\teval-rmse:0.274839\n",
      "[29]\ttrain-rmse:0.314394\teval-rmse:0.27253\n",
      "[30]\ttrain-rmse:0.3128\teval-rmse:0.270696\n",
      "[31]\ttrain-rmse:0.311629\teval-rmse:0.268615\n",
      "[32]\ttrain-rmse:0.310316\teval-rmse:0.266689\n",
      "[33]\ttrain-rmse:0.309099\teval-rmse:0.265805\n",
      "[34]\ttrain-rmse:0.308237\teval-rmse:0.263917\n",
      "[35]\ttrain-rmse:0.307267\teval-rmse:0.262265\n",
      "[36]\ttrain-rmse:0.306274\teval-rmse:0.26086\n",
      "[37]\ttrain-rmse:0.305465\teval-rmse:0.259479\n",
      "[38]\ttrain-rmse:0.304754\teval-rmse:0.258081\n",
      "[39]\ttrain-rmse:0.304197\teval-rmse:0.257276\n",
      "[40]\ttrain-rmse:0.303541\teval-rmse:0.256096\n",
      "[41]\ttrain-rmse:0.302849\teval-rmse:0.255097\n",
      "[42]\ttrain-rmse:0.302289\teval-rmse:0.254011\n",
      "[43]\ttrain-rmse:0.301714\teval-rmse:0.253121\n",
      "[44]\ttrain-rmse:0.301004\teval-rmse:0.252266\n",
      "[45]\ttrain-rmse:0.300549\teval-rmse:0.251467\n",
      "[46]\ttrain-rmse:0.300197\teval-rmse:0.250595\n",
      "[47]\ttrain-rmse:0.299399\teval-rmse:0.250563\n",
      "[48]\ttrain-rmse:0.299\teval-rmse:0.249881\n",
      "[49]\ttrain-rmse:0.298576\teval-rmse:0.249284\n",
      "[50]\ttrain-rmse:0.297973\teval-rmse:0.24876\n",
      "[51]\ttrain-rmse:0.297732\teval-rmse:0.248073\n",
      "[52]\ttrain-rmse:0.297396\teval-rmse:0.24755\n",
      "[53]\ttrain-rmse:0.296972\teval-rmse:0.247108\n",
      "[54]\ttrain-rmse:0.296574\teval-rmse:0.246966\n",
      "[55]\ttrain-rmse:0.296084\teval-rmse:0.246816\n",
      "[56]\ttrain-rmse:0.295835\teval-rmse:0.246383\n",
      "[57]\ttrain-rmse:0.295439\teval-rmse:0.24615\n",
      "[58]\ttrain-rmse:0.294948\teval-rmse:0.246007\n",
      "[59]\ttrain-rmse:0.294612\teval-rmse:0.245938\n",
      "[60]\ttrain-rmse:0.294221\teval-rmse:0.245827\n",
      "[61]\ttrain-rmse:0.293727\teval-rmse:0.245763\n",
      "[62]\ttrain-rmse:0.293204\teval-rmse:0.245789\n",
      "[63]\ttrain-rmse:0.292936\teval-rmse:0.245875\n",
      "[64]\ttrain-rmse:0.292369\teval-rmse:0.245685\n",
      "[65]\ttrain-rmse:0.292102\teval-rmse:0.245547\n",
      "[66]\ttrain-rmse:0.291604\teval-rmse:0.245373\n",
      "[67]\ttrain-rmse:0.291097\teval-rmse:0.245268\n",
      "[68]\ttrain-rmse:0.290473\teval-rmse:0.245527\n",
      "[69]\ttrain-rmse:0.290376\teval-rmse:0.245077\n",
      "[70]\ttrain-rmse:0.289927\teval-rmse:0.244978\n",
      "[71]\ttrain-rmse:0.28961\teval-rmse:0.24462\n",
      "[72]\ttrain-rmse:0.289199\teval-rmse:0.244854\n",
      "[73]\ttrain-rmse:0.288857\teval-rmse:0.244565\n",
      "[74]\ttrain-rmse:0.288643\teval-rmse:0.244493\n",
      "[75]\ttrain-rmse:0.288553\teval-rmse:0.244653\n",
      "[76]\ttrain-rmse:0.288085\teval-rmse:0.244668\n",
      "[77]\ttrain-rmse:0.287735\teval-rmse:0.244262\n",
      "[78]\ttrain-rmse:0.287308\teval-rmse:0.244498\n",
      "[79]\ttrain-rmse:0.286659\teval-rmse:0.244785\n",
      "[80]\ttrain-rmse:0.286001\teval-rmse:0.244636\n",
      "[81]\ttrain-rmse:0.28538\teval-rmse:0.244669\n",
      "[82]\ttrain-rmse:0.285041\teval-rmse:0.244465\n",
      "[83]\ttrain-rmse:0.284575\teval-rmse:0.24473\n",
      "[84]\ttrain-rmse:0.284408\teval-rmse:0.244571\n",
      "[85]\ttrain-rmse:0.284168\teval-rmse:0.244395\n",
      "[86]\ttrain-rmse:0.283883\teval-rmse:0.244356\n",
      "[87]\ttrain-rmse:0.283644\teval-rmse:0.243994\n",
      "[88]\ttrain-rmse:0.283214\teval-rmse:0.244035\n",
      "[89]\ttrain-rmse:0.283008\teval-rmse:0.243817\n",
      "[90]\ttrain-rmse:0.282569\teval-rmse:0.243825\n",
      "[91]\ttrain-rmse:0.282422\teval-rmse:0.243755\n",
      "[92]\ttrain-rmse:0.281949\teval-rmse:0.243827\n",
      "[93]\ttrain-rmse:0.281715\teval-rmse:0.243696\n",
      "[94]\ttrain-rmse:0.281503\teval-rmse:0.243701\n",
      "[95]\ttrain-rmse:0.280989\teval-rmse:0.243321\n",
      "[96]\ttrain-rmse:0.280749\teval-rmse:0.243581\n",
      "[97]\ttrain-rmse:0.280338\teval-rmse:0.243977\n",
      "[98]\ttrain-rmse:0.279963\teval-rmse:0.244017\n",
      "[99]\ttrain-rmse:0.279684\teval-rmse:0.244101\n",
      "[100]\ttrain-rmse:0.278894\teval-rmse:0.244188\n",
      "[101]\ttrain-rmse:0.278636\teval-rmse:0.24421\n",
      "[102]\ttrain-rmse:0.278229\teval-rmse:0.244097\n",
      "[103]\ttrain-rmse:0.27768\teval-rmse:0.243916\n",
      "[104]\ttrain-rmse:0.277204\teval-rmse:0.244078\n",
      "[105]\ttrain-rmse:0.276684\teval-rmse:0.244017\n",
      "[106]\ttrain-rmse:0.276414\teval-rmse:0.243961\n",
      "[107]\ttrain-rmse:0.27591\teval-rmse:0.244125\n",
      "[108]\ttrain-rmse:0.275523\teval-rmse:0.24419\n",
      "[109]\ttrain-rmse:0.275025\teval-rmse:0.244503\n",
      "[110]\ttrain-rmse:0.274746\teval-rmse:0.24429\n",
      "[111]\ttrain-rmse:0.274427\teval-rmse:0.244582\n",
      "[112]\ttrain-rmse:0.274236\teval-rmse:0.244556\n",
      "[113]\ttrain-rmse:0.274062\teval-rmse:0.244589\n",
      "[114]\ttrain-rmse:0.273708\teval-rmse:0.244958\n",
      "[115]\ttrain-rmse:0.27331\teval-rmse:0.244992\n",
      "[116]\ttrain-rmse:0.272904\teval-rmse:0.245078\n",
      "[117]\ttrain-rmse:0.272643\teval-rmse:0.245158\n",
      "[118]\ttrain-rmse:0.272528\teval-rmse:0.245199\n",
      "[119]\ttrain-rmse:0.272445\teval-rmse:0.245143\n"
     ]
    }
   ],
   "source": [
    "start_time = time.time()\n",
    "\n",
    "xgtrain = xgb.DMatrix(df_train, df_train_target)\n",
    "xgeval = xgb.DMatrix(df_test, df_test_target)\n",
    "\n",
    "params = {'tree_method': TREE_METHOD, 'max_depth': MAX_TREE_DEPTH, 'alpha': REGULARIZATION,\n",
    "          'gamma': GAMMA, 'subsample': SUBSAMPLE, 'scale_pos_weight': POS_WEIGHT, 'learning_rate': 0.05, 'silent': 1}\n",
    "\n",
    "bst = xgb.train(params, xgtrain, ITERATIONS, evals=[(xgtrain, \"train\"), (xgeval, \"eval\")],\n",
    "                early_stopping_rounds=EARLY_STOP)\n",
    "\n",
    "timetaken_cpu = time.time() - start_time\n",
    "\n",
    "# free up memory\n",
    "del xgtrain\n",
    "del bst"
   ]
  },
  {
   "cell_type": "code",
   "execution_count": 11,
   "metadata": {},
   "outputs": [
    {
     "name": "stdout",
     "output_type": "stream",
     "text": [
      "CPU Time Taken:\n",
      " 30.0\n"
     ]
    }
   ],
   "source": [
    "print(\"CPU Time Taken:\\n\", round(timetaken_cpu,1))"
   ]
  },
  {
   "cell_type": "markdown",
   "metadata": {},
   "source": [
    "### 4. Train with GPU\n",
    "\n",
    "To use GPU, we set `params[tree_method] = 'gpu_hist'`. Use full RAPIDS stack by using XGBoost with cuDF for additional speedup. To do this, we load the Pandas `Dataframe` into a cuDF Dataframe (Python object type `cudf.dataframe.dataframe.DataFrame`)."
   ]
  },
  {
   "cell_type": "code",
   "execution_count": 12,
   "metadata": {
    "ExecuteTime": {
     "end_time": "2018-12-23T14:38:14.073981Z",
     "start_time": "2018-12-23T14:38:13.024721Z"
    }
   },
   "outputs": [
    {
     "name": "stdout",
     "output_type": "stream",
     "text": [
      "Moved data to GPU\n"
     ]
    }
   ],
   "source": [
    "# load into cuDF Dataframe\n",
    "\n",
    "gdf_train = cudf.DataFrame.from_pandas(df_train)\n",
    "gdf_train_target = cudf.DataFrame.from_pandas(df_train_target)\n",
    "\n",
    "gdf_eval = cudf.DataFrame.from_pandas(df_test)\n",
    "gdf_eval_target = cudf.DataFrame.from_pandas(df_test_target)\n",
    "\n",
    "print(\"Moved data to GPU\")"
   ]
  },
  {
   "cell_type": "code",
   "execution_count": 13,
   "metadata": {
    "ExecuteTime": {
     "end_time": "2018-12-23T14:38:28.652178Z",
     "start_time": "2018-12-23T14:38:14.075351Z"
    }
   },
   "outputs": [
    {
     "name": "stdout",
     "output_type": "stream",
     "text": [
      "[0]\ttrain-rmse:0.484504\teval-rmse:0.482751\n",
      "[1]\ttrain-rmse:0.470022\teval-rmse:0.466864\n",
      "[2]\ttrain-rmse:0.456599\teval-rmse:0.452001\n",
      "[3]\ttrain-rmse:0.444145\teval-rmse:0.438056\n",
      "[4]\ttrain-rmse:0.432609\teval-rmse:0.424207\n",
      "[5]\ttrain-rmse:0.421834\teval-rmse:0.411847\n",
      "[6]\ttrain-rmse:0.411809\teval-rmse:0.401551\n",
      "[7]\ttrain-rmse:0.402615\teval-rmse:0.391015\n",
      "[8]\ttrain-rmse:0.39408\teval-rmse:0.381742\n",
      "[9]\ttrain-rmse:0.38609\teval-rmse:0.3724\n",
      "[10]\ttrain-rmse:0.37875\teval-rmse:0.36445\n",
      "[11]\ttrain-rmse:0.372111\teval-rmse:0.356776\n",
      "[12]\ttrain-rmse:0.365946\teval-rmse:0.349015\n",
      "[13]\ttrain-rmse:0.36017\teval-rmse:0.342638\n",
      "[14]\ttrain-rmse:0.354933\teval-rmse:0.33673\n",
      "[15]\ttrain-rmse:0.34997\teval-rmse:0.329801\n",
      "[16]\ttrain-rmse:0.34542\teval-rmse:0.323589\n",
      "[17]\ttrain-rmse:0.341307\teval-rmse:0.318515\n",
      "[18]\ttrain-rmse:0.337414\teval-rmse:0.313803\n",
      "[19]\ttrain-rmse:0.333892\teval-rmse:0.308947\n",
      "[20]\ttrain-rmse:0.330611\teval-rmse:0.305094\n",
      "[21]\ttrain-rmse:0.327446\teval-rmse:0.30081\n",
      "[22]\ttrain-rmse:0.324675\teval-rmse:0.297699\n",
      "[23]\ttrain-rmse:0.322135\teval-rmse:0.294079\n",
      "[24]\ttrain-rmse:0.31985\teval-rmse:0.290592\n",
      "[25]\ttrain-rmse:0.317769\teval-rmse:0.287606\n",
      "[26]\ttrain-rmse:0.315841\teval-rmse:0.28415\n",
      "[27]\ttrain-rmse:0.314162\teval-rmse:0.281668\n",
      "[28]\ttrain-rmse:0.312341\teval-rmse:0.279284\n",
      "[29]\ttrain-rmse:0.310886\teval-rmse:0.276847\n",
      "[30]\ttrain-rmse:0.309105\teval-rmse:0.274351\n",
      "[31]\ttrain-rmse:0.307833\teval-rmse:0.272029\n",
      "[32]\ttrain-rmse:0.306401\teval-rmse:0.270313\n",
      "[33]\ttrain-rmse:0.305204\teval-rmse:0.268581\n",
      "[34]\ttrain-rmse:0.304345\teval-rmse:0.267269\n",
      "[35]\ttrain-rmse:0.303397\teval-rmse:0.266079\n",
      "[36]\ttrain-rmse:0.302571\teval-rmse:0.264576\n",
      "[37]\ttrain-rmse:0.301593\teval-rmse:0.263311\n",
      "[38]\ttrain-rmse:0.300714\teval-rmse:0.262272\n",
      "[39]\ttrain-rmse:0.299985\teval-rmse:0.260466\n",
      "[40]\ttrain-rmse:0.299192\teval-rmse:0.259466\n",
      "[41]\ttrain-rmse:0.298272\teval-rmse:0.258482\n",
      "[42]\ttrain-rmse:0.297577\teval-rmse:0.2572\n",
      "[43]\ttrain-rmse:0.296995\teval-rmse:0.256556\n",
      "[44]\ttrain-rmse:0.296177\teval-rmse:0.25616\n",
      "[45]\ttrain-rmse:0.295357\teval-rmse:0.256108\n",
      "[46]\ttrain-rmse:0.29486\teval-rmse:0.25561\n",
      "[47]\ttrain-rmse:0.294403\teval-rmse:0.254942\n",
      "[48]\ttrain-rmse:0.293793\teval-rmse:0.254197\n",
      "[49]\ttrain-rmse:0.293402\teval-rmse:0.253827\n",
      "[50]\ttrain-rmse:0.292709\teval-rmse:0.253151\n",
      "[51]\ttrain-rmse:0.29223\teval-rmse:0.252643\n",
      "[52]\ttrain-rmse:0.291872\teval-rmse:0.252059\n",
      "[53]\ttrain-rmse:0.291491\teval-rmse:0.251446\n",
      "[54]\ttrain-rmse:0.291105\teval-rmse:0.251015\n",
      "[55]\ttrain-rmse:0.290642\teval-rmse:0.250803\n",
      "[56]\ttrain-rmse:0.290114\teval-rmse:0.250759\n",
      "[57]\ttrain-rmse:0.289882\teval-rmse:0.250082\n",
      "[58]\ttrain-rmse:0.289521\teval-rmse:0.249765\n",
      "[59]\ttrain-rmse:0.28926\teval-rmse:0.249422\n",
      "[60]\ttrain-rmse:0.288625\teval-rmse:0.249\n",
      "[61]\ttrain-rmse:0.287989\teval-rmse:0.248729\n",
      "[62]\ttrain-rmse:0.287415\teval-rmse:0.248457\n",
      "[63]\ttrain-rmse:0.28658\teval-rmse:0.248534\n",
      "[64]\ttrain-rmse:0.286276\teval-rmse:0.248293\n",
      "[65]\ttrain-rmse:0.285989\teval-rmse:0.24811\n",
      "[66]\ttrain-rmse:0.285847\teval-rmse:0.247887\n",
      "[67]\ttrain-rmse:0.284867\teval-rmse:0.24789\n",
      "[68]\ttrain-rmse:0.284356\teval-rmse:0.247843\n",
      "[69]\ttrain-rmse:0.283887\teval-rmse:0.247638\n",
      "[70]\ttrain-rmse:0.283435\teval-rmse:0.247582\n",
      "[71]\ttrain-rmse:0.283011\teval-rmse:0.247445\n",
      "[72]\ttrain-rmse:0.282075\teval-rmse:0.247802\n",
      "[73]\ttrain-rmse:0.281179\teval-rmse:0.247594\n",
      "[74]\ttrain-rmse:0.280649\teval-rmse:0.247569\n",
      "[75]\ttrain-rmse:0.280476\teval-rmse:0.247374\n",
      "[76]\ttrain-rmse:0.279981\teval-rmse:0.247223\n",
      "[77]\ttrain-rmse:0.279628\teval-rmse:0.247072\n",
      "[78]\ttrain-rmse:0.278966\teval-rmse:0.246864\n",
      "[79]\ttrain-rmse:0.278406\teval-rmse:0.246828\n",
      "[80]\ttrain-rmse:0.27742\teval-rmse:0.246745\n",
      "[81]\ttrain-rmse:0.276876\teval-rmse:0.246716\n",
      "[82]\ttrain-rmse:0.27672\teval-rmse:0.246615\n",
      "[83]\ttrain-rmse:0.27601\teval-rmse:0.246561\n",
      "[84]\ttrain-rmse:0.275583\teval-rmse:0.246417\n",
      "[85]\ttrain-rmse:0.275081\teval-rmse:0.246431\n",
      "[86]\ttrain-rmse:0.274384\teval-rmse:0.246434\n",
      "[87]\ttrain-rmse:0.274183\teval-rmse:0.246328\n",
      "[88]\ttrain-rmse:0.27336\teval-rmse:0.246865\n",
      "[89]\ttrain-rmse:0.27287\teval-rmse:0.246735\n",
      "[90]\ttrain-rmse:0.272202\teval-rmse:0.246726\n",
      "[91]\ttrain-rmse:0.271604\teval-rmse:0.246879\n",
      "[92]\ttrain-rmse:0.271332\teval-rmse:0.246778\n",
      "[93]\ttrain-rmse:0.271008\teval-rmse:0.246661\n",
      "[94]\ttrain-rmse:0.270278\teval-rmse:0.246935\n",
      "[95]\ttrain-rmse:0.269747\teval-rmse:0.24723\n",
      "[96]\ttrain-rmse:0.269062\teval-rmse:0.247302\n",
      "[97]\ttrain-rmse:0.268365\teval-rmse:0.247207\n",
      "[98]\ttrain-rmse:0.267922\teval-rmse:0.247061\n",
      "[99]\ttrain-rmse:0.267177\teval-rmse:0.247474\n",
      "[100]\ttrain-rmse:0.266428\teval-rmse:0.247\n",
      "[101]\ttrain-rmse:0.265941\teval-rmse:0.247228\n",
      "[102]\ttrain-rmse:0.265732\teval-rmse:0.247155\n",
      "[103]\ttrain-rmse:0.265077\teval-rmse:0.247053\n",
      "[104]\ttrain-rmse:0.264792\teval-rmse:0.247068\n",
      "[105]\ttrain-rmse:0.264535\teval-rmse:0.247088\n",
      "[106]\ttrain-rmse:0.264199\teval-rmse:0.247078\n",
      "[107]\ttrain-rmse:0.263513\teval-rmse:0.247028\n",
      "[108]\ttrain-rmse:0.262992\teval-rmse:0.247207\n",
      "[109]\ttrain-rmse:0.262251\teval-rmse:0.24726\n",
      "[110]\ttrain-rmse:0.261769\teval-rmse:0.247552\n",
      "[111]\ttrain-rmse:0.260995\teval-rmse:0.247631\n",
      "[112]\ttrain-rmse:0.26036\teval-rmse:0.247483\n",
      "[113]\ttrain-rmse:0.260079\teval-rmse:0.247257\n",
      "[114]\ttrain-rmse:0.259058\teval-rmse:0.247578\n",
      "[115]\ttrain-rmse:0.258563\teval-rmse:0.247477\n",
      "[116]\ttrain-rmse:0.257825\teval-rmse:0.247615\n",
      "[117]\ttrain-rmse:0.257234\teval-rmse:0.24763\n",
      "[118]\ttrain-rmse:0.256781\teval-rmse:0.247663\n",
      "[119]\ttrain-rmse:0.256303\teval-rmse:0.247799\n"
     ]
    }
   ],
   "source": [
    "# GPU, with using cuDF\n",
    "\n",
    "start_time = time.time()\n",
    "\n",
    "xgtrain = xgb.DMatrix(gdf_train, gdf_train_target)\n",
    "xgeval = xgb.DMatrix(gdf_eval, gdf_eval_target)\n",
    "\n",
    "params = {'tree_method': \"gpu_\"+TREE_METHOD, 'max_depth': MAX_TREE_DEPTH, 'alpha': REGULARIZATION,\n",
    "          'gamma': GAMMA, 'subsample': SUBSAMPLE, 'scale_pos_weight': POS_WEIGHT, 'learning_rate': 0.05, 'silent': 1}\n",
    "\n",
    "bst = xgb.train(params, xgtrain, ITERATIONS, evals=[(xgtrain, \"train\"), (xgeval, \"eval\")],\n",
    "                early_stopping_rounds=EARLY_STOP)\n",
    "\n",
    "timetaken_gpu = time.time() - start_time"
   ]
  },
  {
   "cell_type": "code",
   "execution_count": 15,
   "metadata": {
    "ExecuteTime": {
     "end_time": "2018-12-23T14:38:29.532366Z",
     "start_time": "2018-12-23T14:38:28.653601Z"
    }
   },
   "outputs": [
    {
     "name": "stdout",
     "output_type": "stream",
     "text": [
      "Check GPU memory usage\n",
      "/bin/sh: 1: gpustat: not found\n"
     ]
    }
   ],
   "source": [
    "print(\"Check GPU memory usage\")\n",
    "!gpustat"
   ]
  },
  {
   "cell_type": "markdown",
   "metadata": {},
   "source": [
    "### 5. Results\n",
    "\n",
    "We see a significant speed-up when we use the RAPIDS stack."
   ]
  },
  {
   "cell_type": "code",
   "execution_count": 16,
   "metadata": {
    "ExecuteTime": {
     "end_time": "2018-12-23T14:38:29.537586Z",
     "start_time": "2018-12-23T14:38:29.534001Z"
    }
   },
   "outputs": [
    {
     "name": "stdout",
     "output_type": "stream",
     "text": [
      "CPU Time Taken:\n",
      " 30.0\n",
      "\n",
      "GPU + cuDF Time Taken:\n",
      " 2.0\n",
      "\n",
      "Total speed-up with RAPIDS:\n",
      " 1502.7 %\n"
     ]
    }
   ],
   "source": [
    "print(\"CPU Time Taken:\\n\", round(timetaken_cpu,1))\n",
    "print(\"\\nGPU + cuDF Time Taken:\\n\", round(timetaken_gpu,1))\n",
    "print(\"\\nTotal speed-up with RAPIDS:\\n\", round(timetaken_cpu/timetaken_gpu*100,1), \"%\")"
   ]
  },
  {
   "cell_type": "markdown",
   "metadata": {},
   "source": [
    "Let's look at the model's performance on the evalutation set"
   ]
  },
  {
   "cell_type": "code",
   "execution_count": 17,
   "metadata": {},
   "outputs": [],
   "source": [
    "preds = bst.predict(xgeval)\n",
    "\n",
    "y_pred = []\n",
    "\n",
    "THRESHOLD = 0.5\n",
    "\n",
    "for pred in preds:\n",
    "    if pred<=THRESHOLD:\n",
    "        y_pred.append(0)\n",
    "    if pred>THRESHOLD:\n",
    "        y_pred.append(1)\n",
    "\n",
    "y_pred = np.asarray(y_pred)\n",
    "        \n",
    "y_true = df_test_target.values.reshape(len(preds))"
   ]
  },
  {
   "cell_type": "code",
   "execution_count": 18,
   "metadata": {},
   "outputs": [
    {
     "name": "stdout",
     "output_type": "stream",
     "text": [
      "Accuracy (Eval) 0.946\n"
     ]
    }
   ],
   "source": [
    "print(\"Accuracy (Eval)\", round(accuracy_score(y_true, y_pred),3))"
   ]
  },
  {
   "cell_type": "code",
   "execution_count": 19,
   "metadata": {},
   "outputs": [
    {
     "name": "stdout",
     "output_type": "stream",
     "text": [
      "              precision    recall  f1-score   support\n",
      "\n",
      "      normal       0.97      0.97      0.97      4208\n",
      "        fail       0.62      0.60      0.61       319\n",
      "\n",
      "   micro avg       0.95      0.95      0.95      4527\n",
      "   macro avg       0.80      0.78      0.79      4527\n",
      "weighted avg       0.94      0.95      0.95      4527\n",
      "\n"
     ]
    }
   ],
   "source": [
    "print(classification_report(y_true, y_pred, target_names=[\"normal\", \"fail\"]))"
   ]
  },
  {
   "cell_type": "code",
   "execution_count": 20,
   "metadata": {},
   "outputs": [
    {
     "data": {
      "image/png": "[encoded data removed]",
      "text/plain": [
       "<Figure size 1008x504 with 2 Axes>"
      ]
     },
     "metadata": {},
     "output_type": "display_data"
    }
   ],
   "source": [
    "plt.style.use('seaborn-dark')\n",
    "def plot_confusion_matrix(cm, labels,\n",
    "                          normalize=True,\n",
    "                          title='Confusion Matrix (Validation Set)',\n",
    "                          cmap=plt.cm.Blues):\n",
    "    \"\"\"\n",
    "    This function prints and plots the confusion matrix.\n",
    "    Normalization can be applied by setting `normalize=True`.\n",
    "    \"\"\"\n",
    "    if normalize:\n",
    "        cm = cm.astype('float') / cm.sum(axis=1)[:, np.newaxis]\n",
    "\n",
    "    plt.imshow(cm, interpolation='nearest', cmap=cmap)\n",
    "    plt.title(title)\n",
    "    plt.colorbar()\n",
    "    tick_marks = np.arange(len(labels))\n",
    "    plt.xticks(tick_marks, labels, rotation=45)\n",
    "    plt.yticks(tick_marks, labels)\n",
    "\n",
    "    fmt = '.2f' if normalize else 'd'\n",
    "    thresh = cm.max() / 2.\n",
    "    for i, j in itertools.product(range(cm.shape[0]), range(cm.shape[1])):\n",
    "        plt.text(j, i, format(cm[i, j], fmt),\n",
    "                 horizontalalignment=\"center\",\n",
    "                 color=\"white\" if cm[i, j] > thresh else \"black\")\n",
    "\n",
    "    plt.tight_layout()\n",
    "    plt.ylabel('True label')\n",
    "    plt.xlabel('Predicted label')\n",
    "\n",
    "plt.figure(figsize=(14,7))\n",
    "cnf_matrix = confusion_matrix(y_true, y_pred)\n",
    "plot_confusion_matrix(cnf_matrix, labels=[\"normal\", \"fail\"])"
   ]
  },
  {
   "cell_type": "code",
   "execution_count": null,
   "metadata": {},
   "outputs": [],
   "source": []
  },
  {
   "cell_type": "code",
   "execution_count": null,
   "metadata": {},
   "outputs": [],
   "source": []
  }
 ],
 "metadata": {
  "kernelspec": {
   "display_name": "Python 3",
   "language": "python",
   "name": "python3"
  },
  "language_info": {
   "codemirror_mode": {
    "name": "ipython",
    "version": 3
   },
   "file_extension": ".py",
   "mimetype": "text/x-python",
   "name": "python",
   "nbconvert_exporter": "python",
   "pygments_lexer": "ipython3",
   "version": "3.6.8"
  }
 },
 "nbformat": 4,
 "nbformat_minor": 4
}
