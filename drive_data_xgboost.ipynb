{
 "cells": [
  {
   "cell_type": "markdown",
   "metadata": {},
   "source": [
    "## Predicting drive failure with XGBoost and RAPIDS\n",
    "\n",
    "**Dataset**: Hard disk SMART data and failure dataset from Backblaze ([More information](https://www.backblaze.com/b2/hard-drive-test-data.html))\n",
    "\n",
    "**Task**: Predict hard disk failure with RAPIDS"
   ]
  },
  {
   "cell_type": "code",
   "execution_count": 1,
   "metadata": {
    "ExecuteTime": {
     "end_time": "2018-12-23T14:36:50.489370Z",
     "start_time": "2018-12-23T14:36:49.322494Z"
    }
   },
   "outputs": [],
   "source": [
    "import time\n",
    "import itertools\n",
    "import numpy as np\n",
    "import pandas as pd\n",
    "from tqdm import tqdm_notebook\n",
    "\n",
    "from sklearn.metrics import *\n",
    "\n",
    "# RAPIDS\n",
    "import cudf\n",
    "import xgboost as xgb"
   ]
  },
  {
   "cell_type": "markdown",
   "metadata": {},
   "source": [
    "### 1. Load Data\n",
    "\n",
    "#### Training Data\n",
    "\n",
    "Use Pandas to load training data from CSV. This consists of the pre-processed drive data from Feb 2017 to September 2018"
   ]
  },
  {
   "cell_type": "code",
   "execution_count": 2,
   "metadata": {
    "ExecuteTime": {
     "end_time": "2018-12-23T14:37:13.856311Z",
     "start_time": "2018-12-23T14:36:50.491244Z"
    }
   },
   "outputs": [
    {
     "name": "stdout",
     "output_type": "stream",
     "text": [
      "<class 'pandas.core.frame.DataFrame'>\n",
      "RangeIndex: 9849 entries, 0 to 9848\n",
      "Columns: 318 entries, failure to feat314\n",
      "dtypes: float64(315), int64(3)\n",
      "memory usage: 23.9 MB\n"
     ]
    }
   ],
   "source": [
    "df = pd.read_csv(\"train.csv\")\n",
    "df.info()"
   ]
  },
  {
   "cell_type": "markdown",
   "metadata": {},
   "source": [
    "Split into features (`df_train`) and labels(`df_target`), where each is a Pandas `Dataframe`."
   ]
  },
  {
   "cell_type": "code",
   "execution_count": 3,
   "metadata": {
    "ExecuteTime": {
     "end_time": "2018-12-23T14:37:16.597909Z",
     "start_time": "2018-12-23T14:37:13.857591Z"
    }
   },
   "outputs": [],
   "source": [
    "df_train = df.drop([\"failure\"],axis=1).apply(pd.to_numeric).astype(np.float32)\n",
    "df_train_target = pd.DataFrame(df[\"failure\"]).apply(pd.to_numeric)"
   ]
  },
  {
   "cell_type": "markdown",
   "metadata": {},
   "source": [
    "#### Evaluation Data\n",
    "\n",
    "Do the same thing to load evaluation data from CSV, if you have a seperate file to load. In our case, this consists of the pre-processed drive data from October 2017 to December 2018"
   ]
  },
  {
   "cell_type": "code",
   "execution_count": 4,
   "metadata": {
    "ExecuteTime": {
     "end_time": "2018-12-23T14:37:29.019045Z",
     "start_time": "2018-12-23T14:37:16.599916Z"
    }
   },
   "outputs": [
    {
     "name": "stdout",
     "output_type": "stream",
     "text": [
      "<class 'pandas.core.frame.DataFrame'>\n",
      "RangeIndex: 4464 entries, 0 to 4463\n",
      "Columns: 318 entries, failure to feat314\n",
      "dtypes: float64(315), int64(3)\n",
      "memory usage: 10.8 MB\n"
     ]
    }
   ],
   "source": [
    "df_t = pd.read_csv(\"eval.csv\")\n",
    "df_t.info()\n",
    "\n",
    "df_test = df_t.drop([\"failure\"],axis=1).apply(pd.to_numeric).astype(np.float32)\n",
    "df_test_target = pd.DataFrame(df_t[\"failure\"]).apply(pd.to_numeric)"
   ]
  },
  {
   "cell_type": "markdown",
   "metadata": {},
   "source": [
    "### 2. Train with CPU\n",
    "\n",
    "XGBoost training with CPU (`params[tree_method] = 'hist'`), using a Pandas `Dataframe` loaded into `xgb.DMatrix`. For more information, check out [this page in the XGBoost Documentation](https://xgboost.readthedocs.io/en/latest/python/python_intro.html)."
   ]
  },
  {
   "cell_type": "code",
   "execution_count": 5,
   "metadata": {},
   "outputs": [],
   "source": [
    "MAX_TREE_DEPTH = 6\n",
    "TREE_METHOD = 'hist'\n",
    "ITERATIONS = 150\n",
    "SUBSAMPLE = 0.6\n",
    "REGULARIZATION = 1.3\n",
    "GAMMA = 0.3\n",
    "POS_WEIGHT = 3\n",
    "EARLY_STOP = 6"
   ]
  },
  {
   "cell_type": "code",
   "execution_count": 6,
   "metadata": {},
   "outputs": [
    {
     "name": "stdout",
     "output_type": "stream",
     "text": [
      "Model name:          Intel(R) Xeon(R) CPU E5-2698 v4 @ 2.20GHz\n",
      "CPU(s):              40\n",
      "On-line CPU(s) list: 0-39\n",
      "NUMA node0 CPU(s):   0-39\n"
     ]
    }
   ],
   "source": [
    "!lscpu | grep 'Model name:'\n",
    "!lscpu | grep 'CPU(s)'"
   ]
  },
  {
   "cell_type": "code",
   "execution_count": 7,
   "metadata": {},
   "outputs": [
    {
     "name": "stdout",
     "output_type": "stream",
     "text": [
      "[19:49:09] Tree method is selected to be 'hist', which uses a single updater grow_fast_histmaker.\n",
      "[0]\ttrain-rmse:0.489444\teval-rmse:0.489139\n",
      "Multiple eval metrics have been passed: 'eval-rmse' will be used for early stopping.\n",
      "\n",
      "Will train until eval-rmse hasn't improved in 6 rounds.\n",
      "[1]\ttrain-rmse:0.479429\teval-rmse:0.478774\n",
      "[2]\ttrain-rmse:0.470476\teval-rmse:0.469613\n",
      "[3]\ttrain-rmse:0.462065\teval-rmse:0.460645\n",
      "[4]\ttrain-rmse:0.454239\teval-rmse:0.452911\n",
      "[5]\ttrain-rmse:0.446974\teval-rmse:0.446759\n",
      "[6]\ttrain-rmse:0.440404\teval-rmse:0.44117\n",
      "[7]\ttrain-rmse:0.434136\teval-rmse:0.436512\n",
      "[8]\ttrain-rmse:0.428172\teval-rmse:0.432187\n",
      "[9]\ttrain-rmse:0.422746\teval-rmse:0.427698\n",
      "[10]\ttrain-rmse:0.417667\teval-rmse:0.423876\n",
      "[11]\ttrain-rmse:0.412952\teval-rmse:0.419046\n",
      "[12]\ttrain-rmse:0.408174\teval-rmse:0.415682\n",
      "[13]\ttrain-rmse:0.40406\teval-rmse:0.41152\n",
      "[14]\ttrain-rmse:0.400145\teval-rmse:0.407015\n",
      "[15]\ttrain-rmse:0.39634\teval-rmse:0.403195\n",
      "[16]\ttrain-rmse:0.393252\teval-rmse:0.401722\n",
      "[17]\ttrain-rmse:0.390082\teval-rmse:0.398436\n",
      "[18]\ttrain-rmse:0.387228\teval-rmse:0.396313\n",
      "[19]\ttrain-rmse:0.384404\teval-rmse:0.394343\n",
      "[20]\ttrain-rmse:0.381974\teval-rmse:0.392859\n",
      "[21]\ttrain-rmse:0.379783\teval-rmse:0.391834\n",
      "[22]\ttrain-rmse:0.377562\teval-rmse:0.388986\n",
      "[23]\ttrain-rmse:0.375434\teval-rmse:0.387019\n",
      "[24]\ttrain-rmse:0.37331\teval-rmse:0.383563\n",
      "[25]\ttrain-rmse:0.371419\teval-rmse:0.381045\n",
      "[26]\ttrain-rmse:0.369647\teval-rmse:0.378794\n",
      "[27]\ttrain-rmse:0.367967\teval-rmse:0.376745\n",
      "[28]\ttrain-rmse:0.366177\teval-rmse:0.375393\n",
      "[29]\ttrain-rmse:0.36469\teval-rmse:0.373436\n",
      "[30]\ttrain-rmse:0.363539\teval-rmse:0.372599\n",
      "[31]\ttrain-rmse:0.362202\teval-rmse:0.371324\n",
      "[32]\ttrain-rmse:0.360838\teval-rmse:0.37039\n",
      "[33]\ttrain-rmse:0.359814\teval-rmse:0.369095\n",
      "[34]\ttrain-rmse:0.358743\teval-rmse:0.367904\n",
      "[35]\ttrain-rmse:0.357703\teval-rmse:0.366352\n",
      "[36]\ttrain-rmse:0.356455\teval-rmse:0.36597\n",
      "[37]\ttrain-rmse:0.355424\teval-rmse:0.365044\n",
      "[38]\ttrain-rmse:0.3548\teval-rmse:0.364217\n",
      "[39]\ttrain-rmse:0.353667\teval-rmse:0.363613\n",
      "[40]\ttrain-rmse:0.352487\teval-rmse:0.362663\n",
      "[41]\ttrain-rmse:0.351593\teval-rmse:0.361805\n",
      "[42]\ttrain-rmse:0.350559\teval-rmse:0.361957\n",
      "[43]\ttrain-rmse:0.349682\teval-rmse:0.360602\n",
      "[44]\ttrain-rmse:0.348672\teval-rmse:0.359937\n",
      "[45]\ttrain-rmse:0.347891\teval-rmse:0.359131\n",
      "[46]\ttrain-rmse:0.347116\teval-rmse:0.359028\n",
      "[47]\ttrain-rmse:0.346356\teval-rmse:0.357735\n",
      "[48]\ttrain-rmse:0.345393\teval-rmse:0.357716\n",
      "[49]\ttrain-rmse:0.344326\teval-rmse:0.357635\n",
      "[50]\ttrain-rmse:0.343412\teval-rmse:0.356867\n",
      "[51]\ttrain-rmse:0.342854\teval-rmse:0.357077\n",
      "[52]\ttrain-rmse:0.342019\teval-rmse:0.357415\n",
      "[53]\ttrain-rmse:0.341526\teval-rmse:0.356037\n",
      "[54]\ttrain-rmse:0.340802\teval-rmse:0.355759\n",
      "[55]\ttrain-rmse:0.340146\teval-rmse:0.356\n",
      "[56]\ttrain-rmse:0.339886\teval-rmse:0.356352\n",
      "[57]\ttrain-rmse:0.339287\teval-rmse:0.355835\n",
      "[58]\ttrain-rmse:0.338553\teval-rmse:0.356057\n",
      "[59]\ttrain-rmse:0.337958\teval-rmse:0.356227\n",
      "[60]\ttrain-rmse:0.337059\teval-rmse:0.356192\n",
      "Stopping. Best iteration:\n",
      "[54]\ttrain-rmse:0.340802\teval-rmse:0.355759\n",
      "\n"
     ]
    }
   ],
   "source": [
    "start_time = time.time()\n",
    "\n",
    "xgtrain = xgb.DMatrix(df_train, df_train_target)\n",
    "xgeval = xgb.DMatrix(df_test, df_test_target)\n",
    "\n",
    "params = {'tree_method': TREE_METHOD, 'max_depth': MAX_TREE_DEPTH, 'alpha': REGULARIZATION,\n",
    "          'gamma': GAMMA, 'subsample': SUBSAMPLE, 'scale_pos_weight': POS_WEIGHT, 'learning_rate': 0.05, 'silent': 1}\n",
    "\n",
    "bst = xgb.train(params, xgtrain, ITERATIONS, evals=[(xgtrain, \"train\"), (xgeval, \"eval\")],\n",
    "                early_stopping_rounds=EARLY_STOP)\n",
    "\n",
    "timetaken_cpu = time.time() - start_time\n",
    "\n",
    "# free up memory\n",
    "del xgtrain\n",
    "del bst"
   ]
  },
  {
   "cell_type": "markdown",
   "metadata": {},
   "source": [
    "### 3. Train with GPU\n",
    "\n",
    "To use GPU, we set `params[tree_method] = 'gpu_hist'` and also (optionally) load the Pandas `Dataframe` into cuDF Dataframe (Python object type `cudf.dataframe.dataframe.DataFrame`)."
   ]
  },
  {
   "cell_type": "code",
   "execution_count": 8,
   "metadata": {
    "ExecuteTime": {
     "end_time": "2018-12-23T14:38:13.023281Z",
     "start_time": "2018-12-23T14:37:29.020880Z"
    }
   },
   "outputs": [
    {
     "name": "stdout",
     "output_type": "stream",
     "text": [
      "[0]\ttrain-rmse:0.489638\teval-rmse:0.489468\n",
      "Multiple eval metrics have been passed: 'eval-rmse' will be used for early stopping.\n",
      "\n",
      "Will train until eval-rmse hasn't improved in 6 rounds.\n",
      "[1]\ttrain-rmse:0.479783\teval-rmse:0.4789\n",
      "[2]\ttrain-rmse:0.470634\teval-rmse:0.470793\n",
      "[3]\ttrain-rmse:0.46184\teval-rmse:0.461773\n",
      "[4]\ttrain-rmse:0.454247\teval-rmse:0.454197\n",
      "[5]\ttrain-rmse:0.446661\teval-rmse:0.445346\n",
      "[6]\ttrain-rmse:0.439749\teval-rmse:0.43808\n",
      "[7]\ttrain-rmse:0.433233\teval-rmse:0.431424\n",
      "[8]\ttrain-rmse:0.427393\teval-rmse:0.426518\n",
      "[9]\ttrain-rmse:0.421875\teval-rmse:0.420127\n",
      "[10]\ttrain-rmse:0.416776\teval-rmse:0.416659\n",
      "[11]\ttrain-rmse:0.41207\teval-rmse:0.412244\n",
      "[12]\ttrain-rmse:0.407678\teval-rmse:0.407402\n",
      "[13]\ttrain-rmse:0.403543\teval-rmse:0.403966\n",
      "[14]\ttrain-rmse:0.399591\teval-rmse:0.3995\n",
      "[15]\ttrain-rmse:0.396128\teval-rmse:0.396851\n",
      "[16]\ttrain-rmse:0.392609\teval-rmse:0.394357\n",
      "[17]\ttrain-rmse:0.389641\teval-rmse:0.390768\n",
      "[18]\ttrain-rmse:0.386544\teval-rmse:0.388934\n",
      "[19]\ttrain-rmse:0.383469\teval-rmse:0.386178\n",
      "[20]\ttrain-rmse:0.381084\teval-rmse:0.383074\n",
      "[21]\ttrain-rmse:0.378716\teval-rmse:0.38023\n",
      "[22]\ttrain-rmse:0.376318\teval-rmse:0.37763\n",
      "[23]\ttrain-rmse:0.374172\teval-rmse:0.376618\n",
      "[24]\ttrain-rmse:0.372356\teval-rmse:0.375524\n",
      "[25]\ttrain-rmse:0.370495\teval-rmse:0.373264\n",
      "[26]\ttrain-rmse:0.368733\teval-rmse:0.371134\n",
      "[27]\ttrain-rmse:0.366998\teval-rmse:0.370025\n",
      "[28]\ttrain-rmse:0.365415\teval-rmse:0.367108\n",
      "[29]\ttrain-rmse:0.363749\teval-rmse:0.365024\n",
      "[30]\ttrain-rmse:0.362457\teval-rmse:0.363273\n",
      "[31]\ttrain-rmse:0.361156\teval-rmse:0.361773\n",
      "[32]\ttrain-rmse:0.359941\teval-rmse:0.36062\n",
      "[33]\ttrain-rmse:0.359073\teval-rmse:0.359861\n",
      "[34]\ttrain-rmse:0.357737\teval-rmse:0.3596\n",
      "[35]\ttrain-rmse:0.35675\teval-rmse:0.35833\n",
      "[36]\ttrain-rmse:0.355697\teval-rmse:0.357198\n",
      "[37]\ttrain-rmse:0.354845\teval-rmse:0.356166\n",
      "[38]\ttrain-rmse:0.353842\teval-rmse:0.355173\n",
      "[39]\ttrain-rmse:0.352734\teval-rmse:0.355193\n",
      "[40]\ttrain-rmse:0.351619\teval-rmse:0.355028\n",
      "[41]\ttrain-rmse:0.35074\teval-rmse:0.35426\n",
      "[42]\ttrain-rmse:0.349685\teval-rmse:0.353523\n",
      "[43]\ttrain-rmse:0.348807\teval-rmse:0.352432\n",
      "[44]\ttrain-rmse:0.348101\teval-rmse:0.351612\n",
      "[45]\ttrain-rmse:0.347279\teval-rmse:0.351123\n",
      "[46]\ttrain-rmse:0.346465\teval-rmse:0.35113\n",
      "[47]\ttrain-rmse:0.345993\teval-rmse:0.350536\n",
      "[48]\ttrain-rmse:0.345226\teval-rmse:0.34939\n",
      "[49]\ttrain-rmse:0.3444\teval-rmse:0.349378\n",
      "[50]\ttrain-rmse:0.343502\teval-rmse:0.34892\n",
      "[51]\ttrain-rmse:0.342524\teval-rmse:0.349966\n",
      "[52]\ttrain-rmse:0.341977\teval-rmse:0.350101\n",
      "[53]\ttrain-rmse:0.341512\teval-rmse:0.350294\n",
      "[54]\ttrain-rmse:0.34074\teval-rmse:0.350349\n",
      "[55]\ttrain-rmse:0.34033\teval-rmse:0.350323\n",
      "[56]\ttrain-rmse:0.340137\teval-rmse:0.350006\n",
      "Stopping. Best iteration:\n",
      "[50]\ttrain-rmse:0.343502\teval-rmse:0.34892\n",
      "\n"
     ]
    }
   ],
   "source": [
    "# run 1\n",
    "# GPU, without using cuDF\n",
    "\n",
    "start_time = time.time()\n",
    "\n",
    "xgtrain = xgb.DMatrix(df_train, df_train_target)\n",
    "xgeval = xgb.DMatrix(df_test, df_test_target)\n",
    "\n",
    "params = {'tree_method': \"gpu_\"+TREE_METHOD, 'max_depth': MAX_TREE_DEPTH, 'alpha': REGULARIZATION,\n",
    "          'gamma': GAMMA, 'subsample': SUBSAMPLE, 'scale_pos_weight': POS_WEIGHT, 'learning_rate': 0.05, 'silent': 1}\n",
    "\n",
    "bst = xgb.train(params, xgtrain, ITERATIONS, evals=[(xgtrain, \"train\"), (xgeval, \"eval\")],\n",
    "                early_stopping_rounds=EARLY_STOP)\n",
    "\n",
    "timetaken_gpu_nocudf = time.time() - start_time\n",
    "\n",
    "# free up memory\n",
    "del xgtrain\n",
    "del bst"
   ]
  },
  {
   "cell_type": "code",
   "execution_count": 9,
   "metadata": {
    "ExecuteTime": {
     "end_time": "2018-12-23T14:38:14.073981Z",
     "start_time": "2018-12-23T14:38:13.024721Z"
    }
   },
   "outputs": [],
   "source": [
    "# load into cuDF Dataframe\n",
    "\n",
    "gdf_train = cudf.DataFrame.from_pandas(df_train)\n",
    "gdf_train_target = cudf.DataFrame.from_pandas(df_train_target)\n",
    "\n",
    "gdf_eval = cudf.DataFrame.from_pandas(df_test)\n",
    "gdf_eval_target = cudf.DataFrame.from_pandas(df_test_target)"
   ]
  },
  {
   "cell_type": "code",
   "execution_count": 10,
   "metadata": {
    "ExecuteTime": {
     "end_time": "2018-12-23T14:38:28.652178Z",
     "start_time": "2018-12-23T14:38:14.075351Z"
    }
   },
   "outputs": [
    {
     "name": "stdout",
     "output_type": "stream",
     "text": [
      "[0]\ttrain-rmse:0.489638\teval-rmse:0.489468\n",
      "Multiple eval metrics have been passed: 'eval-rmse' will be used for early stopping.\n",
      "\n",
      "Will train until eval-rmse hasn't improved in 6 rounds.\n",
      "[1]\ttrain-rmse:0.479783\teval-rmse:0.4789\n",
      "[2]\ttrain-rmse:0.470634\teval-rmse:0.470793\n",
      "[3]\ttrain-rmse:0.46184\teval-rmse:0.461773\n",
      "[4]\ttrain-rmse:0.454247\teval-rmse:0.454197\n",
      "[5]\ttrain-rmse:0.446661\teval-rmse:0.445346\n",
      "[6]\ttrain-rmse:0.439749\teval-rmse:0.43808\n",
      "[7]\ttrain-rmse:0.433233\teval-rmse:0.431424\n",
      "[8]\ttrain-rmse:0.427393\teval-rmse:0.426518\n",
      "[9]\ttrain-rmse:0.421875\teval-rmse:0.420127\n",
      "[10]\ttrain-rmse:0.416776\teval-rmse:0.416659\n",
      "[11]\ttrain-rmse:0.41207\teval-rmse:0.412244\n",
      "[12]\ttrain-rmse:0.407678\teval-rmse:0.407402\n",
      "[13]\ttrain-rmse:0.403543\teval-rmse:0.403966\n",
      "[14]\ttrain-rmse:0.399591\teval-rmse:0.3995\n",
      "[15]\ttrain-rmse:0.396128\teval-rmse:0.396851\n",
      "[16]\ttrain-rmse:0.392609\teval-rmse:0.394357\n",
      "[17]\ttrain-rmse:0.389641\teval-rmse:0.390768\n",
      "[18]\ttrain-rmse:0.386544\teval-rmse:0.388934\n",
      "[19]\ttrain-rmse:0.383469\teval-rmse:0.386178\n",
      "[20]\ttrain-rmse:0.381084\teval-rmse:0.383074\n",
      "[21]\ttrain-rmse:0.378716\teval-rmse:0.38023\n",
      "[22]\ttrain-rmse:0.376318\teval-rmse:0.37763\n",
      "[23]\ttrain-rmse:0.374172\teval-rmse:0.376618\n",
      "[24]\ttrain-rmse:0.372356\teval-rmse:0.375524\n",
      "[25]\ttrain-rmse:0.370495\teval-rmse:0.373264\n",
      "[26]\ttrain-rmse:0.368733\teval-rmse:0.371134\n",
      "[27]\ttrain-rmse:0.366998\teval-rmse:0.370025\n",
      "[28]\ttrain-rmse:0.365415\teval-rmse:0.367108\n",
      "[29]\ttrain-rmse:0.363749\teval-rmse:0.365024\n",
      "[30]\ttrain-rmse:0.362457\teval-rmse:0.363273\n",
      "[31]\ttrain-rmse:0.361156\teval-rmse:0.361773\n",
      "[32]\ttrain-rmse:0.359941\teval-rmse:0.36062\n",
      "[33]\ttrain-rmse:0.359073\teval-rmse:0.359861\n",
      "[34]\ttrain-rmse:0.357737\teval-rmse:0.3596\n",
      "[35]\ttrain-rmse:0.35675\teval-rmse:0.35833\n",
      "[36]\ttrain-rmse:0.355697\teval-rmse:0.357198\n",
      "[37]\ttrain-rmse:0.354845\teval-rmse:0.356166\n",
      "[38]\ttrain-rmse:0.353842\teval-rmse:0.355173\n",
      "[39]\ttrain-rmse:0.352734\teval-rmse:0.355193\n",
      "[40]\ttrain-rmse:0.351619\teval-rmse:0.355028\n",
      "[41]\ttrain-rmse:0.35074\teval-rmse:0.35426\n",
      "[42]\ttrain-rmse:0.349685\teval-rmse:0.353523\n",
      "[43]\ttrain-rmse:0.348807\teval-rmse:0.352432\n",
      "[44]\ttrain-rmse:0.348101\teval-rmse:0.351612\n",
      "[45]\ttrain-rmse:0.347279\teval-rmse:0.351123\n",
      "[46]\ttrain-rmse:0.346465\teval-rmse:0.35113\n",
      "[47]\ttrain-rmse:0.345993\teval-rmse:0.350536\n",
      "[48]\ttrain-rmse:0.345226\teval-rmse:0.34939\n",
      "[49]\ttrain-rmse:0.3444\teval-rmse:0.349378\n",
      "[50]\ttrain-rmse:0.343502\teval-rmse:0.34892\n",
      "[51]\ttrain-rmse:0.342524\teval-rmse:0.349966\n",
      "[52]\ttrain-rmse:0.341977\teval-rmse:0.350101\n",
      "[53]\ttrain-rmse:0.341512\teval-rmse:0.350294\n",
      "[54]\ttrain-rmse:0.34074\teval-rmse:0.350349\n",
      "[55]\ttrain-rmse:0.34033\teval-rmse:0.350323\n",
      "[56]\ttrain-rmse:0.340137\teval-rmse:0.350006\n",
      "Stopping. Best iteration:\n",
      "[50]\ttrain-rmse:0.343502\teval-rmse:0.34892\n",
      "\n"
     ]
    }
   ],
   "source": [
    "# run 2\n",
    "# GPU, with using cuDF\n",
    "\n",
    "start_time = time.time()\n",
    "\n",
    "xgtrain = xgb.DMatrix(gdf_train, gdf_train_target)\n",
    "xgeval = xgb.DMatrix(gdf_eval, gdf_eval_target)\n",
    "\n",
    "params = {'tree_method': \"gpu_\"+TREE_METHOD, 'max_depth': MAX_TREE_DEPTH, 'alpha': REGULARIZATION,\n",
    "          'gamma': GAMMA, 'subsample': SUBSAMPLE, 'scale_pos_weight': POS_WEIGHT, 'learning_rate': 0.05, 'silent': 1}\n",
    "\n",
    "bst = xgb.train(params, xgtrain, ITERATIONS, evals=[(xgtrain, \"train\"), (xgeval, \"eval\")],\n",
    "                early_stopping_rounds=EARLY_STOP)\n",
    "\n",
    "timetaken_gpu = time.time() - start_time"
   ]
  },
  {
   "cell_type": "code",
   "execution_count": 11,
   "metadata": {
    "ExecuteTime": {
     "end_time": "2018-12-23T14:38:29.532366Z",
     "start_time": "2018-12-23T14:38:28.653601Z"
    }
   },
   "outputs": [
    {
     "name": "stdout",
     "output_type": "stream",
     "text": [
      "Check GPU memory usage\n",
      "\u001b[1m\u001b[37mjupyter-timothy-5fliu\u001b[m  Wed Jan 23 19:49:20 2019\n",
      "\u001b[36m[0]\u001b[m \u001b[34mTesla V100-DGXS-16GB\u001b[m |\u001b[31m 43'C\u001b[m, \u001b[32m  0 %\u001b[m | \u001b[36m\u001b[1m\u001b[33m  711\u001b[m / \u001b[33m16125\u001b[m MB |\n"
     ]
    }
   ],
   "source": [
    "print(\"Check GPU memory usage\")\n",
    "!gpustat"
   ]
  },
  {
   "cell_type": "markdown",
   "metadata": {},
   "source": [
    "### 4. Results\n",
    "\n",
    "We see a significant speed-up when we use the RAPIDS stack."
   ]
  },
  {
   "cell_type": "code",
   "execution_count": 12,
   "metadata": {
    "ExecuteTime": {
     "end_time": "2018-12-23T14:38:29.537586Z",
     "start_time": "2018-12-23T14:38:29.534001Z"
    }
   },
   "outputs": [
    {
     "name": "stdout",
     "output_type": "stream",
     "text": [
      "CPU Time Taken:\n",
      " 6.0\n",
      "\n",
      "GPU (no cuDF) Time Taken:\n",
      " 1.1\n",
      "\n",
      "GPU (cuDF) Time Taken:\n",
      " 0.8\n",
      "\n",
      "Total speed-up with RAPIDS:\n",
      " 797.0 %\n"
     ]
    }
   ],
   "source": [
    "print(\"CPU Time Taken:\\n\", round(timetaken_cpu,1))\n",
    "print(\"\\nGPU (no cuDF) Time Taken:\\n\", round(timetaken_gpu_nocudf,1))\n",
    "print(\"\\nGPU (cuDF) Time Taken:\\n\", round(timetaken_gpu,1))\n",
    "print(\"\\nTotal speed-up with RAPIDS:\\n\", round(timetaken_cpu/timetaken_gpu*100,1), \"%\")"
   ]
  },
  {
   "cell_type": "markdown",
   "metadata": {},
   "source": [
    "#### Let's look at the model's performance"
   ]
  },
  {
   "cell_type": "code",
   "execution_count": 13,
   "metadata": {},
   "outputs": [],
   "source": [
    "preds = bst.predict(xgeval)\n",
    "\n",
    "y_pred = []\n",
    "\n",
    "THRESHOLD = 0.5\n",
    "\n",
    "for pred in preds:\n",
    "    if pred<=THRESHOLD:\n",
    "        y_pred.append(0)\n",
    "    if pred>THRESHOLD:\n",
    "        y_pred.append(1)\n",
    "\n",
    "y_pred = np.asarray(y_pred)\n",
    "        \n",
    "y_true = df_test_target.values.reshape(len(preds))"
   ]
  },
  {
   "cell_type": "code",
   "execution_count": 14,
   "metadata": {},
   "outputs": [
    {
     "name": "stdout",
     "output_type": "stream",
     "text": [
      "Accuracy (Eval) 0.885\n"
     ]
    }
   ],
   "source": [
    "print(\"Accuracy (Eval)\", round(accuracy_score(y_true, y_pred),3))"
   ]
  },
  {
   "cell_type": "code",
   "execution_count": 15,
   "metadata": {},
   "outputs": [
    {
     "name": "stdout",
     "output_type": "stream",
     "text": [
      "              precision    recall  f1-score   support\n",
      "\n",
      "      normal       0.97      0.90      0.94      4150\n",
      "        fail       0.34      0.66      0.44       314\n",
      "\n",
      "   micro avg       0.88      0.88      0.88      4464\n",
      "   macro avg       0.65      0.78      0.69      4464\n",
      "weighted avg       0.93      0.88      0.90      4464\n",
      "\n"
     ]
    }
   ],
   "source": [
    "print(classification_report(y_true, y_pred, target_names=[\"normal\", \"fail\"]))"
   ]
  },
  {
   "cell_type": "code",
   "execution_count": 16,
   "metadata": {},
   "outputs": [
    {
     "data": {
      "image/png": "[encoded data removed]",
      "text/plain": [
       "<Figure size 1008x504 with 2 Axes>"
      ]
     },
     "metadata": {},
     "output_type": "display_data"
    }
   ],
   "source": [
    "import matplotlib.pyplot as plt\n",
    "%matplotlib inline\n",
    "\n",
    "plt.style.use('seaborn-dark')\n",
    "def plot_confusion_matrix(cm, labels,\n",
    "                          normalize=True,\n",
    "                          title='Confusion Matrix (Validation Set)',\n",
    "                          cmap=plt.cm.Blues):\n",
    "    \"\"\"\n",
    "    This function prints and plots the confusion matrix.\n",
    "    Normalization can be applied by setting `normalize=True`.\n",
    "    \"\"\"\n",
    "    if normalize:\n",
    "        cm = cm.astype('float') / cm.sum(axis=1)[:, np.newaxis]\n",
    "\n",
    "    plt.imshow(cm, interpolation='nearest', cmap=cmap)\n",
    "    plt.title(title)\n",
    "    plt.colorbar()\n",
    "    tick_marks = np.arange(len(labels))\n",
    "    plt.xticks(tick_marks, labels, rotation=45)\n",
    "    plt.yticks(tick_marks, labels)\n",
    "\n",
    "    fmt = '.2f' if normalize else 'd'\n",
    "    thresh = cm.max() / 2.\n",
    "    for i, j in itertools.product(range(cm.shape[0]), range(cm.shape[1])):\n",
    "        plt.text(j, i, format(cm[i, j], fmt),\n",
    "                 horizontalalignment=\"center\",\n",
    "                 color=\"white\" if cm[i, j] > thresh else \"black\")\n",
    "\n",
    "    plt.tight_layout()\n",
    "    plt.ylabel('True label')\n",
    "    plt.xlabel('Predicted label')\n",
    "\n",
    "plt.figure(figsize=(14,7))\n",
    "cnf_matrix = confusion_matrix(y_true, y_pred)\n",
    "plot_confusion_matrix(cnf_matrix, labels=[\"normal\", \"fail\"])"
   ]
  },
  {
   "cell_type": "code",
   "execution_count": null,
   "metadata": {},
   "outputs": [],
   "source": []
  }
 ],
 "metadata": {
  "kernelspec": {
   "display_name": "Python 3",
   "language": "python",
   "name": "python3"
  },
  "language_info": {
   "codemirror_mode": {
    "name": "ipython",
    "version": 3
   },
   "file_extension": ".py",
   "mimetype": "text/x-python",
   "name": "python",
   "nbconvert_exporter": "python",
   "pygments_lexer": "ipython3",
   "version": "3.6.7"
  }
 },
 "nbformat": 4,
 "nbformat_minor": 2
}
