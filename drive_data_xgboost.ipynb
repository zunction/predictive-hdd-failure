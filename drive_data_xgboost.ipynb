{
 "cells": [
  {
   "cell_type": "markdown",
   "metadata": {},
   "source": [
    "## Predicting drive failure with XGBoost and RAPIDS\n",
    "\n",
    "**Dataset**: Hard disk SMART data and failure dataset from Backblaze ([More information](https://www.backblaze.com/b2/hard-drive-test-data.html))\n",
    "\n",
    "**Task**: Predict hard disk failure with RAPIDS"
   ]
  },
  {
   "cell_type": "code",
   "execution_count": 1,
   "metadata": {
    "ExecuteTime": {
     "end_time": "2018-12-23T14:36:50.489370Z",
     "start_time": "2018-12-23T14:36:49.322494Z"
    }
   },
   "outputs": [],
   "source": [
    "import time\n",
    "import itertools\n",
    "import numpy as np\n",
    "import pandas as pd\n",
    "from tqdm import tqdm_notebook\n",
    "\n",
    "from sklearn.metrics import *\n",
    "import matplotlib.pyplot as plt\n",
    "%matplotlib inline\n",
    "\n",
    "# RAPIDS\n",
    "import cudf\n",
    "import xgboost as xgb"
   ]
  },
  {
   "cell_type": "markdown",
   "metadata": {},
   "source": [
    "### 1. Load Data\n",
    "\n",
    "#### Training Data\n",
    "\n",
    "Use Pandas to load training data from CSV ([download link](https://s3-ap-southeast-1.amazonaws.com/deeplearning-iap-material/hdd_test_data/train.csv)). This consists of the pre-processed drive data from **January 2015** to **September 2018**."
   ]
  },
  {
   "cell_type": "code",
   "execution_count": 2,
   "metadata": {
    "ExecuteTime": {
     "end_time": "2018-12-23T14:37:13.856311Z",
     "start_time": "2018-12-23T14:36:50.491244Z"
    }
   },
   "outputs": [
    {
     "name": "stdout",
     "output_type": "stream",
     "text": [
      "<class 'pandas.core.frame.DataFrame'>\n",
      "RangeIndex: 16770 entries, 0 to 16769\n",
      "Columns: 318 entries, failure to feat314\n",
      "dtypes: float64(315), int64(3)\n",
      "memory usage: 40.7 MB\n"
     ]
    }
   ],
   "source": [
    "df = pd.read_csv(\"train.csv\")\n",
    "df.info()"
   ]
  },
  {
   "cell_type": "markdown",
   "metadata": {},
   "source": [
    "Split into features (`df_train`) and labels(`df_target`), where each is a Pandas `Dataframe`."
   ]
  },
  {
   "cell_type": "code",
   "execution_count": 3,
   "metadata": {
    "ExecuteTime": {
     "end_time": "2018-12-23T14:37:16.597909Z",
     "start_time": "2018-12-23T14:37:13.857591Z"
    }
   },
   "outputs": [],
   "source": [
    "df_train = df.drop([\"failure\"],axis=1).apply(pd.to_numeric).astype(np.float32)\n",
    "df_train_target = pd.DataFrame(df[\"failure\"]).apply(pd.to_numeric)"
   ]
  },
  {
   "cell_type": "markdown",
   "metadata": {},
   "source": [
    "#### Evaluation Data\n",
    "\n",
    "Do the same thing to load evaluation data from CSV ([download link](https://s3-ap-southeast-1.amazonaws.com/deeplearning-iap-material/hdd_test_data/eval.csv)), if you have a seperate file to load. In our case, this consists of the pre-processed drive data from **October 2017 to December 2018**."
   ]
  },
  {
   "cell_type": "code",
   "execution_count": 4,
   "metadata": {
    "ExecuteTime": {
     "end_time": "2018-12-23T14:37:29.019045Z",
     "start_time": "2018-12-23T14:37:16.599916Z"
    }
   },
   "outputs": [
    {
     "name": "stdout",
     "output_type": "stream",
     "text": [
      "<class 'pandas.core.frame.DataFrame'>\n",
      "RangeIndex: 4527 entries, 0 to 4526\n",
      "Columns: 318 entries, failure to feat314\n",
      "dtypes: float64(315), int64(3)\n",
      "memory usage: 11.0 MB\n"
     ]
    }
   ],
   "source": [
    "df_t = pd.read_csv(\"eval.csv\")\n",
    "df_t.info()\n",
    "\n",
    "df_test = df_t.drop([\"failure\"],axis=1).apply(pd.to_numeric).astype(np.float32)\n",
    "df_test_target = pd.DataFrame(df_t[\"failure\"]).apply(pd.to_numeric)"
   ]
  },
  {
   "cell_type": "markdown",
   "metadata": {},
   "source": [
    "### 2. Model Parameters"
   ]
  },
  {
   "cell_type": "code",
   "execution_count": 5,
   "metadata": {},
   "outputs": [],
   "source": [
    "MAX_TREE_DEPTH = 8\n",
    "TREE_METHOD = 'hist'\n",
    "ITERATIONS = 85\n",
    "SUBSAMPLE = 0.6\n",
    "REGULARIZATION = 1.3\n",
    "GAMMA = 0.3\n",
    "POS_WEIGHT = 1\n",
    "EARLY_STOP = 10"
   ]
  },
  {
   "cell_type": "markdown",
   "metadata": {},
   "source": [
    "### 3. Train with CPU\n",
    "\n",
    "XGBoost training with CPU (`params[tree_method] = 'hist'`), using a Pandas `Dataframe` loaded into `xgb.DMatrix`. For more information, check out [this page in the XGBoost Documentation](https://xgboost.readthedocs.io/en/latest/python/python_intro.html).\n",
    "\n",
    "As we can see, training with even a high-end Intel Xeon CPU is pretty slow!"
   ]
  },
  {
   "cell_type": "code",
   "execution_count": 6,
   "metadata": {},
   "outputs": [
    {
     "name": "stdout",
     "output_type": "stream",
     "text": [
      "Model name:          Intel(R) Core(TM) i5-8500 CPU @ 3.00GHz\n",
      "CPU(s):              6\n",
      "On-line CPU(s) list: 0-5\n",
      "NUMA node0 CPU(s):   0-5\n"
     ]
    }
   ],
   "source": [
    "!lscpu | grep 'Model name:'\n",
    "!lscpu | grep 'CPU(s)'"
   ]
  },
  {
   "cell_type": "code",
   "execution_count": 7,
   "metadata": {},
   "outputs": [
    {
     "name": "stdout",
     "output_type": "stream",
     "text": [
      "[09:46:53] Tree method is selected to be 'hist', which uses a single updater grow_fast_histmaker.\n",
      "[0]\ttrain-rmse:0.485522\teval-rmse:0.483916\n",
      "Multiple eval metrics have been passed: 'eval-rmse' will be used for early stopping.\n",
      "\n",
      "Will train until eval-rmse hasn't improved in 10 rounds.\n",
      "[1]\ttrain-rmse:0.472081\teval-rmse:0.468738\n",
      "[2]\ttrain-rmse:0.459447\teval-rmse:0.454488\n",
      "[3]\ttrain-rmse:0.447838\teval-rmse:0.441202\n",
      "[4]\ttrain-rmse:0.436842\teval-rmse:0.428515\n",
      "[5]\ttrain-rmse:0.426725\teval-rmse:0.417753\n",
      "[6]\ttrain-rmse:0.417356\teval-rmse:0.407534\n",
      "[7]\ttrain-rmse:0.408729\teval-rmse:0.397259\n",
      "[8]\ttrain-rmse:0.400673\teval-rmse:0.387984\n",
      "[9]\ttrain-rmse:0.393328\teval-rmse:0.378655\n",
      "[10]\ttrain-rmse:0.386385\teval-rmse:0.370611\n",
      "[11]\ttrain-rmse:0.380143\teval-rmse:0.36366\n",
      "[12]\ttrain-rmse:0.374194\teval-rmse:0.356321\n",
      "[13]\ttrain-rmse:0.368843\teval-rmse:0.350978\n",
      "[14]\ttrain-rmse:0.363938\teval-rmse:0.344896\n",
      "[15]\ttrain-rmse:0.359357\teval-rmse:0.339527\n",
      "[16]\ttrain-rmse:0.355302\teval-rmse:0.334126\n",
      "[17]\ttrain-rmse:0.351435\teval-rmse:0.328831\n",
      "[18]\ttrain-rmse:0.347956\teval-rmse:0.323316\n",
      "[19]\ttrain-rmse:0.344768\teval-rmse:0.319156\n",
      "[20]\ttrain-rmse:0.341718\teval-rmse:0.31413\n",
      "[21]\ttrain-rmse:0.338934\teval-rmse:0.309554\n",
      "[22]\ttrain-rmse:0.336435\teval-rmse:0.305728\n",
      "[23]\ttrain-rmse:0.333997\teval-rmse:0.302233\n",
      "[24]\ttrain-rmse:0.331656\teval-rmse:0.299344\n",
      "[25]\ttrain-rmse:0.329689\teval-rmse:0.297234\n",
      "[26]\ttrain-rmse:0.327915\teval-rmse:0.294812\n",
      "[27]\ttrain-rmse:0.326245\teval-rmse:0.291867\n",
      "[28]\ttrain-rmse:0.324743\teval-rmse:0.289237\n",
      "[29]\ttrain-rmse:0.323411\teval-rmse:0.286785\n",
      "[30]\ttrain-rmse:0.322058\teval-rmse:0.285032\n",
      "[31]\ttrain-rmse:0.320642\teval-rmse:0.283501\n",
      "[32]\ttrain-rmse:0.31936\teval-rmse:0.281488\n",
      "[33]\ttrain-rmse:0.318113\teval-rmse:0.279422\n",
      "[34]\ttrain-rmse:0.317193\teval-rmse:0.278119\n",
      "[35]\ttrain-rmse:0.31625\teval-rmse:0.276829\n",
      "[36]\ttrain-rmse:0.31531\teval-rmse:0.276033\n",
      "[37]\ttrain-rmse:0.314578\teval-rmse:0.274435\n",
      "[38]\ttrain-rmse:0.313757\teval-rmse:0.273386\n",
      "[39]\ttrain-rmse:0.31308\teval-rmse:0.272305\n",
      "[40]\ttrain-rmse:0.312265\teval-rmse:0.271801\n",
      "[41]\ttrain-rmse:0.311527\teval-rmse:0.270647\n",
      "[42]\ttrain-rmse:0.310878\teval-rmse:0.269542\n",
      "[43]\ttrain-rmse:0.310449\teval-rmse:0.268364\n",
      "[44]\ttrain-rmse:0.309752\teval-rmse:0.267183\n",
      "[45]\ttrain-rmse:0.309323\teval-rmse:0.266203\n",
      "[46]\ttrain-rmse:0.308782\teval-rmse:0.265368\n",
      "[47]\ttrain-rmse:0.30814\teval-rmse:0.264716\n",
      "[48]\ttrain-rmse:0.307536\teval-rmse:0.26433\n",
      "[49]\ttrain-rmse:0.306865\teval-rmse:0.263329\n",
      "[50]\ttrain-rmse:0.306448\teval-rmse:0.262918\n",
      "[51]\ttrain-rmse:0.305956\teval-rmse:0.262375\n",
      "[52]\ttrain-rmse:0.305549\teval-rmse:0.261863\n",
      "[53]\ttrain-rmse:0.305209\teval-rmse:0.2614\n",
      "[54]\ttrain-rmse:0.304935\teval-rmse:0.26083\n",
      "[55]\ttrain-rmse:0.304406\teval-rmse:0.261001\n",
      "[56]\ttrain-rmse:0.303873\teval-rmse:0.260723\n",
      "[57]\ttrain-rmse:0.303187\teval-rmse:0.260519\n",
      "[58]\ttrain-rmse:0.302544\teval-rmse:0.260436\n",
      "[59]\ttrain-rmse:0.302071\teval-rmse:0.260468\n",
      "[60]\ttrain-rmse:0.301896\teval-rmse:0.260027\n",
      "[61]\ttrain-rmse:0.301593\teval-rmse:0.259635\n",
      "[62]\ttrain-rmse:0.301217\teval-rmse:0.259235\n",
      "[63]\ttrain-rmse:0.300867\teval-rmse:0.259214\n",
      "[64]\ttrain-rmse:0.300609\teval-rmse:0.25915\n",
      "[65]\ttrain-rmse:0.299938\teval-rmse:0.259748\n",
      "[66]\ttrain-rmse:0.299768\teval-rmse:0.259448\n",
      "[67]\ttrain-rmse:0.299338\teval-rmse:0.259281\n",
      "[68]\ttrain-rmse:0.298835\teval-rmse:0.259283\n",
      "[69]\ttrain-rmse:0.29837\teval-rmse:0.259076\n",
      "[70]\ttrain-rmse:0.297925\teval-rmse:0.258532\n",
      "[71]\ttrain-rmse:0.297568\teval-rmse:0.258459\n",
      "[72]\ttrain-rmse:0.296964\teval-rmse:0.258685\n",
      "[73]\ttrain-rmse:0.296667\teval-rmse:0.258669\n",
      "[74]\ttrain-rmse:0.295906\teval-rmse:0.258538\n",
      "[75]\ttrain-rmse:0.295469\teval-rmse:0.258176\n",
      "[76]\ttrain-rmse:0.295054\teval-rmse:0.258066\n",
      "[77]\ttrain-rmse:0.294586\teval-rmse:0.25809\n",
      "[78]\ttrain-rmse:0.29422\teval-rmse:0.258462\n",
      "[79]\ttrain-rmse:0.293839\teval-rmse:0.258148\n",
      "[80]\ttrain-rmse:0.293248\teval-rmse:0.25836\n",
      "[81]\ttrain-rmse:0.292971\teval-rmse:0.25819\n",
      "[82]\ttrain-rmse:0.292487\teval-rmse:0.257578\n",
      "[83]\ttrain-rmse:0.292032\teval-rmse:0.257889\n",
      "[84]\ttrain-rmse:0.291632\teval-rmse:0.25772\n"
     ]
    }
   ],
   "source": [
    "start_time = time.time()\n",
    "\n",
    "xgtrain = xgb.DMatrix(df_train, df_train_target)\n",
    "xgeval = xgb.DMatrix(df_test, df_test_target)\n",
    "\n",
    "params = {'tree_method': TREE_METHOD, 'max_depth': MAX_TREE_DEPTH, 'alpha': REGULARIZATION,\n",
    "          'gamma': GAMMA, 'subsample': SUBSAMPLE, 'scale_pos_weight': POS_WEIGHT, 'learning_rate': 0.05, 'silent': 1}\n",
    "\n",
    "bst = xgb.train(params, xgtrain, ITERATIONS, evals=[(xgtrain, \"train\"), (xgeval, \"eval\")],\n",
    "                early_stopping_rounds=EARLY_STOP)\n",
    "\n",
    "timetaken_cpu = time.time() - start_time\n",
    "\n",
    "# free up memory\n",
    "del xgtrain\n",
    "del bst"
   ]
  },
  {
   "cell_type": "markdown",
   "metadata": {},
   "source": [
    "### 4. Train with GPU\n",
    "\n",
    "To use GPU, we set `params[tree_method] = 'gpu_hist'`."
   ]
  },
  {
   "cell_type": "code",
   "execution_count": 8,
   "metadata": {
    "ExecuteTime": {
     "end_time": "2018-12-23T14:38:13.023281Z",
     "start_time": "2018-12-23T14:37:29.020880Z"
    }
   },
   "outputs": [
    {
     "name": "stdout",
     "output_type": "stream",
     "text": [
      "[0]\ttrain-rmse:0.485375\teval-rmse:0.484233\n",
      "Multiple eval metrics have been passed: 'eval-rmse' will be used for early stopping.\n",
      "\n",
      "Will train until eval-rmse hasn't improved in 10 rounds.\n",
      "[1]\ttrain-rmse:0.471859\teval-rmse:0.468584\n",
      "[2]\ttrain-rmse:0.459161\teval-rmse:0.453796\n",
      "[3]\ttrain-rmse:0.447539\teval-rmse:0.440427\n",
      "[4]\ttrain-rmse:0.436661\teval-rmse:0.427907\n",
      "[5]\ttrain-rmse:0.4265\teval-rmse:0.416196\n",
      "[6]\ttrain-rmse:0.417082\teval-rmse:0.40511\n",
      "[7]\ttrain-rmse:0.40838\teval-rmse:0.395929\n",
      "[8]\ttrain-rmse:0.400385\teval-rmse:0.386085\n",
      "[9]\ttrain-rmse:0.392942\teval-rmse:0.378574\n",
      "[10]\ttrain-rmse:0.386156\teval-rmse:0.36988\n",
      "[11]\ttrain-rmse:0.379842\teval-rmse:0.362094\n",
      "[12]\ttrain-rmse:0.373961\teval-rmse:0.355979\n",
      "[13]\ttrain-rmse:0.368511\teval-rmse:0.349096\n",
      "[14]\ttrain-rmse:0.363486\teval-rmse:0.343674\n",
      "[15]\ttrain-rmse:0.3589\teval-rmse:0.338189\n",
      "[16]\ttrain-rmse:0.354622\teval-rmse:0.332575\n",
      "[17]\ttrain-rmse:0.350749\teval-rmse:0.326985\n",
      "[18]\ttrain-rmse:0.347132\teval-rmse:0.32233\n",
      "[19]\ttrain-rmse:0.343794\teval-rmse:0.319012\n",
      "[20]\ttrain-rmse:0.340752\teval-rmse:0.314681\n",
      "[21]\ttrain-rmse:0.33794\teval-rmse:0.311204\n",
      "[22]\ttrain-rmse:0.335303\teval-rmse:0.307299\n",
      "[23]\ttrain-rmse:0.332956\teval-rmse:0.304027\n",
      "[24]\ttrain-rmse:0.330746\teval-rmse:0.301338\n",
      "[25]\ttrain-rmse:0.328703\teval-rmse:0.298625\n",
      "[26]\ttrain-rmse:0.326794\teval-rmse:0.295437\n",
      "[27]\ttrain-rmse:0.325157\teval-rmse:0.292684\n",
      "[28]\ttrain-rmse:0.323591\teval-rmse:0.29008\n",
      "[29]\ttrain-rmse:0.322075\teval-rmse:0.287909\n",
      "[30]\ttrain-rmse:0.320773\teval-rmse:0.285764\n",
      "[31]\ttrain-rmse:0.319506\teval-rmse:0.284034\n",
      "[32]\ttrain-rmse:0.318295\teval-rmse:0.282033\n",
      "[33]\ttrain-rmse:0.317076\teval-rmse:0.280645\n",
      "[34]\ttrain-rmse:0.316076\teval-rmse:0.278945\n",
      "[35]\ttrain-rmse:0.315271\teval-rmse:0.277279\n",
      "[36]\ttrain-rmse:0.314175\teval-rmse:0.276812\n",
      "[37]\ttrain-rmse:0.313332\teval-rmse:0.27549\n",
      "[38]\ttrain-rmse:0.312605\teval-rmse:0.27418\n",
      "[39]\ttrain-rmse:0.311802\teval-rmse:0.272747\n",
      "[40]\ttrain-rmse:0.311164\teval-rmse:0.271505\n",
      "[41]\ttrain-rmse:0.310486\teval-rmse:0.270492\n",
      "[42]\ttrain-rmse:0.310009\teval-rmse:0.2694\n",
      "[43]\ttrain-rmse:0.309507\teval-rmse:0.268005\n",
      "[44]\ttrain-rmse:0.309006\teval-rmse:0.267546\n",
      "[45]\ttrain-rmse:0.308593\teval-rmse:0.266527\n",
      "[46]\ttrain-rmse:0.308029\teval-rmse:0.265926\n",
      "[47]\ttrain-rmse:0.30767\teval-rmse:0.265124\n",
      "[48]\ttrain-rmse:0.307286\teval-rmse:0.264447\n",
      "[49]\ttrain-rmse:0.306483\teval-rmse:0.264282\n",
      "[50]\ttrain-rmse:0.306106\teval-rmse:0.263329\n",
      "[51]\ttrain-rmse:0.305711\teval-rmse:0.263174\n",
      "[52]\ttrain-rmse:0.305063\teval-rmse:0.263006\n",
      "[53]\ttrain-rmse:0.304741\teval-rmse:0.262643\n",
      "[54]\ttrain-rmse:0.30421\teval-rmse:0.262009\n",
      "[55]\ttrain-rmse:0.303771\teval-rmse:0.261519\n",
      "[56]\ttrain-rmse:0.303393\teval-rmse:0.261315\n",
      "[57]\ttrain-rmse:0.302759\teval-rmse:0.261277\n",
      "[58]\ttrain-rmse:0.302441\teval-rmse:0.260819\n",
      "[59]\ttrain-rmse:0.301916\teval-rmse:0.260723\n",
      "[60]\ttrain-rmse:0.301617\teval-rmse:0.260511\n",
      "[61]\ttrain-rmse:0.301232\teval-rmse:0.259914\n",
      "[62]\ttrain-rmse:0.3007\teval-rmse:0.259454\n",
      "[63]\ttrain-rmse:0.300216\teval-rmse:0.259136\n",
      "[64]\ttrain-rmse:0.299756\teval-rmse:0.258921\n",
      "[65]\ttrain-rmse:0.299388\teval-rmse:0.258837\n",
      "[66]\ttrain-rmse:0.298888\teval-rmse:0.258401\n",
      "[67]\ttrain-rmse:0.298374\teval-rmse:0.258283\n",
      "[68]\ttrain-rmse:0.298041\teval-rmse:0.258146\n",
      "[69]\ttrain-rmse:0.297785\teval-rmse:0.257773\n",
      "[70]\ttrain-rmse:0.297478\teval-rmse:0.257458\n",
      "[71]\ttrain-rmse:0.297289\teval-rmse:0.257309\n",
      "[72]\ttrain-rmse:0.296909\teval-rmse:0.257197\n",
      "[73]\ttrain-rmse:0.296457\teval-rmse:0.257012\n",
      "[74]\ttrain-rmse:0.29607\teval-rmse:0.25695\n",
      "[75]\ttrain-rmse:0.295635\teval-rmse:0.256793\n",
      "[76]\ttrain-rmse:0.295236\teval-rmse:0.256707\n",
      "[77]\ttrain-rmse:0.29475\teval-rmse:0.25678\n",
      "[78]\ttrain-rmse:0.294309\teval-rmse:0.25666\n",
      "[79]\ttrain-rmse:0.294063\teval-rmse:0.256741\n",
      "[80]\ttrain-rmse:0.293887\teval-rmse:0.256656\n",
      "[81]\ttrain-rmse:0.29347\teval-rmse:0.257097\n",
      "[82]\ttrain-rmse:0.293018\teval-rmse:0.257085\n",
      "[83]\ttrain-rmse:0.292591\teval-rmse:0.257051\n",
      "[84]\ttrain-rmse:0.292142\teval-rmse:0.256467\n"
     ]
    }
   ],
   "source": [
    "# GPU, without using cuDF\n",
    "\n",
    "start_time = time.time()\n",
    "\n",
    "xgtrain = xgb.DMatrix(df_train, df_train_target)\n",
    "xgeval = xgb.DMatrix(df_test, df_test_target)\n",
    "\n",
    "params = {'tree_method': \"gpu_\"+TREE_METHOD, 'max_depth': MAX_TREE_DEPTH, 'alpha': REGULARIZATION,\n",
    "          'gamma': GAMMA, 'subsample': SUBSAMPLE, 'scale_pos_weight': POS_WEIGHT, 'learning_rate': 0.05, 'silent': 1}\n",
    "\n",
    "bst = xgb.train(params, xgtrain, ITERATIONS, evals=[(xgtrain, \"train\"), (xgeval, \"eval\")],\n",
    "                early_stopping_rounds=EARLY_STOP)\n",
    "\n",
    "timetaken_gpu_nocudf = time.time() - start_time\n",
    "\n",
    "# free up memory\n",
    "del xgtrain\n",
    "del bst"
   ]
  },
  {
   "cell_type": "markdown",
   "metadata": {},
   "source": [
    "Use full RAPIDS stack by using XGBoost with cuDF for additional speedup. To do this, we load the Pandas `Dataframe` into a cuDF Dataframe (Python object type `cudf.dataframe.dataframe.DataFrame`)."
   ]
  },
  {
   "cell_type": "code",
   "execution_count": 9,
   "metadata": {
    "ExecuteTime": {
     "end_time": "2018-12-23T14:38:14.073981Z",
     "start_time": "2018-12-23T14:38:13.024721Z"
    }
   },
   "outputs": [],
   "source": [
    "# load into cuDF Dataframe\n",
    "\n",
    "gdf_train = cudf.DataFrame.from_pandas(df_train)\n",
    "gdf_train_target = cudf.DataFrame.from_pandas(df_train_target)\n",
    "\n",
    "gdf_eval = cudf.DataFrame.from_pandas(df_test)\n",
    "gdf_eval_target = cudf.DataFrame.from_pandas(df_test_target)"
   ]
  },
  {
   "cell_type": "code",
   "execution_count": 10,
   "metadata": {
    "ExecuteTime": {
     "end_time": "2018-12-23T14:38:28.652178Z",
     "start_time": "2018-12-23T14:38:14.075351Z"
    }
   },
   "outputs": [
    {
     "name": "stdout",
     "output_type": "stream",
     "text": [
      "[0]\ttrain-rmse:0.485375\teval-rmse:0.484233\n",
      "Multiple eval metrics have been passed: 'eval-rmse' will be used for early stopping.\n",
      "\n",
      "Will train until eval-rmse hasn't improved in 10 rounds.\n",
      "[1]\ttrain-rmse:0.471859\teval-rmse:0.468584\n",
      "[2]\ttrain-rmse:0.459161\teval-rmse:0.453796\n",
      "[3]\ttrain-rmse:0.447539\teval-rmse:0.440427\n",
      "[4]\ttrain-rmse:0.436661\teval-rmse:0.427907\n",
      "[5]\ttrain-rmse:0.4265\teval-rmse:0.416196\n",
      "[6]\ttrain-rmse:0.417082\teval-rmse:0.40511\n",
      "[7]\ttrain-rmse:0.40838\teval-rmse:0.395929\n",
      "[8]\ttrain-rmse:0.400385\teval-rmse:0.386085\n",
      "[9]\ttrain-rmse:0.392942\teval-rmse:0.378574\n",
      "[10]\ttrain-rmse:0.386156\teval-rmse:0.36988\n",
      "[11]\ttrain-rmse:0.379842\teval-rmse:0.362094\n",
      "[12]\ttrain-rmse:0.373961\teval-rmse:0.355979\n",
      "[13]\ttrain-rmse:0.368511\teval-rmse:0.349096\n",
      "[14]\ttrain-rmse:0.363486\teval-rmse:0.343674\n",
      "[15]\ttrain-rmse:0.3589\teval-rmse:0.338189\n",
      "[16]\ttrain-rmse:0.354622\teval-rmse:0.332575\n",
      "[17]\ttrain-rmse:0.350749\teval-rmse:0.326985\n",
      "[18]\ttrain-rmse:0.347132\teval-rmse:0.32233\n",
      "[19]\ttrain-rmse:0.343794\teval-rmse:0.319012\n",
      "[20]\ttrain-rmse:0.340752\teval-rmse:0.314681\n",
      "[21]\ttrain-rmse:0.33794\teval-rmse:0.311204\n",
      "[22]\ttrain-rmse:0.335303\teval-rmse:0.307299\n",
      "[23]\ttrain-rmse:0.332956\teval-rmse:0.304027\n",
      "[24]\ttrain-rmse:0.330746\teval-rmse:0.301338\n",
      "[25]\ttrain-rmse:0.328703\teval-rmse:0.298625\n",
      "[26]\ttrain-rmse:0.326794\teval-rmse:0.295437\n",
      "[27]\ttrain-rmse:0.325157\teval-rmse:0.292684\n",
      "[28]\ttrain-rmse:0.323591\teval-rmse:0.29008\n",
      "[29]\ttrain-rmse:0.322075\teval-rmse:0.287909\n",
      "[30]\ttrain-rmse:0.320773\teval-rmse:0.285764\n",
      "[31]\ttrain-rmse:0.319506\teval-rmse:0.284034\n",
      "[32]\ttrain-rmse:0.318295\teval-rmse:0.282033\n",
      "[33]\ttrain-rmse:0.317076\teval-rmse:0.280645\n",
      "[34]\ttrain-rmse:0.316076\teval-rmse:0.278945\n",
      "[35]\ttrain-rmse:0.315271\teval-rmse:0.277279\n",
      "[36]\ttrain-rmse:0.314175\teval-rmse:0.276812\n",
      "[37]\ttrain-rmse:0.313332\teval-rmse:0.27549\n",
      "[38]\ttrain-rmse:0.312605\teval-rmse:0.27418\n",
      "[39]\ttrain-rmse:0.311802\teval-rmse:0.272747\n",
      "[40]\ttrain-rmse:0.311164\teval-rmse:0.271505\n",
      "[41]\ttrain-rmse:0.310486\teval-rmse:0.270492\n",
      "[42]\ttrain-rmse:0.310009\teval-rmse:0.2694\n",
      "[43]\ttrain-rmse:0.309507\teval-rmse:0.268005\n",
      "[44]\ttrain-rmse:0.309006\teval-rmse:0.267546\n",
      "[45]\ttrain-rmse:0.308593\teval-rmse:0.266527\n",
      "[46]\ttrain-rmse:0.308029\teval-rmse:0.265926\n",
      "[47]\ttrain-rmse:0.30767\teval-rmse:0.265124\n",
      "[48]\ttrain-rmse:0.307286\teval-rmse:0.264447\n",
      "[49]\ttrain-rmse:0.306483\teval-rmse:0.264282\n",
      "[50]\ttrain-rmse:0.306106\teval-rmse:0.263329\n",
      "[51]\ttrain-rmse:0.305711\teval-rmse:0.263174\n",
      "[52]\ttrain-rmse:0.305063\teval-rmse:0.263006\n",
      "[53]\ttrain-rmse:0.304741\teval-rmse:0.262643\n",
      "[54]\ttrain-rmse:0.30421\teval-rmse:0.262009\n",
      "[55]\ttrain-rmse:0.303771\teval-rmse:0.261519\n",
      "[56]\ttrain-rmse:0.303393\teval-rmse:0.261315\n",
      "[57]\ttrain-rmse:0.302759\teval-rmse:0.261277\n",
      "[58]\ttrain-rmse:0.302441\teval-rmse:0.260819\n",
      "[59]\ttrain-rmse:0.301916\teval-rmse:0.260723\n",
      "[60]\ttrain-rmse:0.301617\teval-rmse:0.260511\n",
      "[61]\ttrain-rmse:0.301232\teval-rmse:0.259914\n",
      "[62]\ttrain-rmse:0.3007\teval-rmse:0.259454\n",
      "[63]\ttrain-rmse:0.300216\teval-rmse:0.259136\n",
      "[64]\ttrain-rmse:0.299756\teval-rmse:0.258921\n",
      "[65]\ttrain-rmse:0.299388\teval-rmse:0.258837\n",
      "[66]\ttrain-rmse:0.298888\teval-rmse:0.258401\n",
      "[67]\ttrain-rmse:0.298374\teval-rmse:0.258283\n",
      "[68]\ttrain-rmse:0.298041\teval-rmse:0.258146\n",
      "[69]\ttrain-rmse:0.297785\teval-rmse:0.257773\n",
      "[70]\ttrain-rmse:0.297478\teval-rmse:0.257458\n",
      "[71]\ttrain-rmse:0.297289\teval-rmse:0.257309\n",
      "[72]\ttrain-rmse:0.296909\teval-rmse:0.257197\n",
      "[73]\ttrain-rmse:0.296457\teval-rmse:0.257012\n",
      "[74]\ttrain-rmse:0.29607\teval-rmse:0.25695\n",
      "[75]\ttrain-rmse:0.295635\teval-rmse:0.256793\n",
      "[76]\ttrain-rmse:0.295236\teval-rmse:0.256707\n",
      "[77]\ttrain-rmse:0.29475\teval-rmse:0.25678\n",
      "[78]\ttrain-rmse:0.294309\teval-rmse:0.25666\n",
      "[79]\ttrain-rmse:0.294063\teval-rmse:0.256741\n",
      "[80]\ttrain-rmse:0.293887\teval-rmse:0.256656\n",
      "[81]\ttrain-rmse:0.29347\teval-rmse:0.257097\n",
      "[82]\ttrain-rmse:0.293018\teval-rmse:0.257085\n",
      "[83]\ttrain-rmse:0.292591\teval-rmse:0.257051\n",
      "[84]\ttrain-rmse:0.292142\teval-rmse:0.256467\n"
     ]
    }
   ],
   "source": [
    "# GPU, with using cuDF\n",
    "\n",
    "start_time = time.time()\n",
    "\n",
    "xgtrain = xgb.DMatrix(gdf_train, gdf_train_target)\n",
    "xgeval = xgb.DMatrix(gdf_eval, gdf_eval_target)\n",
    "\n",
    "params = {'tree_method': \"gpu_\"+TREE_METHOD, 'max_depth': MAX_TREE_DEPTH, 'alpha': REGULARIZATION,\n",
    "          'gamma': GAMMA, 'subsample': SUBSAMPLE, 'scale_pos_weight': POS_WEIGHT, 'learning_rate': 0.05, 'silent': 1}\n",
    "\n",
    "bst = xgb.train(params, xgtrain, ITERATIONS, evals=[(xgtrain, \"train\"), (xgeval, \"eval\")],\n",
    "                early_stopping_rounds=EARLY_STOP)\n",
    "\n",
    "timetaken_gpu = time.time() - start_time"
   ]
  },
  {
   "cell_type": "code",
   "execution_count": 11,
   "metadata": {
    "ExecuteTime": {
     "end_time": "2018-12-23T14:38:29.532366Z",
     "start_time": "2018-12-23T14:38:28.653601Z"
    }
   },
   "outputs": [
    {
     "name": "stdout",
     "output_type": "stream",
     "text": [
      "Check GPU memory usage\n",
      "\u001b[1m\u001b[37mbeb174e7a4a9\u001b[m  Thu Jan 24 09:47:06 2019\n",
      "\u001b[36m[0]\u001b[m \u001b[34mGeForce GTX 1080 Ti\u001b[m |\u001b[31m 47'C\u001b[m, \u001b[32m  9 %\u001b[m | \u001b[36m\u001b[1m\u001b[33m  807\u001b[m / \u001b[33m11175\u001b[m MB |\n"
     ]
    }
   ],
   "source": [
    "print(\"Check GPU memory usage\")\n",
    "!gpustat"
   ]
  },
  {
   "cell_type": "markdown",
   "metadata": {},
   "source": [
    "### 5. Results\n",
    "\n",
    "We see a significant speed-up when we use the RAPIDS stack."
   ]
  },
  {
   "cell_type": "code",
   "execution_count": 12,
   "metadata": {
    "ExecuteTime": {
     "end_time": "2018-12-23T14:38:29.537586Z",
     "start_time": "2018-12-23T14:38:29.534001Z"
    }
   },
   "outputs": [
    {
     "name": "stdout",
     "output_type": "stream",
     "text": [
      "CPU Time Taken:\n",
      " 7.4\n",
      "\n",
      "GPU (no cuDF) Time Taken:\n",
      " 2.0\n",
      "\n",
      "GPU (cuDF) Time Taken:\n",
      " 1.8\n",
      "\n",
      "Total speed-up with RAPIDS:\n",
      " 422.3 %\n"
     ]
    }
   ],
   "source": [
    "print(\"CPU Time Taken:\\n\", round(timetaken_cpu,1))\n",
    "print(\"\\nGPU (no cuDF) Time Taken:\\n\", round(timetaken_gpu_nocudf,1))\n",
    "print(\"\\nGPU (cuDF) Time Taken:\\n\", round(timetaken_gpu,1))\n",
    "print(\"\\nTotal speed-up with RAPIDS:\\n\", round(timetaken_cpu/timetaken_gpu*100,1), \"%\")"
   ]
  },
  {
   "cell_type": "markdown",
   "metadata": {},
   "source": [
    "Let's look at the model's performance on the evalutation set"
   ]
  },
  {
   "cell_type": "code",
   "execution_count": 13,
   "metadata": {},
   "outputs": [],
   "source": [
    "preds = bst.predict(xgeval)\n",
    "\n",
    "y_pred = []\n",
    "\n",
    "THRESHOLD = 0.5\n",
    "\n",
    "for pred in preds:\n",
    "    if pred<=THRESHOLD:\n",
    "        y_pred.append(0)\n",
    "    if pred>THRESHOLD:\n",
    "        y_pred.append(1)\n",
    "\n",
    "y_pred = np.asarray(y_pred)\n",
    "        \n",
    "y_true = df_test_target.values.reshape(len(preds))"
   ]
  },
  {
   "cell_type": "code",
   "execution_count": 14,
   "metadata": {},
   "outputs": [
    {
     "name": "stdout",
     "output_type": "stream",
     "text": [
      "Accuracy (Eval) 0.945\n"
     ]
    }
   ],
   "source": [
    "print(\"Accuracy (Eval)\", round(accuracy_score(y_true, y_pred),3))"
   ]
  },
  {
   "cell_type": "code",
   "execution_count": 15,
   "metadata": {},
   "outputs": [
    {
     "name": "stdout",
     "output_type": "stream",
     "text": [
      "              precision    recall  f1-score   support\n",
      "\n",
      "      normal       0.97      0.97      0.97      4208\n",
      "        fail       0.61      0.61      0.61       319\n",
      "\n",
      "   micro avg       0.95      0.95      0.95      4527\n",
      "   macro avg       0.79      0.79      0.79      4527\n",
      "weighted avg       0.95      0.95      0.95      4527\n",
      "\n"
     ]
    }
   ],
   "source": [
    "print(classification_report(y_true, y_pred, target_names=[\"normal\", \"fail\"]))"
   ]
  },
  {
   "cell_type": "code",
   "execution_count": 16,
   "metadata": {},
   "outputs": [
    {
     "data": {
      "image/png": "[encoded data removed]",
      "text/plain": [
       "<Figure size 1008x504 with 2 Axes>"
      ]
     },
     "metadata": {},
     "output_type": "display_data"
    }
   ],
   "source": [
    "plt.style.use('seaborn-dark')\n",
    "def plot_confusion_matrix(cm, labels,\n",
    "                          normalize=True,\n",
    "                          title='Confusion Matrix (Validation Set)',\n",
    "                          cmap=plt.cm.Blues):\n",
    "    \"\"\"\n",
    "    This function prints and plots the confusion matrix.\n",
    "    Normalization can be applied by setting `normalize=True`.\n",
    "    \"\"\"\n",
    "    if normalize:\n",
    "        cm = cm.astype('float') / cm.sum(axis=1)[:, np.newaxis]\n",
    "\n",
    "    plt.imshow(cm, interpolation='nearest', cmap=cmap)\n",
    "    plt.title(title)\n",
    "    plt.colorbar()\n",
    "    tick_marks = np.arange(len(labels))\n",
    "    plt.xticks(tick_marks, labels, rotation=45)\n",
    "    plt.yticks(tick_marks, labels)\n",
    "\n",
    "    fmt = '.2f' if normalize else 'd'\n",
    "    thresh = cm.max() / 2.\n",
    "    for i, j in itertools.product(range(cm.shape[0]), range(cm.shape[1])):\n",
    "        plt.text(j, i, format(cm[i, j], fmt),\n",
    "                 horizontalalignment=\"center\",\n",
    "                 color=\"white\" if cm[i, j] > thresh else \"black\")\n",
    "\n",
    "    plt.tight_layout()\n",
    "    plt.ylabel('True label')\n",
    "    plt.xlabel('Predicted label')\n",
    "\n",
    "plt.figure(figsize=(14,7))\n",
    "cnf_matrix = confusion_matrix(y_true, y_pred)\n",
    "plot_confusion_matrix(cnf_matrix, labels=[\"normal\", \"fail\"])"
   ]
  },
  {
   "cell_type": "code",
   "execution_count": null,
   "metadata": {},
   "outputs": [],
   "source": []
  },
  {
   "cell_type": "code",
   "execution_count": null,
   "metadata": {},
   "outputs": [],
   "source": []
  }
 ],
 "metadata": {
  "kernelspec": {
   "display_name": "Python 3",
   "language": "python",
   "name": "python3"
  },
  "language_info": {
   "codemirror_mode": {
    "name": "ipython",
    "version": 3
   },
   "file_extension": ".py",
   "mimetype": "text/x-python",
   "name": "python",
   "nbconvert_exporter": "python",
   "pygments_lexer": "ipython3",
   "version": "3.6.7"
  }
 },
 "nbformat": 4,
 "nbformat_minor": 2
}
