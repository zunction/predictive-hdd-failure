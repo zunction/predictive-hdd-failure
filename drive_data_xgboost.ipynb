{
 "cells": [
  {
   "cell_type": "markdown",
   "metadata": {},
   "source": [
    "## Predicting drive failure with XGBoost and RAPIDS\n",
    "\n",
    "**Dataset**: Hard disk SMART data and failure dataset from Backblaze ([More information](https://www.backblaze.com/b2/hard-drive-test-data.html))\n",
    "\n",
    "**Task**: Predict hard disk failure with RAPIDS"
   ]
  },
  {
   "cell_type": "code",
   "execution_count": 1,
   "metadata": {
    "ExecuteTime": {
     "end_time": "2018-12-23T14:36:50.489370Z",
     "start_time": "2018-12-23T14:36:49.322494Z"
    }
   },
   "outputs": [],
   "source": [
    "import time\n",
    "import numpy as np\n",
    "import pandas as pd\n",
    "from tqdm import tqdm_notebook\n",
    "\n",
    "from sklearn.metrics import mean_squared_error, accuracy_score\n",
    "from sklearn.model_selection import train_test_split\n",
    "from sklearn.preprocessing import OneHotEncoder\n",
    "\n",
    "# RAPIDS\n",
    "import cudf\n",
    "import xgboost as xgb"
   ]
  },
  {
   "cell_type": "markdown",
   "metadata": {},
   "source": [
    "### 1. Load Data\n",
    "\n",
    "#### Training Data\n",
    "\n",
    "Use Pandas to load training data from CSV. This consists of the drive data from July and August 2018."
   ]
  },
  {
   "cell_type": "code",
   "execution_count": 2,
   "metadata": {
    "ExecuteTime": {
     "end_time": "2018-12-23T14:37:13.856311Z",
     "start_time": "2018-12-23T14:36:50.491244Z"
    }
   },
   "outputs": [
    {
     "name": "stdout",
     "output_type": "stream",
     "text": [
      "<class 'pandas.core.frame.DataFrame'>\n",
      "RangeIndex: 9073 entries, 0 to 9072\n",
      "Columns: 283 entries, failure to feat279\n",
      "dtypes: float64(280), int64(3)\n",
      "memory usage: 19.6 MB\n"
     ]
    }
   ],
   "source": [
    "df = pd.read_csv(\"merged.csv\")\n",
    "df.info()"
   ]
  },
  {
   "cell_type": "markdown",
   "metadata": {},
   "source": [
    "Split into features (`df_train`) and labels(`df_target`), where each is a Pandas `Dataframe`."
   ]
  },
  {
   "cell_type": "code",
   "execution_count": 3,
   "metadata": {
    "ExecuteTime": {
     "end_time": "2018-12-23T14:37:16.597909Z",
     "start_time": "2018-12-23T14:37:13.857591Z"
    }
   },
   "outputs": [],
   "source": [
    "df_train = df.drop([\"failure\"],axis=1).apply(pd.to_numeric)\n",
    "df_train_target = pd.DataFrame(df[\"failure\"]).apply(pd.to_numeric)"
   ]
  },
  {
   "cell_type": "markdown",
   "metadata": {},
   "source": [
    "#### Evaluation Data\n",
    "\n",
    "Do the same thing to load evaluation data from CSV. This consists of the drive data from September 2018."
   ]
  },
  {
   "cell_type": "code",
   "execution_count": 4,
   "metadata": {
    "ExecuteTime": {
     "end_time": "2018-12-23T14:37:29.019045Z",
     "start_time": "2018-12-23T14:37:16.599916Z"
    }
   },
   "outputs": [
    {
     "data": {
      "text/plain": [
       "'\\ndf_t = pd.read_csv(\"eval.csv\")\\n\\n# fill in null data\\ndf_t.fillna(0, inplace=True)\\n\\ndf_test = df_t.drop([\"failure\"],axis=1).apply(pd.to_numeric)\\ndf_test_target = pd.DataFrame(df_t[\"failure\"]).apply(pd.to_numeric)\\n'"
      ]
     },
     "execution_count": 4,
     "metadata": {},
     "output_type": "execute_result"
    }
   ],
   "source": [
    "\"\"\"\n",
    "df_t = pd.read_csv(\"eval.csv\")\n",
    "\n",
    "# fill in null data\n",
    "df_t.fillna(0, inplace=True)\n",
    "\n",
    "df_test = df_t.drop([\"failure\"],axis=1).apply(pd.to_numeric)\n",
    "df_test_target = pd.DataFrame(df_t[\"failure\"]).apply(pd.to_numeric)\n",
    "\"\"\""
   ]
  },
  {
   "cell_type": "code",
   "execution_count": 5,
   "metadata": {},
   "outputs": [],
   "source": [
    "MAX_TREE_DEPTH = 24"
   ]
  },
  {
   "cell_type": "markdown",
   "metadata": {},
   "source": [
    "### 2. Train with CPU\n",
    "\n",
    "XGBoost training with CPU (`params[tree_method] = 'hist'`), using a Pandas `Dataframe` loaded into `xgb.DMatrix`. For more information, check out [this page in the XGBoost Documentation](https://xgboost.readthedocs.io/en/latest/python/python_intro.html)."
   ]
  },
  {
   "cell_type": "code",
   "execution_count": 6,
   "metadata": {},
   "outputs": [
    {
     "name": "stdout",
     "output_type": "stream",
     "text": [
      "Model name:          Intel(R) Xeon(R) CPU @ 2.50GHz\r\n"
     ]
    }
   ],
   "source": [
    "!lscpu | grep 'Model name:'"
   ]
  },
  {
   "cell_type": "code",
   "execution_count": 7,
   "metadata": {
    "ExecuteTime": {
     "end_time": "2018-12-23T14:38:13.023281Z",
     "start_time": "2018-12-23T14:37:29.020880Z"
    }
   },
   "outputs": [
    {
     "name": "stdout",
     "output_type": "stream",
     "text": [
      "[14:30:32] Tree method is selected to be 'hist', which uses a single updater grow_fast_histmaker.\n",
      "[0]\ttrain-rmse:0.458602\n",
      "[1]\ttrain-rmse:0.422086\n",
      "[2]\ttrain-rmse:0.388583\n",
      "[3]\ttrain-rmse:0.359051\n",
      "[4]\ttrain-rmse:0.32972\n",
      "[5]\ttrain-rmse:0.304788\n",
      "[6]\ttrain-rmse:0.281717\n",
      "[7]\ttrain-rmse:0.260684\n",
      "[8]\ttrain-rmse:0.242567\n",
      "[9]\ttrain-rmse:0.22425\n",
      "[10]\ttrain-rmse:0.209296\n",
      "[11]\ttrain-rmse:0.193687\n",
      "[12]\ttrain-rmse:0.180069\n",
      "[13]\ttrain-rmse:0.166977\n",
      "[14]\ttrain-rmse:0.155834\n",
      "[15]\ttrain-rmse:0.14548\n",
      "[16]\ttrain-rmse:0.136427\n",
      "[17]\ttrain-rmse:0.128002\n",
      "[18]\ttrain-rmse:0.119581\n",
      "[19]\ttrain-rmse:0.11277\n",
      "[20]\ttrain-rmse:0.107372\n",
      "[21]\ttrain-rmse:0.101577\n",
      "[22]\ttrain-rmse:0.096232\n",
      "[23]\ttrain-rmse:0.09021\n",
      "[24]\ttrain-rmse:0.085917\n",
      "[25]\ttrain-rmse:0.082956\n",
      "[26]\ttrain-rmse:0.078009\n",
      "[27]\ttrain-rmse:0.075276\n",
      "[28]\ttrain-rmse:0.071852\n",
      "[29]\ttrain-rmse:0.068625\n",
      "[30]\ttrain-rmse:0.06612\n",
      "[31]\ttrain-rmse:0.064061\n",
      "[32]\ttrain-rmse:0.061051\n",
      "[33]\ttrain-rmse:0.059857\n",
      "[34]\ttrain-rmse:0.056776\n",
      "[35]\ttrain-rmse:0.053911\n",
      "[36]\ttrain-rmse:0.052372\n",
      "[37]\ttrain-rmse:0.049751\n",
      "[38]\ttrain-rmse:0.047719\n",
      "[39]\ttrain-rmse:0.046233\n",
      "[40]\ttrain-rmse:0.044978\n",
      "[41]\ttrain-rmse:0.043139\n",
      "[42]\ttrain-rmse:0.04163\n",
      "[43]\ttrain-rmse:0.039978\n",
      "[44]\ttrain-rmse:0.038502\n",
      "[45]\ttrain-rmse:0.036574\n",
      "[46]\ttrain-rmse:0.035273\n",
      "[47]\ttrain-rmse:0.033978\n",
      "[48]\ttrain-rmse:0.033064\n",
      "[49]\ttrain-rmse:0.032215\n"
     ]
    }
   ],
   "source": [
    "start_time = time.time()\n",
    "\n",
    "xgtrain = xgb.DMatrix(df_train, df_train_target)\n",
    "\n",
    "params = {'tree_method': 'hist', 'max_depth': MAX_TREE_DEPTH, 'learning_rate': 0.1, 'silent': 1}\n",
    "bst = xgb.train(params, xgtrain, 50, evals=[(xgtrain, \"train\")])\n",
    "\n",
    "timetaken_cpu = time.time() - start_time\n",
    "\n",
    "# free up memory\n",
    "del xgtrain\n",
    "del bst"
   ]
  },
  {
   "cell_type": "code",
   "execution_count": 8,
   "metadata": {},
   "outputs": [
    {
     "name": "stdout",
     "output_type": "stream",
     "text": [
      "[0]\ttrain-rmse:0.458601\n",
      "[1]\ttrain-rmse:0.422046\n",
      "[2]\ttrain-rmse:0.388733\n",
      "[3]\ttrain-rmse:0.359053\n",
      "[4]\ttrain-rmse:0.331591\n",
      "[5]\ttrain-rmse:0.306396\n",
      "[6]\ttrain-rmse:0.28309\n",
      "[7]\ttrain-rmse:0.262217\n",
      "[8]\ttrain-rmse:0.24321\n",
      "[9]\ttrain-rmse:0.225444\n",
      "[10]\ttrain-rmse:0.209671\n",
      "[11]\ttrain-rmse:0.195425\n",
      "[12]\ttrain-rmse:0.183419\n",
      "[13]\ttrain-rmse:0.170999\n",
      "[14]\ttrain-rmse:0.160371\n",
      "[15]\ttrain-rmse:0.150939\n",
      "[16]\ttrain-rmse:0.140717\n",
      "[17]\ttrain-rmse:0.132857\n",
      "[18]\ttrain-rmse:0.124626\n",
      "[19]\ttrain-rmse:0.117563\n",
      "[20]\ttrain-rmse:0.111101\n",
      "[21]\ttrain-rmse:0.104307\n",
      "[22]\ttrain-rmse:0.099047\n",
      "[23]\ttrain-rmse:0.093748\n",
      "[24]\ttrain-rmse:0.088491\n",
      "[25]\ttrain-rmse:0.084197\n",
      "[26]\ttrain-rmse:0.080656\n",
      "[27]\ttrain-rmse:0.076897\n",
      "[28]\ttrain-rmse:0.072605\n",
      "[29]\ttrain-rmse:0.070083\n",
      "[30]\ttrain-rmse:0.067563\n",
      "[31]\ttrain-rmse:0.064898\n",
      "[32]\ttrain-rmse:0.062391\n",
      "[33]\ttrain-rmse:0.059701\n",
      "[34]\ttrain-rmse:0.056999\n",
      "[35]\ttrain-rmse:0.055053\n",
      "[36]\ttrain-rmse:0.054009\n",
      "[37]\ttrain-rmse:0.052124\n",
      "[38]\ttrain-rmse:0.049648\n",
      "[39]\ttrain-rmse:0.047926\n",
      "[40]\ttrain-rmse:0.046252\n",
      "[41]\ttrain-rmse:0.044505\n",
      "[42]\ttrain-rmse:0.042652\n",
      "[43]\ttrain-rmse:0.041115\n",
      "[44]\ttrain-rmse:0.040171\n",
      "[45]\ttrain-rmse:0.0395\n",
      "[46]\ttrain-rmse:0.038209\n",
      "[47]\ttrain-rmse:0.03681\n",
      "[48]\ttrain-rmse:0.036119\n",
      "[49]\ttrain-rmse:0.035433\n"
     ]
    }
   ],
   "source": [
    "start_time = time.time()\n",
    "\n",
    "xgtrain = xgb.DMatrix(df_train, df_train_target)\n",
    "\n",
    "params = {'tree_method': 'gpu_hist', 'max_depth': MAX_TREE_DEPTH, 'learning_rate': 0.1, 'silent': 1}\n",
    "bst = xgb.train(params, xgtrain, 50, evals=[(xgtrain, \"train\")])\n",
    "\n",
    "timetaken_gpu_nocudf = time.time() - start_time\n",
    "\n",
    "# free up memory\n",
    "del xgtrain\n",
    "del bst"
   ]
  },
  {
   "cell_type": "markdown",
   "metadata": {},
   "source": [
    "### 3. Train with GPU\n",
    "\n",
    "To use GPU, we set `params[tree_method] = 'gpu_hist'` and also (optionally) load the Pandas `Dataframe` into cuDF Dataframe (Python object type `cudf.dataframe.dataframe.DataFrame`)."
   ]
  },
  {
   "cell_type": "code",
   "execution_count": 9,
   "metadata": {
    "ExecuteTime": {
     "end_time": "2018-12-23T14:38:14.073981Z",
     "start_time": "2018-12-23T14:38:13.024721Z"
    }
   },
   "outputs": [],
   "source": [
    "# load into cuDF Dataframe\n",
    "\n",
    "gdf_train = cudf.DataFrame.from_pandas(df_train)\n",
    "gdf_train_target = cudf.DataFrame.from_pandas(df_train_target)"
   ]
  },
  {
   "cell_type": "code",
   "execution_count": 10,
   "metadata": {
    "ExecuteTime": {
     "end_time": "2018-12-23T14:38:28.652178Z",
     "start_time": "2018-12-23T14:38:14.075351Z"
    }
   },
   "outputs": [
    {
     "name": "stdout",
     "output_type": "stream",
     "text": [
      "[0]\ttrain-rmse:0.458601\n",
      "[1]\ttrain-rmse:0.422046\n",
      "[2]\ttrain-rmse:0.388733\n",
      "[3]\ttrain-rmse:0.359053\n",
      "[4]\ttrain-rmse:0.331591\n",
      "[5]\ttrain-rmse:0.306396\n",
      "[6]\ttrain-rmse:0.28309\n",
      "[7]\ttrain-rmse:0.262217\n",
      "[8]\ttrain-rmse:0.24321\n",
      "[9]\ttrain-rmse:0.225444\n",
      "[10]\ttrain-rmse:0.209671\n",
      "[11]\ttrain-rmse:0.195425\n",
      "[12]\ttrain-rmse:0.183419\n",
      "[13]\ttrain-rmse:0.170999\n",
      "[14]\ttrain-rmse:0.160371\n",
      "[15]\ttrain-rmse:0.150939\n",
      "[16]\ttrain-rmse:0.140717\n",
      "[17]\ttrain-rmse:0.132857\n",
      "[18]\ttrain-rmse:0.124626\n",
      "[19]\ttrain-rmse:0.117563\n",
      "[20]\ttrain-rmse:0.111101\n",
      "[21]\ttrain-rmse:0.104307\n",
      "[22]\ttrain-rmse:0.099047\n",
      "[23]\ttrain-rmse:0.093748\n",
      "[24]\ttrain-rmse:0.088491\n",
      "[25]\ttrain-rmse:0.084197\n",
      "[26]\ttrain-rmse:0.080656\n",
      "[27]\ttrain-rmse:0.076897\n",
      "[28]\ttrain-rmse:0.072605\n",
      "[29]\ttrain-rmse:0.070083\n",
      "[30]\ttrain-rmse:0.067563\n",
      "[31]\ttrain-rmse:0.064898\n",
      "[32]\ttrain-rmse:0.062391\n",
      "[33]\ttrain-rmse:0.059701\n",
      "[34]\ttrain-rmse:0.056999\n",
      "[35]\ttrain-rmse:0.055053\n",
      "[36]\ttrain-rmse:0.054009\n",
      "[37]\ttrain-rmse:0.052124\n",
      "[38]\ttrain-rmse:0.049648\n",
      "[39]\ttrain-rmse:0.047926\n",
      "[40]\ttrain-rmse:0.046252\n",
      "[41]\ttrain-rmse:0.044505\n",
      "[42]\ttrain-rmse:0.042652\n",
      "[43]\ttrain-rmse:0.041115\n",
      "[44]\ttrain-rmse:0.040171\n",
      "[45]\ttrain-rmse:0.0395\n",
      "[46]\ttrain-rmse:0.038209\n",
      "[47]\ttrain-rmse:0.03681\n",
      "[48]\ttrain-rmse:0.036119\n",
      "[49]\ttrain-rmse:0.035433\n"
     ]
    }
   ],
   "source": [
    "start_time = time.time()\n",
    "\n",
    "xgtrain = xgb.DMatrix(gdf_train, gdf_train_target)\n",
    "\n",
    "params = {'tree_method': 'gpu_hist', 'max_depth': MAX_TREE_DEPTH, 'learning_rate': 0.1, 'silent': 1}\n",
    "bst = xgb.train(params, xgtrain, 50, evals=[(xgtrain, \"train\")])\n",
    "\n",
    "timetaken_gpu = time.time() - start_time"
   ]
  },
  {
   "cell_type": "code",
   "execution_count": 11,
   "metadata": {
    "ExecuteTime": {
     "end_time": "2018-12-23T14:38:29.532366Z",
     "start_time": "2018-12-23T14:38:28.653601Z"
    }
   },
   "outputs": [
    {
     "name": "stdout",
     "output_type": "stream",
     "text": [
      "Check GPU memory usage\n",
      "\u001b[1m\u001b[37mfe29fe2f1b6e\u001b[m  Sat Jan 19 14:31:53 2019\n",
      "\u001b[36m[0]\u001b[m \u001b[34mTesla V100-SXM2-16GB\u001b[m |\u001b[31m 38'C\u001b[m, \u001b[32m  0 %\u001b[m | \u001b[36m\u001b[1m\u001b[33m 1495\u001b[m / \u001b[33m16130\u001b[m MB |\n"
     ]
    }
   ],
   "source": [
    "print(\"Check GPU memory usage\")\n",
    "!gpustat\n",
    "\n",
    "# free up memory\n",
    "del xgtrain\n",
    "del bst"
   ]
  },
  {
   "cell_type": "markdown",
   "metadata": {},
   "source": [
    "### 4. Results\n",
    "\n",
    "We see a significant speed-up when we use the RAPIDS stack."
   ]
  },
  {
   "cell_type": "code",
   "execution_count": 12,
   "metadata": {
    "ExecuteTime": {
     "end_time": "2018-12-23T14:38:29.537586Z",
     "start_time": "2018-12-23T14:38:29.534001Z"
    }
   },
   "outputs": [
    {
     "name": "stdout",
     "output_type": "stream",
     "text": [
      "CPU Time Taken: 44.6\n",
      "GPU (no cuDF) Time Taken: 16.6\n",
      "GPU (cuDF) Time Taken: 17.1\n",
      "Total speed-up with RAPIDS: 261.2 %\n"
     ]
    }
   ],
   "source": [
    "print(\"CPU Time Taken:\", round(timetaken_cpu,1))\n",
    "print(\"GPU (no cuDF) Time Taken:\", round(timetaken_gpu_nocudf,1))\n",
    "print(\"GPU (cuDF) Time Taken:\", round(timetaken_gpu,1))\n",
    "print(\"Total speed-up with RAPIDS:\", round(timetaken_cpu/timetaken_gpu*100,1), \"%\")"
   ]
  },
  {
   "cell_type": "code",
   "execution_count": null,
   "metadata": {},
   "outputs": [],
   "source": []
  }
 ],
 "metadata": {
  "kernelspec": {
   "display_name": "Python 3",
   "language": "python",
   "name": "python3"
  },
  "language_info": {
   "codemirror_mode": {
    "name": "ipython",
    "version": 3
   },
   "file_extension": ".py",
   "mimetype": "text/x-python",
   "name": "python",
   "nbconvert_exporter": "python",
   "pygments_lexer": "ipython3",
   "version": "3.6.7"
  }
 },
 "nbformat": 4,
 "nbformat_minor": 2
}
