{
 "cells": [
  {
   "cell_type": "markdown",
   "metadata": {},
   "source": [
    "## Predicting drive failure with XGBoost and RAPIDS\n",
    "\n",
    "**Dataset**: Hard disk SMART data and failure dataset from Backblaze ([More information](https://www.backblaze.com/b2/hard-drive-test-data.html))\n",
    "\n",
    "**Task**: Predict hard disk failure with RAPIDS"
   ]
  },
  {
   "cell_type": "code",
   "execution_count": 1,
   "metadata": {
    "ExecuteTime": {
     "end_time": "2018-12-23T14:36:50.489370Z",
     "start_time": "2018-12-23T14:36:49.322494Z"
    }
   },
   "outputs": [],
   "source": [
    "import time\n",
    "import numpy as np\n",
    "import pandas as pd\n",
    "from tqdm import tqdm_notebook\n",
    "\n",
    "from sklearn.metrics import mean_squared_error, accuracy_score\n",
    "\n",
    "# RAPIDS\n",
    "import cudf\n",
    "import xgboost as xgb"
   ]
  },
  {
   "cell_type": "markdown",
   "metadata": {},
   "source": [
    "### 1. Load Data\n",
    "\n",
    "#### Training Data\n",
    "\n",
    "Use Pandas to load training data from CSV. This consists of the pre-processed drive data from Feb 2017 to September 2018"
   ]
  },
  {
   "cell_type": "code",
   "execution_count": 2,
   "metadata": {
    "ExecuteTime": {
     "end_time": "2018-12-23T14:37:13.856311Z",
     "start_time": "2018-12-23T14:36:50.491244Z"
    }
   },
   "outputs": [
    {
     "name": "stdout",
     "output_type": "stream",
     "text": [
      "<class 'pandas.core.frame.DataFrame'>\n",
      "RangeIndex: 8545 entries, 0 to 8544\n",
      "Columns: 283 entries, failure to feat279\n",
      "dtypes: float64(280), int64(3)\n",
      "memory usage: 18.4 MB\n"
     ]
    }
   ],
   "source": [
    "df = pd.read_csv(\"merged.csv\")\n",
    "df.info()"
   ]
  },
  {
   "cell_type": "markdown",
   "metadata": {},
   "source": [
    "Split into features (`df_train`) and labels(`df_target`), where each is a Pandas `Dataframe`."
   ]
  },
  {
   "cell_type": "code",
   "execution_count": 3,
   "metadata": {
    "ExecuteTime": {
     "end_time": "2018-12-23T14:37:16.597909Z",
     "start_time": "2018-12-23T14:37:13.857591Z"
    }
   },
   "outputs": [],
   "source": [
    "df_train = df.drop([\"failure\"],axis=1).apply(pd.to_numeric)\n",
    "df_train_target = pd.DataFrame(df[\"failure\"]).apply(pd.to_numeric)"
   ]
  },
  {
   "cell_type": "markdown",
   "metadata": {},
   "source": [
    "#### Evaluation Data\n",
    "\n",
    "Do the same thing to load evaluation data from CSV, if you have a seperate file to load."
   ]
  },
  {
   "cell_type": "code",
   "execution_count": 4,
   "metadata": {
    "ExecuteTime": {
     "end_time": "2018-12-23T14:37:29.019045Z",
     "start_time": "2018-12-23T14:37:16.599916Z"
    }
   },
   "outputs": [
    {
     "data": {
      "text/plain": [
       "'\\ndf_t = pd.read_csv(\"eval.csv\")\\n\\n# fill in null data\\ndf_t.fillna(0, inplace=True)\\n\\ndf_test = df_t.drop([\"failure\"],axis=1).apply(pd.to_numeric)\\ndf_test_target = pd.DataFrame(df_t[\"failure\"]).apply(pd.to_numeric)\\n'"
      ]
     },
     "execution_count": 4,
     "metadata": {},
     "output_type": "execute_result"
    }
   ],
   "source": [
    "\"\"\"\n",
    "df_t = pd.read_csv(\"eval.csv\")\n",
    "\n",
    "# fill in null data\n",
    "df_t.fillna(0, inplace=True)\n",
    "\n",
    "df_test = df_t.drop([\"failure\"],axis=1).apply(pd.to_numeric)\n",
    "df_test_target = pd.DataFrame(df_t[\"failure\"]).apply(pd.to_numeric)\n",
    "\"\"\""
   ]
  },
  {
   "cell_type": "markdown",
   "metadata": {},
   "source": [
    "### 2. Train with CPU\n",
    "\n",
    "XGBoost training with CPU (`params[tree_method] = 'hist'`), using a Pandas `Dataframe` loaded into `xgb.DMatrix`. For more information, check out [this page in the XGBoost Documentation](https://xgboost.readthedocs.io/en/latest/python/python_intro.html)."
   ]
  },
  {
   "cell_type": "code",
   "execution_count": 5,
   "metadata": {},
   "outputs": [],
   "source": [
    "MAX_TREE_DEPTH = 24"
   ]
  },
  {
   "cell_type": "code",
   "execution_count": 6,
   "metadata": {},
   "outputs": [
    {
     "name": "stdout",
     "output_type": "stream",
     "text": [
      "Model name:          Intel(R) Xeon(R) CPU E5-2698 v4 @ 2.20GHz\n",
      "CPU(s):              40\n",
      "On-line CPU(s) list: 0-39\n",
      "NUMA node0 CPU(s):   0-39\n"
     ]
    }
   ],
   "source": [
    "!lscpu | grep 'Model name:'\n",
    "!lscpu | grep 'CPU(s)'"
   ]
  },
  {
   "cell_type": "code",
   "execution_count": 7,
   "metadata": {},
   "outputs": [
    {
     "name": "stdout",
     "output_type": "stream",
     "text": [
      "[15:30:04] Tree method is selected to be 'hist', which uses a single updater grow_fast_histmaker.\n",
      "[0]\ttrain-rmse:0.458406\n",
      "[1]\ttrain-rmse:0.421363\n",
      "[2]\ttrain-rmse:0.388094\n",
      "[3]\ttrain-rmse:0.357538\n",
      "[4]\ttrain-rmse:0.328977\n",
      "[5]\ttrain-rmse:0.301982\n",
      "[6]\ttrain-rmse:0.27773\n",
      "[7]\ttrain-rmse:0.25579\n",
      "[8]\ttrain-rmse:0.236438\n",
      "[9]\ttrain-rmse:0.218327\n",
      "[10]\ttrain-rmse:0.202473\n",
      "[11]\ttrain-rmse:0.187359\n",
      "[12]\ttrain-rmse:0.174484\n",
      "[13]\ttrain-rmse:0.161807\n",
      "[14]\ttrain-rmse:0.151045\n",
      "[15]\ttrain-rmse:0.140964\n",
      "[16]\ttrain-rmse:0.132527\n",
      "[17]\ttrain-rmse:0.125665\n",
      "[18]\ttrain-rmse:0.117584\n",
      "[19]\ttrain-rmse:0.11015\n",
      "[20]\ttrain-rmse:0.103756\n",
      "[21]\ttrain-rmse:0.097196\n",
      "[22]\ttrain-rmse:0.090893\n",
      "[23]\ttrain-rmse:0.086196\n",
      "[24]\ttrain-rmse:0.082491\n",
      "[25]\ttrain-rmse:0.078661\n",
      "[26]\ttrain-rmse:0.075509\n",
      "[27]\ttrain-rmse:0.072039\n",
      "[28]\ttrain-rmse:0.070015\n",
      "[29]\ttrain-rmse:0.065965\n",
      "[30]\ttrain-rmse:0.062502\n",
      "[31]\ttrain-rmse:0.059484\n",
      "[32]\ttrain-rmse:0.057047\n",
      "[33]\ttrain-rmse:0.05503\n",
      "[34]\ttrain-rmse:0.051889\n",
      "[35]\ttrain-rmse:0.04986\n",
      "[36]\ttrain-rmse:0.047093\n",
      "[37]\ttrain-rmse:0.04468\n",
      "[38]\ttrain-rmse:0.042544\n",
      "[39]\ttrain-rmse:0.040703\n",
      "[40]\ttrain-rmse:0.038696\n",
      "[41]\ttrain-rmse:0.037847\n",
      "[42]\ttrain-rmse:0.036409\n",
      "[43]\ttrain-rmse:0.034798\n",
      "[44]\ttrain-rmse:0.033507\n",
      "[45]\ttrain-rmse:0.031892\n",
      "[46]\ttrain-rmse:0.030885\n",
      "[47]\ttrain-rmse:0.029525\n",
      "[48]\ttrain-rmse:0.027998\n",
      "[49]\ttrain-rmse:0.026807\n"
     ]
    }
   ],
   "source": [
    "start_time = time.time()\n",
    "\n",
    "xgtrain = xgb.DMatrix(df_train, df_train_target)\n",
    "\n",
    "params = {'tree_method': 'hist', 'max_depth': MAX_TREE_DEPTH, 'learning_rate': 0.1, 'silent': 1}\n",
    "bst = xgb.train(params, xgtrain, 50, evals=[(xgtrain, \"train\")])\n",
    "\n",
    "timetaken_cpu = time.time() - start_time\n",
    "\n",
    "# free up memory\n",
    "del xgtrain\n",
    "del bst"
   ]
  },
  {
   "cell_type": "markdown",
   "metadata": {},
   "source": [
    "### 3. Train with GPU\n",
    "\n",
    "To use GPU, we set `params[tree_method] = 'gpu_hist'` and also (optionally) load the Pandas `Dataframe` into cuDF Dataframe (Python object type `cudf.dataframe.dataframe.DataFrame`)."
   ]
  },
  {
   "cell_type": "code",
   "execution_count": 8,
   "metadata": {
    "ExecuteTime": {
     "end_time": "2018-12-23T14:38:13.023281Z",
     "start_time": "2018-12-23T14:37:29.020880Z"
    }
   },
   "outputs": [
    {
     "name": "stdout",
     "output_type": "stream",
     "text": [
      "[0]\ttrain-rmse:0.458405\n",
      "[1]\ttrain-rmse:0.421806\n",
      "[2]\ttrain-rmse:0.388041\n",
      "[3]\ttrain-rmse:0.356389\n",
      "[4]\ttrain-rmse:0.327884\n",
      "[5]\ttrain-rmse:0.301324\n",
      "[6]\ttrain-rmse:0.277336\n",
      "[7]\ttrain-rmse:0.255256\n",
      "[8]\ttrain-rmse:0.235924\n",
      "[9]\ttrain-rmse:0.217393\n",
      "[10]\ttrain-rmse:0.201276\n",
      "[11]\ttrain-rmse:0.186706\n",
      "[12]\ttrain-rmse:0.173898\n",
      "[13]\ttrain-rmse:0.160896\n",
      "[14]\ttrain-rmse:0.148913\n",
      "[15]\ttrain-rmse:0.138999\n",
      "[16]\ttrain-rmse:0.130038\n",
      "[17]\ttrain-rmse:0.122823\n",
      "[18]\ttrain-rmse:0.115481\n",
      "[19]\ttrain-rmse:0.108235\n",
      "[20]\ttrain-rmse:0.10212\n",
      "[21]\ttrain-rmse:0.096187\n",
      "[22]\ttrain-rmse:0.091343\n",
      "[23]\ttrain-rmse:0.087358\n",
      "[24]\ttrain-rmse:0.0826\n",
      "[25]\ttrain-rmse:0.079298\n",
      "[26]\ttrain-rmse:0.076284\n",
      "[27]\ttrain-rmse:0.073177\n",
      "[28]\ttrain-rmse:0.07026\n",
      "[29]\ttrain-rmse:0.067298\n",
      "[30]\ttrain-rmse:0.064111\n",
      "[31]\ttrain-rmse:0.060426\n",
      "[32]\ttrain-rmse:0.058145\n",
      "[33]\ttrain-rmse:0.055393\n",
      "[34]\ttrain-rmse:0.052997\n",
      "[35]\ttrain-rmse:0.050639\n",
      "[36]\ttrain-rmse:0.048696\n",
      "[37]\ttrain-rmse:0.046288\n",
      "[38]\ttrain-rmse:0.043618\n",
      "[39]\ttrain-rmse:0.041953\n",
      "[40]\ttrain-rmse:0.040242\n",
      "[41]\ttrain-rmse:0.038662\n",
      "[42]\ttrain-rmse:0.037437\n",
      "[43]\ttrain-rmse:0.036481\n",
      "[44]\ttrain-rmse:0.035532\n",
      "[45]\ttrain-rmse:0.034169\n",
      "[46]\ttrain-rmse:0.033142\n",
      "[47]\ttrain-rmse:0.032573\n",
      "[48]\ttrain-rmse:0.031466\n",
      "[49]\ttrain-rmse:0.030287\n"
     ]
    }
   ],
   "source": [
    "# run 1\n",
    "# GPU, without using cuDF\n",
    "\n",
    "start_time = time.time()\n",
    "\n",
    "xgtrain = xgb.DMatrix(df_train, df_train_target)\n",
    "\n",
    "params = {'tree_method': 'gpu_hist', 'max_depth': MAX_TREE_DEPTH, 'learning_rate': 0.1, 'silent': 1}\n",
    "bst = xgb.train(params, xgtrain, 50, evals=[(xgtrain, \"train\")])\n",
    "\n",
    "timetaken_gpu_nocudf = time.time() - start_time\n",
    "\n",
    "# free up memory\n",
    "del xgtrain\n",
    "del bst"
   ]
  },
  {
   "cell_type": "code",
   "execution_count": 9,
   "metadata": {
    "ExecuteTime": {
     "end_time": "2018-12-23T14:38:14.073981Z",
     "start_time": "2018-12-23T14:38:13.024721Z"
    }
   },
   "outputs": [],
   "source": [
    "# load into cuDF Dataframe\n",
    "\n",
    "gdf_train = cudf.DataFrame.from_pandas(df_train)\n",
    "gdf_train_target = cudf.DataFrame.from_pandas(df_train_target)"
   ]
  },
  {
   "cell_type": "code",
   "execution_count": 10,
   "metadata": {
    "ExecuteTime": {
     "end_time": "2018-12-23T14:38:28.652178Z",
     "start_time": "2018-12-23T14:38:14.075351Z"
    }
   },
   "outputs": [
    {
     "name": "stdout",
     "output_type": "stream",
     "text": [
      "[0]\ttrain-rmse:0.458405\n",
      "[1]\ttrain-rmse:0.421806\n",
      "[2]\ttrain-rmse:0.388041\n",
      "[3]\ttrain-rmse:0.356389\n",
      "[4]\ttrain-rmse:0.327884\n",
      "[5]\ttrain-rmse:0.301324\n",
      "[6]\ttrain-rmse:0.277336\n",
      "[7]\ttrain-rmse:0.255256\n",
      "[8]\ttrain-rmse:0.235924\n",
      "[9]\ttrain-rmse:0.217393\n",
      "[10]\ttrain-rmse:0.201276\n",
      "[11]\ttrain-rmse:0.186706\n",
      "[12]\ttrain-rmse:0.173898\n",
      "[13]\ttrain-rmse:0.160896\n",
      "[14]\ttrain-rmse:0.148913\n",
      "[15]\ttrain-rmse:0.138999\n",
      "[16]\ttrain-rmse:0.130038\n",
      "[17]\ttrain-rmse:0.122823\n",
      "[18]\ttrain-rmse:0.115481\n",
      "[19]\ttrain-rmse:0.108235\n",
      "[20]\ttrain-rmse:0.10212\n",
      "[21]\ttrain-rmse:0.096187\n",
      "[22]\ttrain-rmse:0.091343\n",
      "[23]\ttrain-rmse:0.087358\n",
      "[24]\ttrain-rmse:0.0826\n",
      "[25]\ttrain-rmse:0.079298\n",
      "[26]\ttrain-rmse:0.076284\n",
      "[27]\ttrain-rmse:0.073177\n",
      "[28]\ttrain-rmse:0.07026\n",
      "[29]\ttrain-rmse:0.067298\n",
      "[30]\ttrain-rmse:0.064111\n",
      "[31]\ttrain-rmse:0.060426\n",
      "[32]\ttrain-rmse:0.058145\n",
      "[33]\ttrain-rmse:0.055393\n",
      "[34]\ttrain-rmse:0.052997\n",
      "[35]\ttrain-rmse:0.050639\n",
      "[36]\ttrain-rmse:0.048696\n",
      "[37]\ttrain-rmse:0.046288\n",
      "[38]\ttrain-rmse:0.043618\n",
      "[39]\ttrain-rmse:0.041953\n",
      "[40]\ttrain-rmse:0.040242\n",
      "[41]\ttrain-rmse:0.038662\n",
      "[42]\ttrain-rmse:0.037437\n",
      "[43]\ttrain-rmse:0.036481\n",
      "[44]\ttrain-rmse:0.035532\n",
      "[45]\ttrain-rmse:0.034169\n",
      "[46]\ttrain-rmse:0.033142\n",
      "[47]\ttrain-rmse:0.032573\n",
      "[48]\ttrain-rmse:0.031466\n",
      "[49]\ttrain-rmse:0.030287\n"
     ]
    }
   ],
   "source": [
    "# run 2\n",
    "# GPU, with using cuDF\n",
    "\n",
    "start_time = time.time()\n",
    "\n",
    "xgtrain = xgb.DMatrix(gdf_train, gdf_train_target)\n",
    "\n",
    "params = {'tree_method': 'gpu_hist', 'max_depth': MAX_TREE_DEPTH, 'learning_rate': 0.1, 'silent': 1}\n",
    "bst = xgb.train(params, xgtrain, 50, evals=[(xgtrain, \"train\")])\n",
    "\n",
    "timetaken_gpu = time.time() - start_time"
   ]
  },
  {
   "cell_type": "code",
   "execution_count": 11,
   "metadata": {
    "ExecuteTime": {
     "end_time": "2018-12-23T14:38:29.532366Z",
     "start_time": "2018-12-23T14:38:28.653601Z"
    }
   },
   "outputs": [
    {
     "name": "stdout",
     "output_type": "stream",
     "text": [
      "Check GPU memory usage\n",
      "\u001b[1m\u001b[37mjupyter-timothy-5fliu\u001b[m  Wed Jan 23 15:32:12 2019\n",
      "\u001b[36m[0]\u001b[m \u001b[34mTesla V100-DGXS-16GB\u001b[m |\u001b[31m 41'C\u001b[m, \u001b[32m  0 %\u001b[m | \u001b[36m\u001b[1m\u001b[33m 3083\u001b[m / \u001b[33m16125\u001b[m MB |\n"
     ]
    }
   ],
   "source": [
    "print(\"Check GPU memory usage\")\n",
    "!gpustat\n",
    "\n",
    "# free up memory\n",
    "del xgtrain\n",
    "del bst"
   ]
  },
  {
   "cell_type": "markdown",
   "metadata": {},
   "source": [
    "### 4. Results\n",
    "\n",
    "We see a significant speed-up when we use the RAPIDS stack."
   ]
  },
  {
   "cell_type": "code",
   "execution_count": 13,
   "metadata": {
    "ExecuteTime": {
     "end_time": "2018-12-23T14:38:29.537586Z",
     "start_time": "2018-12-23T14:38:29.534001Z"
    }
   },
   "outputs": [
    {
     "name": "stdout",
     "output_type": "stream",
     "text": [
      "CPU Time Taken:\n",
      " 99.7\n",
      "\n",
      "GPU (no cuDF) Time Taken:\n",
      " 13.1\n",
      "\n",
      "GPU (cuDF) Time Taken:\n",
      " 12.5\n",
      "\n",
      "Total speed-up with RAPIDS:\n",
      " 799.2 %\n"
     ]
    }
   ],
   "source": [
    "print(\"CPU Time Taken:\\n\", round(timetaken_cpu,1))\n",
    "print(\"\\nGPU (no cuDF) Time Taken:\\n\", round(timetaken_gpu_nocudf,1))\n",
    "print(\"\\nGPU (cuDF) Time Taken:\\n\", round(timetaken_gpu,1))\n",
    "print(\"\\nTotal speed-up with RAPIDS:\\n\", round(timetaken_cpu/timetaken_gpu*100,1), \"%\")"
   ]
  },
  {
   "cell_type": "code",
   "execution_count": null,
   "metadata": {},
   "outputs": [],
   "source": []
  }
 ],
 "metadata": {
  "kernelspec": {
   "display_name": "Python 3",
   "language": "python",
   "name": "python3"
  },
  "language_info": {
   "codemirror_mode": {
    "name": "ipython",
    "version": 3
   },
   "file_extension": ".py",
   "mimetype": "text/x-python",
   "name": "python",
   "nbconvert_exporter": "python",
   "pygments_lexer": "ipython3",
   "version": "3.6.7"
  }
 },
 "nbformat": 4,
 "nbformat_minor": 2
}
