{
 "cells": [
  {
   "cell_type": "markdown",
   "metadata": {},
   "source": [
    "## Predicting drive failure with XGBoost and RAPIDS\n",
    "\n",
    "**Dataset**: Hard disk SMART data and failure dataset from Backblaze ([More information](https://www.backblaze.com/b2/hard-drive-test-data.html))\n",
    "\n",
    "**Task**: Predict hard disk failure with RAPIDS"
   ]
  },
  {
   "cell_type": "code",
   "execution_count": 1,
   "metadata": {
    "ExecuteTime": {
     "end_time": "2018-12-23T14:36:50.489370Z",
     "start_time": "2018-12-23T14:36:49.322494Z"
    }
   },
   "outputs": [],
   "source": [
    "import time\n",
    "import numpy as np\n",
    "import pandas as pd\n",
    "from tqdm import tqdm_notebook\n",
    "\n",
    "from sklearn.metrics import mean_squared_error, accuracy_score\n",
    "from sklearn.model_selection import train_test_split\n",
    "from sklearn.preprocessing import OneHotEncoder\n",
    "\n",
    "# RAPIDS\n",
    "import cudf\n",
    "import xgboost as xgb"
   ]
  },
  {
   "cell_type": "markdown",
   "metadata": {},
   "source": [
    "### 1. Load Data\n",
    "\n",
    "#### Training Data\n",
    "\n",
    "Use Pandas to load training data from CSV. This consists of the drive data from July and August 2018."
   ]
  },
  {
   "cell_type": "code",
   "execution_count": 2,
   "metadata": {
    "ExecuteTime": {
     "end_time": "2018-12-23T14:37:13.856311Z",
     "start_time": "2018-12-23T14:36:50.491244Z"
    }
   },
   "outputs": [
    {
     "name": "stdout",
     "output_type": "stream",
     "text": [
      "<class 'pandas.core.frame.DataFrame'>\n",
      "RangeIndex: 4287 entries, 0 to 4286\n",
      "Columns: 619 entries, failure to feat615\n",
      "dtypes: category(1), float64(616), int64(2)\n",
      "memory usage: 20.2 MB\n"
     ]
    }
   ],
   "source": [
    "df = pd.read_csv(\"merged.csv\")\n",
    "df[\"hdd_model\"] = df[\"hdd_model\"].astype('category')\n",
    "df.info()"
   ]
  },
  {
   "cell_type": "markdown",
   "metadata": {},
   "source": [
    "Split into features (`df_train`) and labels(`df_target`), where each is a Pandas `Dataframe`."
   ]
  },
  {
   "cell_type": "code",
   "execution_count": 3,
   "metadata": {
    "ExecuteTime": {
     "end_time": "2018-12-23T14:37:16.597909Z",
     "start_time": "2018-12-23T14:37:13.857591Z"
    }
   },
   "outputs": [],
   "source": [
    "df_train = df.drop([\"hdd_model\"],axis=1).drop([\"failure\"],axis=1).apply(pd.to_numeric)\n",
    "df_train_target = pd.DataFrame(df[\"failure\"]).apply(pd.to_numeric)"
   ]
  },
  {
   "cell_type": "markdown",
   "metadata": {},
   "source": [
    "#### Evaluation Data\n",
    "\n",
    "Do the same thing to load evaluation data from CSV. This consists of the drive data from September 2018."
   ]
  },
  {
   "cell_type": "code",
   "execution_count": 4,
   "metadata": {
    "ExecuteTime": {
     "end_time": "2018-12-23T14:37:29.019045Z",
     "start_time": "2018-12-23T14:37:16.599916Z"
    }
   },
   "outputs": [
    {
     "data": {
      "text/plain": [
       "'\\ndf_t = pd.read_csv(\"eval.csv\")\\n\\n# fill in null data\\ndf_t.fillna(0, inplace=True)\\n\\ndf_test = df_t.drop([\"failure\"],axis=1).apply(pd.to_numeric)\\ndf_test_target = pd.DataFrame(df_t[\"failure\"]).apply(pd.to_numeric)\\n'"
      ]
     },
     "execution_count": 4,
     "metadata": {},
     "output_type": "execute_result"
    }
   ],
   "source": [
    "\"\"\"\n",
    "df_t = pd.read_csv(\"eval.csv\")\n",
    "\n",
    "# fill in null data\n",
    "df_t.fillna(0, inplace=True)\n",
    "\n",
    "df_test = df_t.drop([\"failure\"],axis=1).apply(pd.to_numeric)\n",
    "df_test_target = pd.DataFrame(df_t[\"failure\"]).apply(pd.to_numeric)\n",
    "\"\"\""
   ]
  },
  {
   "cell_type": "code",
   "execution_count": 5,
   "metadata": {},
   "outputs": [],
   "source": [
    "MAX_TREE_DEPTH = 24"
   ]
  },
  {
   "cell_type": "markdown",
   "metadata": {},
   "source": [
    "### 2. Train with CPU\n",
    "\n",
    "XGBoost training with CPU (`params[tree_method] = 'hist'`), using a Pandas `Dataframe` loaded into `xgb.DMatrix`. For more information, check out [this page in the XGBoost Documentation](https://xgboost.readthedocs.io/en/latest/python/python_intro.html)."
   ]
  },
  {
   "cell_type": "code",
   "execution_count": 6,
   "metadata": {},
   "outputs": [
    {
     "name": "stdout",
     "output_type": "stream",
     "text": [
      "Model name:          Intel(R) Core(TM) i5-8500 CPU @ 3.00GHz\r\n"
     ]
    }
   ],
   "source": [
    "!lscpu | grep 'Model name:'"
   ]
  },
  {
   "cell_type": "code",
   "execution_count": 7,
   "metadata": {
    "ExecuteTime": {
     "end_time": "2018-12-23T14:38:13.023281Z",
     "start_time": "2018-12-23T14:37:29.020880Z"
    }
   },
   "outputs": [
    {
     "name": "stdout",
     "output_type": "stream",
     "text": [
      "[04:15:35] Tree method is selected to be 'hist', which uses a single updater grow_fast_histmaker.\n",
      "[0]\ttrain-rmse:0.457066\n",
      "[1]\ttrain-rmse:0.418206\n",
      "[2]\ttrain-rmse:0.383866\n",
      "[3]\ttrain-rmse:0.352145\n",
      "[4]\ttrain-rmse:0.322875\n",
      "[5]\ttrain-rmse:0.295982\n",
      "[6]\ttrain-rmse:0.271924\n",
      "[7]\ttrain-rmse:0.249402\n",
      "[8]\ttrain-rmse:0.23034\n",
      "[9]\ttrain-rmse:0.211748\n",
      "[10]\ttrain-rmse:0.194118\n",
      "[11]\ttrain-rmse:0.179599\n",
      "[12]\ttrain-rmse:0.167187\n",
      "[13]\ttrain-rmse:0.15468\n",
      "[14]\ttrain-rmse:0.144558\n",
      "[15]\ttrain-rmse:0.134902\n",
      "[16]\ttrain-rmse:0.125312\n",
      "[17]\ttrain-rmse:0.11699\n",
      "[18]\ttrain-rmse:0.109507\n",
      "[19]\ttrain-rmse:0.102615\n",
      "[20]\ttrain-rmse:0.095921\n",
      "[21]\ttrain-rmse:0.089034\n",
      "[22]\ttrain-rmse:0.082617\n",
      "[23]\ttrain-rmse:0.07664\n",
      "[24]\ttrain-rmse:0.072542\n",
      "[25]\ttrain-rmse:0.068811\n",
      "[26]\ttrain-rmse:0.064983\n",
      "[27]\ttrain-rmse:0.061901\n",
      "[28]\ttrain-rmse:0.057977\n",
      "[29]\ttrain-rmse:0.054897\n",
      "[30]\ttrain-rmse:0.052134\n",
      "[31]\ttrain-rmse:0.049396\n",
      "[32]\ttrain-rmse:0.047\n",
      "[33]\ttrain-rmse:0.044104\n",
      "[34]\ttrain-rmse:0.042404\n",
      "[35]\ttrain-rmse:0.040754\n",
      "[36]\ttrain-rmse:0.038336\n",
      "[37]\ttrain-rmse:0.037217\n",
      "[38]\ttrain-rmse:0.035126\n",
      "[39]\ttrain-rmse:0.034023\n",
      "[40]\ttrain-rmse:0.032598\n",
      "[41]\ttrain-rmse:0.031301\n",
      "[42]\ttrain-rmse:0.029852\n",
      "[43]\ttrain-rmse:0.029069\n",
      "[44]\ttrain-rmse:0.027469\n",
      "[45]\ttrain-rmse:0.026498\n",
      "[46]\ttrain-rmse:0.025313\n",
      "[47]\ttrain-rmse:0.024264\n",
      "[48]\ttrain-rmse:0.023481\n",
      "[49]\ttrain-rmse:0.022653\n"
     ]
    }
   ],
   "source": [
    "start_time = time.time()\n",
    "\n",
    "xgtrain = xgb.DMatrix(df_train, df_train_target)\n",
    "\n",
    "params = {'tree_method': 'hist', 'max_depth': MAX_TREE_DEPTH, 'learning_rate': 0.1, 'silent': 1}\n",
    "bst = xgb.train(params, xgtrain, 50, evals=[(xgtrain, \"train\")])\n",
    "\n",
    "timetaken_cpu = time.time() - start_time\n",
    "\n",
    "# free up memory\n",
    "del xgtrain\n",
    "del bst"
   ]
  },
  {
   "cell_type": "markdown",
   "metadata": {},
   "source": [
    "### 3. Train with GPU\n",
    "\n",
    "To use GPU, we set `params[tree_method] = 'gpu_hist'` and also (optionally) load the Pandas `Dataframe` into cuDF Dataframe (Python object type `cudf.dataframe.dataframe.DataFrame`)."
   ]
  },
  {
   "cell_type": "code",
   "execution_count": 8,
   "metadata": {
    "ExecuteTime": {
     "end_time": "2018-12-23T14:38:14.073981Z",
     "start_time": "2018-12-23T14:38:13.024721Z"
    }
   },
   "outputs": [],
   "source": [
    "# load into cuDF Dataframe\n",
    "\n",
    "gdf_train = cudf.DataFrame.from_pandas(df_train)\n",
    "gdf_train_target = cudf.DataFrame.from_pandas(df_train_target)"
   ]
  },
  {
   "cell_type": "code",
   "execution_count": 9,
   "metadata": {
    "ExecuteTime": {
     "end_time": "2018-12-23T14:38:28.652178Z",
     "start_time": "2018-12-23T14:38:14.075351Z"
    }
   },
   "outputs": [
    {
     "name": "stdout",
     "output_type": "stream",
     "text": [
      "[0]\ttrain-rmse:0.457066\n",
      "[1]\ttrain-rmse:0.418205\n",
      "[2]\ttrain-rmse:0.383863\n",
      "[3]\ttrain-rmse:0.352269\n",
      "[4]\ttrain-rmse:0.323068\n",
      "[5]\ttrain-rmse:0.295971\n",
      "[6]\ttrain-rmse:0.271935\n",
      "[7]\ttrain-rmse:0.251275\n",
      "[8]\ttrain-rmse:0.231848\n",
      "[9]\ttrain-rmse:0.213321\n",
      "[10]\ttrain-rmse:0.19536\n",
      "[11]\ttrain-rmse:0.179152\n",
      "[12]\ttrain-rmse:0.164567\n",
      "[13]\ttrain-rmse:0.153777\n",
      "[14]\ttrain-rmse:0.142924\n",
      "[15]\ttrain-rmse:0.133262\n",
      "[16]\ttrain-rmse:0.12436\n",
      "[17]\ttrain-rmse:0.116547\n",
      "[18]\ttrain-rmse:0.110366\n",
      "[19]\ttrain-rmse:0.102741\n",
      "[20]\ttrain-rmse:0.095936\n",
      "[21]\ttrain-rmse:0.089365\n",
      "[22]\ttrain-rmse:0.082975\n",
      "[23]\ttrain-rmse:0.077779\n",
      "[24]\ttrain-rmse:0.072882\n",
      "[25]\ttrain-rmse:0.068129\n",
      "[26]\ttrain-rmse:0.064025\n",
      "[27]\ttrain-rmse:0.060719\n",
      "[28]\ttrain-rmse:0.058283\n",
      "[29]\ttrain-rmse:0.054669\n",
      "[30]\ttrain-rmse:0.051563\n",
      "[31]\ttrain-rmse:0.049245\n",
      "[32]\ttrain-rmse:0.046539\n",
      "[33]\ttrain-rmse:0.04424\n",
      "[34]\ttrain-rmse:0.042664\n",
      "[35]\ttrain-rmse:0.039821\n",
      "[36]\ttrain-rmse:0.037918\n",
      "[37]\ttrain-rmse:0.036624\n",
      "[38]\ttrain-rmse:0.034571\n",
      "[39]\ttrain-rmse:0.033505\n",
      "[40]\ttrain-rmse:0.032111\n",
      "[41]\ttrain-rmse:0.031079\n",
      "[42]\ttrain-rmse:0.030402\n",
      "[43]\ttrain-rmse:0.029223\n",
      "[44]\ttrain-rmse:0.028122\n",
      "[45]\ttrain-rmse:0.027163\n",
      "[46]\ttrain-rmse:0.026217\n",
      "[47]\ttrain-rmse:0.025454\n",
      "[48]\ttrain-rmse:0.024874\n",
      "[49]\ttrain-rmse:0.024393\n"
     ]
    }
   ],
   "source": [
    "start_time = time.time()\n",
    "\n",
    "xgtrain = xgb.DMatrix(gdf_train, gdf_train_target)\n",
    "\n",
    "params = {'tree_method': 'gpu_hist', 'max_depth': MAX_TREE_DEPTH, 'learning_rate': 0.1, 'silent': 1}\n",
    "bst = xgb.train(params, xgtrain, 50, evals=[(xgtrain, \"train\")])\n",
    "\n",
    "timetaken_gpu = time.time() - start_time"
   ]
  },
  {
   "cell_type": "code",
   "execution_count": 10,
   "metadata": {
    "ExecuteTime": {
     "end_time": "2018-12-23T14:38:29.532366Z",
     "start_time": "2018-12-23T14:38:28.653601Z"
    }
   },
   "outputs": [
    {
     "name": "stdout",
     "output_type": "stream",
     "text": [
      "Check GPU memory usage\n",
      "\u001b[1m\u001b[37m584fc0f60364\u001b[m  Sat Jan 19 04:15:59 2019\n",
      "\u001b[36m[0]\u001b[m \u001b[34mGeForce GTX 1080 Ti\u001b[m |\u001b[31m 48'C\u001b[m, \u001b[32m  1 %\u001b[m | \u001b[36m\u001b[1m\u001b[33m 1462\u001b[m / \u001b[33m11175\u001b[m MB |\n"
     ]
    }
   ],
   "source": [
    "print(\"Check GPU memory usage\")\n",
    "!gpustat\n",
    "\n",
    "# free up memory\n",
    "del xgtrain\n",
    "del bst"
   ]
  },
  {
   "cell_type": "markdown",
   "metadata": {},
   "source": [
    "### 4. Results\n",
    "\n",
    "We see a significant speed-up when we use the RAPIDS stack."
   ]
  },
  {
   "cell_type": "code",
   "execution_count": 11,
   "metadata": {
    "ExecuteTime": {
     "end_time": "2018-12-23T14:38:29.537586Z",
     "start_time": "2018-12-23T14:38:29.534001Z"
    }
   },
   "outputs": [
    {
     "name": "stdout",
     "output_type": "stream",
     "text": [
      "CPU Time Taken: 12.6\n",
      "GPU Time Taken: 9.4\n",
      "Speed-up with RAPIDS: 134.6 %\n"
     ]
    }
   ],
   "source": [
    "print(\"CPU Time Taken:\", round(timetaken_cpu,1))\n",
    "print(\"GPU Time Taken:\", round(timetaken_gpu,1))\n",
    "print(\"Speed-up with RAPIDS:\", round(timetaken_cpu/timetaken_gpu*100,1), \"%\")"
   ]
  },
  {
   "cell_type": "code",
   "execution_count": null,
   "metadata": {},
   "outputs": [],
   "source": []
  }
 ],
 "metadata": {
  "kernelspec": {
   "display_name": "Python 3",
   "language": "python",
   "name": "python3"
  },
  "language_info": {
   "codemirror_mode": {
    "name": "ipython",
    "version": 3
   },
   "file_extension": ".py",
   "mimetype": "text/x-python",
   "name": "python",
   "nbconvert_exporter": "python",
   "pygments_lexer": "ipython3",
   "version": "3.6.7"
  }
 },
 "nbformat": 4,
 "nbformat_minor": 2
}
