{
 "cells": [
  {
   "cell_type": "markdown",
   "metadata": {},
   "source": [
    "Process the pre-processed CSV files to create time series **per hard disk**\n",
    "\n",
    "* we start capture from `D-2` (`D` being day of failure) to `NUM_DAYS_RECORD` ago\n",
    "* this means that with `NUM_DAYS_RECORD` of data, we know 2 days before the drive fails\n",
    "* we do this for **all failure cases** and ~5% of non-failures cases\n",
    "\n",
    "At the end, create two CSV files."
   ]
  },
  {
   "cell_type": "code",
   "execution_count": null,
   "metadata": {},
   "outputs": [],
   "source": [
    "import pandas as pd\n",
    "import numpy as np\n",
    "from tqdm import tqdm_notebook\n",
    "import glob\n",
    "import re\n",
    "\n",
    "data_files = glob.glob(\"./processed/*.csv\")\n",
    "data_files.sort()\n",
    "data_files = data_files[::-1]\n",
    "print(len(data_files), \"Files:\")\n",
    "print(\"From:\", data_files[0], \", to:\", data_files[-1])"
   ]
  },
  {
   "cell_type": "code",
   "execution_count": null,
   "metadata": {},
   "outputs": [],
   "source": [
    "# loads all the dataframes\n",
    "\n",
    "loaded_df = []\n",
    "\n",
    "for n,data_file in tqdm_notebook(enumerate(data_files), total=len(data_files)):\n",
    "    df = pd.read_csv(data_file)\n",
    "    df = df.drop(\"failure\", axis=1)\n",
    "    df.set_index(\"serial_number\", inplace=True)\n",
    "    loaded_df.append(df)"
   ]
  },
  {
   "cell_type": "code",
   "execution_count": null,
   "metadata": {},
   "outputs": [],
   "source": [
    "def get_smart_data(index, serial_number):\n",
    "    df = loaded_df[index]\n",
    "    smart_data = list(df.loc[serial_number])[4:]\n",
    "    return smart_data"
   ]
  },
  {
   "cell_type": "code",
   "execution_count": null,
   "metadata": {},
   "outputs": [],
   "source": [
    "fail_record = {}\n",
    "record = {}"
   ]
  },
  {
   "cell_type": "code",
   "execution_count": null,
   "metadata": {
    "scrolled": true
   },
   "outputs": [],
   "source": [
    "NUM_DAYS_RECORD = 7\n",
    "\n",
    "for n,data_file in tqdm_notebook(enumerate(data_files), total=len(data_files)):\n",
    "    print(\"File:\", data_file)\n",
    "    try:\n",
    "        df = pd.read_csv(data_file)\n",
    "        serial_numbers = list(df[\"serial_number\"])\n",
    "        failures = list(df[\"failure\"])\n",
    "        df.set_index(\"serial_number\", inplace=True)\n",
    "        interval = int(len(failures)/40)-1\n",
    "        for i,failure in enumerate(failures):\n",
    "            # failure\n",
    "            if int(failure)==1:\n",
    "                try:\n",
    "                    serial_number = serial_numbers[i]\n",
    "                    row = df.loc[serial_number]\n",
    "                    hdd_model = int(re.sub(\"\\D\", \"\", row[\"model\"]))\n",
    "                    hdd_size = row[\"capacity_bytes\"]\n",
    "                    data = [hdd_model, hdd_size]\n",
    "                    for d in range(2,2+NUM_DAYS_RECORD):\n",
    "                        smart_data = get_smart_data(n+d, serial_number)\n",
    "                        data += smart_data\n",
    "                    fail_record[serial_number] = data\n",
    "                except Exception as e:\n",
    "                    print(e)\n",
    "\n",
    "            # ok\n",
    "            elif i%interval==0:\n",
    "                if int(failure)==0:\n",
    "                    try:\n",
    "                        serial_number = serial_numbers[i]\n",
    "                        row = df.loc[serial_number]\n",
    "                        hdd_model = int(re.sub(\"\\D\", \"\", row[\"model\"]))\n",
    "                        hdd_size = row[\"capacity_bytes\"]\n",
    "                        data = [hdd_model, hdd_size]\n",
    "                        for d in range(2,2+NUM_DAYS_RECORD):\n",
    "                            smart_data = get_smart_data(n+d, serial_number)\n",
    "                            data += smart_data\n",
    "                        record[serial_number] = data\n",
    "                    except Exception as e:\n",
    "                        print(e)\n",
    "    except Exception as e:\n",
    "        print(\"file failed\", e)"
   ]
  },
  {
   "cell_type": "code",
   "execution_count": null,
   "metadata": {},
   "outputs": [],
   "source": [
    "print(len(fail_record[list(fail_record.keys())[0]]), \"length:\\n\", fail_record[list(fail_record.keys())[0]])"
   ]
  },
  {
   "cell_type": "code",
   "execution_count": null,
   "metadata": {},
   "outputs": [],
   "source": [
    "header_row = [\"failure\", \"hdd_model\", \"hdd_capacity\"] + [\"feat\"+str(i) for i in range(len(fail_record[list(fail_record.keys())[0]])-2)]"
   ]
  },
  {
   "cell_type": "code",
   "execution_count": null,
   "metadata": {},
   "outputs": [],
   "source": [
    "assert len(header_row) == len(fail_record[list(fail_record.keys())[0]])+1\n",
    "assert len(header_row) == len(record[list(record.keys())[0]])+1"
   ]
  },
  {
   "cell_type": "markdown",
   "metadata": {},
   "source": [
    "Replace previously generated CSV files"
   ]
  },
  {
   "cell_type": "code",
   "execution_count": null,
   "metadata": {},
   "outputs": [],
   "source": [
    "!rm *.csv"
   ]
  },
  {
   "cell_type": "code",
   "execution_count": null,
   "metadata": {},
   "outputs": [],
   "source": [
    "import csv\n",
    "\n",
    "with open('ok.csv', 'w') as csv_file:\n",
    "    writer = csv.writer(csv_file)\n",
    "    for key, value in record.items():\n",
    "        writer.writerow([0]+value)\n",
    "        \n",
    "with open('fail.csv', 'w') as csv_file:\n",
    "    writer = csv.writer(csv_file)\n",
    "    writer.writerow(header_row)\n",
    "    for key, value in fail_record.items():\n",
    "        writer.writerow([1]+value)"
   ]
  },
  {
   "cell_type": "code",
   "execution_count": null,
   "metadata": {},
   "outputs": [],
   "source": [
    "!cat *.csv > merged.csv"
   ]
  },
  {
   "cell_type": "code",
   "execution_count": null,
   "metadata": {},
   "outputs": [],
   "source": []
  }
 ],
 "metadata": {
  "kernelspec": {
   "display_name": "Python 3",
   "language": "python",
   "name": "python3"
  },
  "language_info": {
   "codemirror_mode": {
    "name": "ipython",
    "version": 3
   },
   "file_extension": ".py",
   "mimetype": "text/x-python",
   "name": "python",
   "nbconvert_exporter": "python",
   "pygments_lexer": "ipython3",
   "version": "3.6.7"
  }
 },
 "nbformat": 4,
 "nbformat_minor": 2
}
