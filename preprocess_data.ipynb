{
 "cells": [
  {
   "cell_type": "markdown",
   "metadata": {},
   "source": [
    "Process all the raw downloaded CSV to remove cols we don't want, and fill in null/NaN data"
   ]
  },
  {
   "cell_type": "code",
   "execution_count": 1,
   "metadata": {},
   "outputs": [
    {
     "name": "stdout",
     "output_type": "stream",
     "text": [
      "607 Files:\n",
      "From: ./data/2018-09-30.csv , to: ./data/2017-02-01.csv\n"
     ]
    }
   ],
   "source": [
    "import pandas as pd\n",
    "import numpy as np\n",
    "from tqdm import tqdm_notebook\n",
    "import glob\n",
    "\n",
    "#data_files = glob.glob(\"./data_Q418/*.csv\")\n",
    "data_files = glob.glob(\"./data/*.csv\")\n",
    "data_files.sort()\n",
    "data_files = data_files[::-1]\n",
    "print(len(data_files), \"Files:\")\n",
    "print(\"From:\", data_files[0], \", to:\", data_files[-1])"
   ]
  },
  {
   "cell_type": "code",
   "execution_count": 2,
   "metadata": {},
   "outputs": [],
   "source": [
    "data_files = data_files[:100]"
   ]
  },
  {
   "cell_type": "code",
   "execution_count": 3,
   "metadata": {},
   "outputs": [],
   "source": [
    "remove_cols_ = [\"smart_177\", \"smart_179\", \"smart_181\", \"smart_182\", \"smart_235\"]\n",
    "remove_cols_ += [\"smart_23\", \"smart_24\"]\n",
    "remove_cols_ += [\"smart_16\", \"smart_17\", \"smart_168\", \"smart_170\", \"smart_173\", \"smart_174\", \"smart_218\", \"smart_231\", \"smart_232\", \"smart_233\"]"
   ]
  },
  {
   "cell_type": "code",
   "execution_count": 4,
   "metadata": {},
   "outputs": [],
   "source": [
    "remove_cols = [col+\"_raw\" for col in remove_cols_]"
   ]
  },
  {
   "cell_type": "code",
   "execution_count": null,
   "metadata": {},
   "outputs": [],
   "source": [
    "def preprocess_df(df):\n",
    "    cols = df.columns.values.tolist() \n",
    "    for col in cols:\n",
    "        if \"norm\" in col:\n",
    "            df = df.drop(col, axis=1)\n",
    "        elif (col in remove_cols):\n",
    "            df = df.drop(col, axis=1)\n",
    "    df.fillna(0, inplace=True)\n",
    "    return df"
   ]
  },
  {
   "cell_type": "code",
   "execution_count": null,
   "metadata": {
    "scrolled": true
   },
   "outputs": [
    {
     "data": {
      "application/vnd.jupyter.widget-view+json": {
       "model_id": "18ad4a5ffcd1431295cac73917028d82",
       "version_major": 2,
       "version_minor": 0
      },
      "text/plain": [
       "HBox(children=(IntProgress(value=0), HTML(value='')))"
      ]
     },
     "metadata": {},
     "output_type": "display_data"
    },
    {
     "name": "stdout",
     "output_type": "stream",
     "text": [
      "File: ./data/2018-09-30.csv\n",
      "File: ./data/2018-09-29.csv\n",
      "File: ./data/2018-09-28.csv\n",
      "File: ./data/2018-09-27.csv\n",
      "File: ./data/2018-09-26.csv\n",
      "File: ./data/2018-09-25.csv\n",
      "File: ./data/2018-09-24.csv\n",
      "File: ./data/2018-09-23.csv\n",
      "File: ./data/2018-09-22.csv\n",
      "File: ./data/2018-09-21.csv\n",
      "File: ./data/2018-09-20.csv\n",
      "File: ./data/2018-09-19.csv\n",
      "File: ./data/2018-09-18.csv\n",
      "File: ./data/2018-09-17.csv\n",
      "File: ./data/2018-09-16.csv\n",
      "File: ./data/2018-09-15.csv\n",
      "File: ./data/2018-09-14.csv\n",
      "File: ./data/2018-09-13.csv\n",
      "File: ./data/2018-09-12.csv\n",
      "File: ./data/2018-09-11.csv\n",
      "File: ./data/2018-09-10.csv\n",
      "File: ./data/2018-09-09.csv\n",
      "File: ./data/2018-09-08.csv\n",
      "File: ./data/2018-09-07.csv\n",
      "File: ./data/2018-09-06.csv\n",
      "File: ./data/2018-09-05.csv\n",
      "File: ./data/2018-09-04.csv\n",
      "File: ./data/2018-09-03.csv\n",
      "File: ./data/2018-09-02.csv\n",
      "File: ./data/2018-09-01.csv\n",
      "File: ./data/2018-08-31.csv\n",
      "File: ./data/2018-08-30.csv\n",
      "File: ./data/2018-08-29.csv\n",
      "File: ./data/2018-08-28.csv\n",
      "File: ./data/2018-08-27.csv\n",
      "File: ./data/2018-08-26.csv\n",
      "File: ./data/2018-08-25.csv\n",
      "File: ./data/2018-08-24.csv\n",
      "File: ./data/2018-08-23.csv\n",
      "File: ./data/2018-08-22.csv\n",
      "File: ./data/2018-08-21.csv\n",
      "File: ./data/2018-08-20.csv\n",
      "File: ./data/2018-08-19.csv\n",
      "File: ./data/2018-08-18.csv\n",
      "File: ./data/2018-08-17.csv\n",
      "File: ./data/2018-08-16.csv\n",
      "File: ./data/2018-08-15.csv\n",
      "File: ./data/2018-08-14.csv\n",
      "File: ./data/2018-08-13.csv\n",
      "File: ./data/2018-08-12.csv\n",
      "File: ./data/2018-08-11.csv\n",
      "File: ./data/2018-08-10.csv\n",
      "File: ./data/2018-08-09.csv\n",
      "File: ./data/2018-08-08.csv\n",
      "File: ./data/2018-08-07.csv\n",
      "File: ./data/2018-08-06.csv\n",
      "File: ./data/2018-08-05.csv\n",
      "File: ./data/2018-08-04.csv\n",
      "File: ./data/2018-08-03.csv\n",
      "File: ./data/2018-08-02.csv\n",
      "File: ./data/2018-08-01.csv\n",
      "File: ./data/2018-07-31.csv\n",
      "File: ./data/2018-07-30.csv\n",
      "File: ./data/2018-07-29.csv\n",
      "File: ./data/2018-07-28.csv\n",
      "File: ./data/2018-07-27.csv\n",
      "File: ./data/2018-07-26.csv\n",
      "File: ./data/2018-07-25.csv\n",
      "File: ./data/2018-07-24.csv\n",
      "File: ./data/2018-07-23.csv\n",
      "File: ./data/2018-07-22.csv\n",
      "File: ./data/2018-07-21.csv\n",
      "File: ./data/2018-07-20.csv\n",
      "File: ./data/2018-07-19.csv\n",
      "File: ./data/2018-07-18.csv\n",
      "File: ./data/2018-07-17.csv\n",
      "File: ./data/2018-07-16.csv\n",
      "File: ./data/2018-07-15.csv\n",
      "File: ./data/2018-07-14.csv\n",
      "File: ./data/2018-07-13.csv\n",
      "File: ./data/2018-07-12.csv\n",
      "File: ./data/2018-07-11.csv\n",
      "File: ./data/2018-07-10.csv\n",
      "File: ./data/2018-07-09.csv\n",
      "File: ./data/2018-07-08.csv\n",
      "File: ./data/2018-07-07.csv\n",
      "File: ./data/2018-07-06.csv\n",
      "File: ./data/2018-07-05.csv\n",
      "File: ./data/2018-07-04.csv\n",
      "File: ./data/2018-07-03.csv\n",
      "File: ./data/2018-07-02.csv\n",
      "File: ./data/2018-07-01.csv\n"
     ]
    }
   ],
   "source": [
    "OUTPUT_DIR = \"./processed/\"\n",
    "#OUTPUT_DIR = \"./eval/\"\n",
    "\n",
    "for n,data_file in tqdm_notebook(enumerate(data_files), total=len(data_files)):\n",
    "    print(\"File:\", data_file)\n",
    "    df = pd.read_csv(data_file)\n",
    "    df = preprocess_df(df)\n",
    "    df.to_csv(OUTPUT_DIR+data_file.replace(\"./data/\",\"\"))\n",
    "    #df.to_csv(OUTPUT_DIR+data_file.replace(\"./data_Q418/\",\"\"))"
   ]
  },
  {
   "cell_type": "code",
   "execution_count": null,
   "metadata": {},
   "outputs": [],
   "source": []
  }
 ],
 "metadata": {
  "kernelspec": {
   "display_name": "Python 3",
   "language": "python",
   "name": "python3"
  },
  "language_info": {
   "codemirror_mode": {
    "name": "ipython",
    "version": 3
   },
   "file_extension": ".py",
   "mimetype": "text/x-python",
   "name": "python",
   "nbconvert_exporter": "python",
   "pygments_lexer": "ipython3",
   "version": "3.6.7"
  }
 },
 "nbformat": 4,
 "nbformat_minor": 2
}
