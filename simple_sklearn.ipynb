{
 "cells": [
  {
   "cell_type": "markdown",
   "metadata": {},
   "source": [
    "## Example: scikit-learn Datasets\n",
    "\n",
    "Example used: [Boston House Prices dataset](https://scikit-learn.org/stable/datasets/index.html#boston-dataset)"
   ]
  },
  {
   "cell_type": "code",
   "execution_count": 1,
   "metadata": {},
   "outputs": [],
   "source": [
    "import xgboost as xgb\n",
    "from sklearn.datasets import load_boston\n",
    "\n",
    "boston = load_boston()"
   ]
  },
  {
   "cell_type": "code",
   "execution_count": 2,
   "metadata": {},
   "outputs": [
    {
     "name": "stdout",
     "output_type": "stream",
     "text": [
      "[0]\ttrain-rmse:21.594\n",
      "[1]\ttrain-rmse:19.5391\n",
      "[2]\ttrain-rmse:17.69\n",
      "[3]\ttrain-rmse:16.0221\n",
      "[4]\ttrain-rmse:14.5219\n",
      "[5]\ttrain-rmse:13.1741\n",
      "[6]\ttrain-rmse:11.9546\n",
      "[7]\ttrain-rmse:10.8627\n",
      "[8]\ttrain-rmse:9.87721\n",
      "[9]\ttrain-rmse:8.98764\n",
      "[10]\ttrain-rmse:8.18617\n",
      "[11]\ttrain-rmse:7.45729\n",
      "[12]\ttrain-rmse:6.80296\n",
      "[13]\ttrain-rmse:6.2098\n",
      "[14]\ttrain-rmse:5.67181\n",
      "[15]\ttrain-rmse:5.18497\n",
      "[16]\ttrain-rmse:4.74357\n",
      "[17]\ttrain-rmse:4.34232\n",
      "[18]\ttrain-rmse:3.98038\n",
      "[19]\ttrain-rmse:3.64897\n",
      "[20]\ttrain-rmse:3.35204\n",
      "[21]\ttrain-rmse:3.08055\n",
      "[22]\ttrain-rmse:2.83221\n",
      "[23]\ttrain-rmse:2.60857\n",
      "[24]\ttrain-rmse:2.40515\n",
      "[25]\ttrain-rmse:2.21722\n",
      "[26]\ttrain-rmse:2.0467\n",
      "[27]\ttrain-rmse:1.8907\n",
      "[28]\ttrain-rmse:1.74727\n",
      "[29]\ttrain-rmse:1.61796\n",
      "[30]\ttrain-rmse:1.497\n",
      "[31]\ttrain-rmse:1.38745\n",
      "[32]\ttrain-rmse:1.2864\n",
      "[33]\ttrain-rmse:1.19439\n",
      "[34]\ttrain-rmse:1.11001\n",
      "[35]\ttrain-rmse:1.03246\n",
      "[36]\ttrain-rmse:0.96114\n",
      "[37]\ttrain-rmse:0.894908\n",
      "[38]\ttrain-rmse:0.833352\n",
      "[39]\ttrain-rmse:0.776744\n",
      "[40]\ttrain-rmse:0.723015\n",
      "[41]\ttrain-rmse:0.672819\n",
      "[42]\ttrain-rmse:0.626618\n",
      "[43]\ttrain-rmse:0.583749\n",
      "[44]\ttrain-rmse:0.544794\n",
      "[45]\ttrain-rmse:0.508449\n",
      "[46]\ttrain-rmse:0.475147\n",
      "[47]\ttrain-rmse:0.444274\n",
      "[48]\ttrain-rmse:0.415724\n",
      "[49]\ttrain-rmse:0.389844\n"
     ]
    },
    {
     "data": {
      "text/plain": [
       "<xgboost.core.Booster at 0x7faf068dfcc0>"
      ]
     },
     "execution_count": 2,
     "metadata": {},
     "output_type": "execute_result"
    }
   ],
   "source": [
    "# XGBoost API example\n",
    "params = {'tree_method': 'gpu_exact', 'max_depth': 24, 'learning_rate': 0.1, 'silent': 1}\n",
    "dtrain = xgb.DMatrix(boston.data, boston.target)\n",
    "xgb.train(params, dtrain, 50, evals=[(dtrain, \"train\")])"
   ]
  },
  {
   "cell_type": "code",
   "execution_count": null,
   "metadata": {},
   "outputs": [],
   "source": []
  }
 ],
 "metadata": {
  "kernelspec": {
   "display_name": "Python 3",
   "language": "python",
   "name": "python3"
  },
  "language_info": {
   "codemirror_mode": {
    "name": "ipython",
    "version": 3
   },
   "file_extension": ".py",
   "mimetype": "text/x-python",
   "name": "python",
   "nbconvert_exporter": "python",
   "pygments_lexer": "ipython3",
   "version": "3.6.7"
  }
 },
 "nbformat": 4,
 "nbformat_minor": 2
}
