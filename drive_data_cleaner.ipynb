{
 "cells": [
  {
   "cell_type": "code",
   "execution_count": 1,
   "metadata": {
    "ExecuteTime": {
     "end_time": "2018-12-23T14:20:27.586003Z",
     "start_time": "2018-12-23T14:20:27.248253Z"
    }
   },
   "outputs": [],
   "source": [
    "import pandas as pd"
   ]
  },
  {
   "cell_type": "code",
   "execution_count": 2,
   "metadata": {
    "ExecuteTime": {
     "end_time": "2018-12-23T14:20:27.596140Z",
     "start_time": "2018-12-23T14:20:27.587760Z"
    }
   },
   "outputs": [
    {
     "data": {
      "text/plain": [
       "'import glob\\ndata_files = glob.glob(\"data/*.csv\")\\ndata_files.sort()\\nprint(len(data_files), \"Files:\")\\nprint(\"From:\", data_files[0], \", to:\", data_files[-1])'"
      ]
     },
     "execution_count": 2,
     "metadata": {},
     "output_type": "execute_result"
    }
   ],
   "source": [
    "\"\"\"import glob\n",
    "data_files = glob.glob(\"data/*.csv\")\n",
    "data_files.sort()\n",
    "print(len(data_files), \"Files:\")\n",
    "print(\"From:\", data_files[0], \", to:\", data_files[-1])\"\"\""
   ]
  },
  {
   "cell_type": "code",
   "execution_count": 3,
   "metadata": {
    "ExecuteTime": {
     "end_time": "2018-12-23T14:20:50.308686Z",
     "start_time": "2018-12-23T14:20:27.597563Z"
    }
   },
   "outputs": [
    {
     "name": "stderr",
     "output_type": "stream",
     "text": [
      "/opt/conda/lib/python3.6/site-packages/IPython/core/interactiveshell.py:3020: DtypeWarning: Columns (3,4,5,6,7,8,9,10,11,12,13,14,15,16,17,18,19,20,21,22,23,24,25,26,27,28,29,30,31,32,33,34,35,36,37,38,39,40,41,42,43,44,45,46,47,48,49,50,51,52,53,54,55,56,57,58,59,60,61,62,63,64,65,66,67,68,69,70,71,72,73,74,75,76,77,78,79,80,81,82,83,84,85,86,87,88,89,90,91,92,93,94,95,96,97,98,99,100,101,102,103,104,105,106,107,108) have mixed types. Specify dtype option on import or set low_memory=False.\n",
      "  interactivity=interactivity, compiler=compiler, result=result)\n"
     ]
    }
   ],
   "source": [
    "df = pd.read_csv(\"data_other/merged.csv\")"
   ]
  },
  {
   "cell_type": "code",
   "execution_count": 4,
   "metadata": {
    "ExecuteTime": {
     "end_time": "2018-12-23T14:20:58.422153Z",
     "start_time": "2018-12-23T14:20:50.310732Z"
    }
   },
   "outputs": [],
   "source": [
    "# hacky temp ignore non-numerical values\n",
    "df = df.drop(\"serial_number\", axis=1)\n",
    "df = df.drop(\"date\", axis=1)\n",
    "df = df.drop(\"model\", axis=1)"
   ]
  },
  {
   "cell_type": "code",
   "execution_count": 5,
   "metadata": {
    "ExecuteTime": {
     "end_time": "2018-12-23T14:21:16.128194Z",
     "start_time": "2018-12-23T14:20:58.423746Z"
    }
   },
   "outputs": [],
   "source": [
    "df.fillna(0, inplace=True)"
   ]
  },
  {
   "cell_type": "code",
   "execution_count": 6,
   "metadata": {
    "ExecuteTime": {
     "end_time": "2018-12-23T14:21:17.045647Z",
     "start_time": "2018-12-23T14:21:16.129655Z"
    }
   },
   "outputs": [],
   "source": [
    "from tqdm import tqdm_notebook\n",
    "import numpy as np\n",
    "\n",
    "from sklearn.metrics import mean_squared_error, accuracy_score\n",
    "from sklearn.model_selection import train_test_split\n",
    "from sklearn.preprocessing import OneHotEncoder\n",
    "\n",
    "import cudf\n",
    "import xgboost as xgb\n",
    "\n",
    "import time"
   ]
  },
  {
   "cell_type": "code",
   "execution_count": 7,
   "metadata": {
    "ExecuteTime": {
     "end_time": "2018-12-23T14:23:19.657359Z",
     "start_time": "2018-12-23T14:21:17.047210Z"
    }
   },
   "outputs": [
    {
     "name": "stdout",
     "output_type": "stream",
     "text": [
      "Dropping columns with normalised or only 1 data:\n"
     ]
    },
    {
     "data": {
      "application/vnd.jupyter.widget-view+json": {
       "model_id": "55bcbd9d337146dfbb378fb1e87719d3",
       "version_major": 2,
       "version_minor": 0
      },
      "text/plain": [
       "HBox(children=(IntProgress(value=0, max=106), HTML(value='')))"
      ]
     },
     "metadata": {},
     "output_type": "display_data"
    },
    {
     "name": "stdout",
     "output_type": "stream",
     "text": [
      "\n"
     ]
    }
   ],
   "source": [
    "null_cols = df.isnull().any().tolist() \n",
    "cols = df.columns.values.tolist() \n",
    "\n",
    "print(\"Dropping columns with normalised or only 1 data:\")\n",
    "for col in tqdm_notebook(cols):\n",
    "    current_col = df[col]\n",
    "    if \"norm\" in col:\n",
    "        df = df.drop(col, axis=1)\n",
    "    elif len(current_col.unique().tolist())<2:\n",
    "        df = df.drop(col, axis=1)"
   ]
  },
  {
   "cell_type": "code",
   "execution_count": 8,
   "metadata": {
    "ExecuteTime": {
     "end_time": "2018-12-23T14:23:24.131370Z",
     "start_time": "2018-12-23T14:23:19.659162Z"
    }
   },
   "outputs": [],
   "source": [
    "df = df.set_index(\"capacity_bytes\")\n",
    "df = df.drop(\"capacity_bytes\", axis=0)\n",
    "df = df.reset_index()"
   ]
  },
  {
   "cell_type": "code",
   "execution_count": 9,
   "metadata": {
    "ExecuteTime": {
     "end_time": "2018-12-23T14:23:24.964181Z",
     "start_time": "2018-12-23T14:23:24.133121Z"
    }
   },
   "outputs": [
    {
     "data": {
      "text/html": [
       "<div>\n",
       "<style>\n",
       "    .dataframe thead tr:only-child th {\n",
       "        text-align: right;\n",
       "    }\n",
       "\n",
       "    .dataframe thead th {\n",
       "        text-align: left;\n",
       "    }\n",
       "\n",
       "    .dataframe tbody tr th {\n",
       "        vertical-align: top;\n",
       "    }\n",
       "</style>\n",
       "<table border=\"1\" class=\"dataframe\">\n",
       "  <thead>\n",
       "    <tr style=\"text-align: right;\">\n",
       "      <th></th>\n",
       "      <th>capacity_bytes</th>\n",
       "      <th>failure</th>\n",
       "      <th>smart_1_raw</th>\n",
       "      <th>smart_2_raw</th>\n",
       "      <th>smart_3_raw</th>\n",
       "      <th>smart_4_raw</th>\n",
       "      <th>smart_5_raw</th>\n",
       "      <th>smart_7_raw</th>\n",
       "      <th>smart_8_raw</th>\n",
       "      <th>smart_9_raw</th>\n",
       "      <th>...</th>\n",
       "      <th>smart_226_raw</th>\n",
       "      <th>smart_235_raw</th>\n",
       "      <th>smart_240_raw</th>\n",
       "      <th>smart_241_raw</th>\n",
       "      <th>smart_242_raw</th>\n",
       "      <th>smart_250_raw</th>\n",
       "      <th>smart_251_raw</th>\n",
       "      <th>smart_252_raw</th>\n",
       "      <th>smart_254_raw</th>\n",
       "      <th>smart_255_raw</th>\n",
       "    </tr>\n",
       "  </thead>\n",
       "  <tbody>\n",
       "    <tr>\n",
       "      <th>0</th>\n",
       "      <td>4000787030016</td>\n",
       "      <td>0</td>\n",
       "      <td>192266920</td>\n",
       "      <td>0</td>\n",
       "      <td>0</td>\n",
       "      <td>10</td>\n",
       "      <td>0</td>\n",
       "      <td>131239045</td>\n",
       "      <td>0</td>\n",
       "      <td>23787</td>\n",
       "      <td>...</td>\n",
       "      <td>0</td>\n",
       "      <td>0</td>\n",
       "      <td>23536</td>\n",
       "      <td>4.31455e+10</td>\n",
       "      <td>9.41757e+10</td>\n",
       "      <td>0</td>\n",
       "      <td>0</td>\n",
       "      <td>0</td>\n",
       "      <td>0</td>\n",
       "      <td>0</td>\n",
       "    </tr>\n",
       "    <tr>\n",
       "      <th>1</th>\n",
       "      <td>12000138625024</td>\n",
       "      <td>0</td>\n",
       "      <td>124979220</td>\n",
       "      <td>0</td>\n",
       "      <td>0</td>\n",
       "      <td>2</td>\n",
       "      <td>0</td>\n",
       "      <td>2196252</td>\n",
       "      <td>0</td>\n",
       "      <td>825</td>\n",
       "      <td>...</td>\n",
       "      <td>0</td>\n",
       "      <td>0</td>\n",
       "      <td>104</td>\n",
       "      <td>8.30294e+08</td>\n",
       "      <td>2.7128e+08</td>\n",
       "      <td>0</td>\n",
       "      <td>0</td>\n",
       "      <td>0</td>\n",
       "      <td>0</td>\n",
       "      <td>0</td>\n",
       "    </tr>\n",
       "    <tr>\n",
       "      <th>2</th>\n",
       "      <td>12000138625024</td>\n",
       "      <td>0</td>\n",
       "      <td>101428480</td>\n",
       "      <td>0</td>\n",
       "      <td>0</td>\n",
       "      <td>1</td>\n",
       "      <td>0</td>\n",
       "      <td>158587645</td>\n",
       "      <td>0</td>\n",
       "      <td>1425</td>\n",
       "      <td>...</td>\n",
       "      <td>0</td>\n",
       "      <td>0</td>\n",
       "      <td>1252</td>\n",
       "      <td>1.23185e+10</td>\n",
       "      <td>1.19528e+10</td>\n",
       "      <td>0</td>\n",
       "      <td>0</td>\n",
       "      <td>0</td>\n",
       "      <td>0</td>\n",
       "      <td>0</td>\n",
       "    </tr>\n",
       "    <tr>\n",
       "      <th>3</th>\n",
       "      <td>4000787030016</td>\n",
       "      <td>0</td>\n",
       "      <td>0</td>\n",
       "      <td>102</td>\n",
       "      <td>436</td>\n",
       "      <td>8</td>\n",
       "      <td>0</td>\n",
       "      <td>0</td>\n",
       "      <td>42</td>\n",
       "      <td>13858</td>\n",
       "      <td>...</td>\n",
       "      <td>0</td>\n",
       "      <td>0</td>\n",
       "      <td>0</td>\n",
       "      <td>0</td>\n",
       "      <td>0</td>\n",
       "      <td>0</td>\n",
       "      <td>0</td>\n",
       "      <td>0</td>\n",
       "      <td>0</td>\n",
       "      <td>0</td>\n",
       "    </tr>\n",
       "    <tr>\n",
       "      <th>4</th>\n",
       "      <td>8001563222016</td>\n",
       "      <td>0</td>\n",
       "      <td>176855416</td>\n",
       "      <td>0</td>\n",
       "      <td>0</td>\n",
       "      <td>5</td>\n",
       "      <td>0</td>\n",
       "      <td>2923972399</td>\n",
       "      <td>0</td>\n",
       "      <td>11744</td>\n",
       "      <td>...</td>\n",
       "      <td>0</td>\n",
       "      <td>0</td>\n",
       "      <td>11724</td>\n",
       "      <td>4.24139e+10</td>\n",
       "      <td>7.88292e+10</td>\n",
       "      <td>0</td>\n",
       "      <td>0</td>\n",
       "      <td>0</td>\n",
       "      <td>0</td>\n",
       "      <td>0</td>\n",
       "    </tr>\n",
       "  </tbody>\n",
       "</table>\n",
       "<p>5 rows × 54 columns</p>\n",
       "</div>"
      ],
      "text/plain": [
       "   capacity_bytes failure smart_1_raw smart_2_raw smart_3_raw smart_4_raw  \\\n",
       "0   4000787030016       0   192266920           0           0          10   \n",
       "1  12000138625024       0   124979220           0           0           2   \n",
       "2  12000138625024       0   101428480           0           0           1   \n",
       "3   4000787030016       0           0         102         436           8   \n",
       "4   8001563222016       0   176855416           0           0           5   \n",
       "\n",
       "  smart_5_raw smart_7_raw smart_8_raw smart_9_raw      ...      smart_226_raw  \\\n",
       "0           0   131239045           0       23787      ...                  0   \n",
       "1           0     2196252           0         825      ...                  0   \n",
       "2           0   158587645           0        1425      ...                  0   \n",
       "3           0           0          42       13858      ...                  0   \n",
       "4           0  2923972399           0       11744      ...                  0   \n",
       "\n",
       "  smart_235_raw smart_240_raw smart_241_raw smart_242_raw smart_250_raw  \\\n",
       "0             0         23536   4.31455e+10   9.41757e+10             0   \n",
       "1             0           104   8.30294e+08    2.7128e+08             0   \n",
       "2             0          1252   1.23185e+10   1.19528e+10             0   \n",
       "3             0             0             0             0             0   \n",
       "4             0         11724   4.24139e+10   7.88292e+10             0   \n",
       "\n",
       "  smart_251_raw smart_252_raw smart_254_raw smart_255_raw  \n",
       "0             0             0             0             0  \n",
       "1             0             0             0             0  \n",
       "2             0             0             0             0  \n",
       "3             0             0             0             0  \n",
       "4             0             0             0             0  \n",
       "\n",
       "[5 rows x 54 columns]"
      ]
     },
     "execution_count": 9,
     "metadata": {},
     "output_type": "execute_result"
    }
   ],
   "source": [
    "df.head()"
   ]
  },
  {
   "cell_type": "code",
   "execution_count": 10,
   "metadata": {
    "ExecuteTime": {
     "end_time": "2018-12-23T14:23:25.001792Z",
     "start_time": "2018-12-23T14:23:24.965674Z"
    }
   },
   "outputs": [
    {
     "data": {
      "text/html": [
       "<div>\n",
       "<style>\n",
       "    .dataframe thead tr:only-child th {\n",
       "        text-align: right;\n",
       "    }\n",
       "\n",
       "    .dataframe thead th {\n",
       "        text-align: left;\n",
       "    }\n",
       "\n",
       "    .dataframe tbody tr th {\n",
       "        vertical-align: top;\n",
       "    }\n",
       "</style>\n",
       "<table border=\"1\" class=\"dataframe\">\n",
       "  <thead>\n",
       "    <tr style=\"text-align: right;\">\n",
       "      <th></th>\n",
       "      <th>capacity_bytes</th>\n",
       "      <th>failure</th>\n",
       "      <th>smart_1_raw</th>\n",
       "      <th>smart_2_raw</th>\n",
       "      <th>smart_3_raw</th>\n",
       "      <th>smart_4_raw</th>\n",
       "      <th>smart_5_raw</th>\n",
       "      <th>smart_7_raw</th>\n",
       "      <th>smart_8_raw</th>\n",
       "      <th>smart_9_raw</th>\n",
       "      <th>...</th>\n",
       "      <th>smart_226_raw</th>\n",
       "      <th>smart_235_raw</th>\n",
       "      <th>smart_240_raw</th>\n",
       "      <th>smart_241_raw</th>\n",
       "      <th>smart_242_raw</th>\n",
       "      <th>smart_250_raw</th>\n",
       "      <th>smart_251_raw</th>\n",
       "      <th>smart_252_raw</th>\n",
       "      <th>smart_254_raw</th>\n",
       "      <th>smart_255_raw</th>\n",
       "    </tr>\n",
       "  </thead>\n",
       "  <tbody>\n",
       "    <tr>\n",
       "      <th>3016675</th>\n",
       "      <td>4000787030016</td>\n",
       "      <td>0</td>\n",
       "      <td>0</td>\n",
       "      <td>100</td>\n",
       "      <td>0</td>\n",
       "      <td>3</td>\n",
       "      <td>0</td>\n",
       "      <td>0</td>\n",
       "      <td>42</td>\n",
       "      <td>20284</td>\n",
       "      <td>...</td>\n",
       "      <td>0</td>\n",
       "      <td>0</td>\n",
       "      <td>0</td>\n",
       "      <td>0</td>\n",
       "      <td>0</td>\n",
       "      <td>0</td>\n",
       "      <td>0</td>\n",
       "      <td>0</td>\n",
       "      <td>0</td>\n",
       "      <td>0</td>\n",
       "    </tr>\n",
       "    <tr>\n",
       "      <th>3016676</th>\n",
       "      <td>4000787030016</td>\n",
       "      <td>0</td>\n",
       "      <td>202702328</td>\n",
       "      <td>0</td>\n",
       "      <td>0</td>\n",
       "      <td>15</td>\n",
       "      <td>0</td>\n",
       "      <td>528328971</td>\n",
       "      <td>0</td>\n",
       "      <td>40255</td>\n",
       "      <td>...</td>\n",
       "      <td>0</td>\n",
       "      <td>0</td>\n",
       "      <td>40037</td>\n",
       "      <td>3.40821e+10</td>\n",
       "      <td>4.15766e+11</td>\n",
       "      <td>0</td>\n",
       "      <td>0</td>\n",
       "      <td>0</td>\n",
       "      <td>0</td>\n",
       "      <td>0</td>\n",
       "    </tr>\n",
       "    <tr>\n",
       "      <th>3016677</th>\n",
       "      <td>4000787030016</td>\n",
       "      <td>0</td>\n",
       "      <td>0</td>\n",
       "      <td>100</td>\n",
       "      <td>440</td>\n",
       "      <td>6</td>\n",
       "      <td>0</td>\n",
       "      <td>0</td>\n",
       "      <td>42</td>\n",
       "      <td>20117</td>\n",
       "      <td>...</td>\n",
       "      <td>0</td>\n",
       "      <td>0</td>\n",
       "      <td>0</td>\n",
       "      <td>0</td>\n",
       "      <td>0</td>\n",
       "      <td>0</td>\n",
       "      <td>0</td>\n",
       "      <td>0</td>\n",
       "      <td>0</td>\n",
       "      <td>0</td>\n",
       "    </tr>\n",
       "    <tr>\n",
       "      <th>3016678</th>\n",
       "      <td>4000787030016</td>\n",
       "      <td>0</td>\n",
       "      <td>0</td>\n",
       "      <td>101</td>\n",
       "      <td>490</td>\n",
       "      <td>18</td>\n",
       "      <td>0</td>\n",
       "      <td>0</td>\n",
       "      <td>42</td>\n",
       "      <td>15285</td>\n",
       "      <td>...</td>\n",
       "      <td>0</td>\n",
       "      <td>0</td>\n",
       "      <td>0</td>\n",
       "      <td>0</td>\n",
       "      <td>0</td>\n",
       "      <td>0</td>\n",
       "      <td>0</td>\n",
       "      <td>0</td>\n",
       "      <td>0</td>\n",
       "      <td>0</td>\n",
       "    </tr>\n",
       "    <tr>\n",
       "      <th>3016679</th>\n",
       "      <td>4000787030016</td>\n",
       "      <td>0</td>\n",
       "      <td>98538672</td>\n",
       "      <td>0</td>\n",
       "      <td>0</td>\n",
       "      <td>17</td>\n",
       "      <td>0</td>\n",
       "      <td>118410966</td>\n",
       "      <td>0</td>\n",
       "      <td>32265</td>\n",
       "      <td>...</td>\n",
       "      <td>0</td>\n",
       "      <td>0</td>\n",
       "      <td>31435</td>\n",
       "      <td>2.37899e+10</td>\n",
       "      <td>2.01715e+11</td>\n",
       "      <td>0</td>\n",
       "      <td>0</td>\n",
       "      <td>0</td>\n",
       "      <td>0</td>\n",
       "      <td>0</td>\n",
       "    </tr>\n",
       "  </tbody>\n",
       "</table>\n",
       "<p>5 rows × 54 columns</p>\n",
       "</div>"
      ],
      "text/plain": [
       "        capacity_bytes failure smart_1_raw smart_2_raw smart_3_raw  \\\n",
       "3016675  4000787030016       0           0         100           0   \n",
       "3016676  4000787030016       0   202702328           0           0   \n",
       "3016677  4000787030016       0           0         100         440   \n",
       "3016678  4000787030016       0           0         101         490   \n",
       "3016679  4000787030016       0    98538672           0           0   \n",
       "\n",
       "        smart_4_raw smart_5_raw smart_7_raw smart_8_raw smart_9_raw  \\\n",
       "3016675           3           0           0          42       20284   \n",
       "3016676          15           0   528328971           0       40255   \n",
       "3016677           6           0           0          42       20117   \n",
       "3016678          18           0           0          42       15285   \n",
       "3016679          17           0   118410966           0       32265   \n",
       "\n",
       "             ...      smart_226_raw smart_235_raw smart_240_raw smart_241_raw  \\\n",
       "3016675      ...                  0             0             0             0   \n",
       "3016676      ...                  0             0         40037   3.40821e+10   \n",
       "3016677      ...                  0             0             0             0   \n",
       "3016678      ...                  0             0             0             0   \n",
       "3016679      ...                  0             0         31435   2.37899e+10   \n",
       "\n",
       "        smart_242_raw smart_250_raw smart_251_raw smart_252_raw smart_254_raw  \\\n",
       "3016675             0             0             0             0             0   \n",
       "3016676   4.15766e+11             0             0             0             0   \n",
       "3016677             0             0             0             0             0   \n",
       "3016678             0             0             0             0             0   \n",
       "3016679   2.01715e+11             0             0             0             0   \n",
       "\n",
       "        smart_255_raw  \n",
       "3016675             0  \n",
       "3016676             0  \n",
       "3016677             0  \n",
       "3016678             0  \n",
       "3016679             0  \n",
       "\n",
       "[5 rows x 54 columns]"
      ]
     },
     "execution_count": 10,
     "metadata": {},
     "output_type": "execute_result"
    }
   ],
   "source": [
    "df.tail()"
   ]
  },
  {
   "cell_type": "code",
   "execution_count": 11,
   "metadata": {
    "ExecuteTime": {
     "end_time": "2018-12-23T14:23:54.878396Z",
     "start_time": "2018-12-23T14:23:25.003141Z"
    }
   },
   "outputs": [],
   "source": [
    "df.to_csv(\"cleaned.csv\", sep=',', encoding='utf-8')"
   ]
  }
 ],
 "metadata": {
  "kernelspec": {
   "display_name": "Python 3",
   "language": "python",
   "name": "python3"
  },
  "language_info": {
   "codemirror_mode": {
    "name": "ipython",
    "version": 3
   },
   "file_extension": ".py",
   "mimetype": "text/x-python",
   "name": "python",
   "nbconvert_exporter": "python",
   "pygments_lexer": "ipython3",
   "version": "3.6.7"
  }
 },
 "nbformat": 4,
 "nbformat_minor": 2
}
