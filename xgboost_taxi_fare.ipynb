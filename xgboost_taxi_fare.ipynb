{
 "cells": [
  {
   "cell_type": "markdown",
   "metadata": {},
   "source": [
    "## Taxi Fare Prediction with [XGBoost](xgboost.ai)\n",
    "\n",
    "From a set of 13 features across 2 million taxi rides, predict the taxi fare using gradient-boosted decision trees. Dataset obtained from [Kaggle](https://www.kaggle.com/smohitsingh/taxi-fare-prediction)."
   ]
  },
  {
   "cell_type": "code",
   "execution_count": 1,
   "metadata": {},
   "outputs": [],
   "source": [
    "import pandas as pd\n",
    "import xgboost as xgb\n",
    "import matplotlib\n",
    "from sklearn.metrics import mean_squared_error\n",
    "from sklearn.model_selection import train_test_split\n",
    "\n",
    "import time # only for timing the performance\n",
    "\n",
    "%matplotlib inline"
   ]
  },
  {
   "cell_type": "markdown",
   "metadata": {},
   "source": [
    "#### Load and check data\n",
    "\n",
    "Load from CSV into `Dataframe` and inspect"
   ]
  },
  {
   "cell_type": "code",
   "execution_count": 2,
   "metadata": {},
   "outputs": [],
   "source": [
    "df = pd.read_csv(\"train_fare.csv\")\n",
    "#df = cudf.DataFrame.from_pandas(df)"
   ]
  },
  {
   "cell_type": "code",
   "execution_count": 3,
   "metadata": {},
   "outputs": [
    {
     "name": "stdout",
     "output_type": "stream",
     "text": [
      "* Data types:\n",
      "fare_amount          float64\n",
      "pickup_longitude     float64\n",
      "pickup_latitude      float64\n",
      "dropoff_longitude    float64\n",
      "dropoff_latitude     float64\n",
      "passenger_count        int64\n",
      "year                   int64\n",
      "month                  int64\n",
      "day                    int64\n",
      "dayOfWeek              int64\n",
      "hour                   int64\n",
      "timeOfDayMid.Day       int64\n",
      "timeOfDayMorning       int64\n",
      "timeOfDayNight         int64\n",
      "dtype: object\n",
      "\n",
      "* Empty fields: False\n"
     ]
    }
   ],
   "source": [
    "print(\"* Data types:\")\n",
    "print(df.dtypes)\n",
    "print(\"\\n* Empty fields:\", df.isnull().any().any())"
   ]
  },
  {
   "cell_type": "code",
   "execution_count": 4,
   "metadata": {},
   "outputs": [
    {
     "data": {
      "text/html": [
       "<div>\n",
       "<style scoped>\n",
       "    .dataframe tbody tr th:only-of-type {\n",
       "        vertical-align: middle;\n",
       "    }\n",
       "\n",
       "    .dataframe tbody tr th {\n",
       "        vertical-align: top;\n",
       "    }\n",
       "\n",
       "    .dataframe thead th {\n",
       "        text-align: right;\n",
       "    }\n",
       "</style>\n",
       "<table border=\"1\" class=\"dataframe\">\n",
       "  <thead>\n",
       "    <tr style=\"text-align: right;\">\n",
       "      <th></th>\n",
       "      <th>fare_amount</th>\n",
       "      <th>pickup_longitude</th>\n",
       "      <th>pickup_latitude</th>\n",
       "      <th>dropoff_longitude</th>\n",
       "      <th>dropoff_latitude</th>\n",
       "      <th>passenger_count</th>\n",
       "      <th>year</th>\n",
       "      <th>month</th>\n",
       "      <th>day</th>\n",
       "      <th>dayOfWeek</th>\n",
       "      <th>hour</th>\n",
       "      <th>timeOfDayMid.Day</th>\n",
       "      <th>timeOfDayMorning</th>\n",
       "      <th>timeOfDayNight</th>\n",
       "    </tr>\n",
       "  </thead>\n",
       "  <tbody>\n",
       "    <tr>\n",
       "      <th>0</th>\n",
       "      <td>4.5</td>\n",
       "      <td>-73.844311</td>\n",
       "      <td>40.721319</td>\n",
       "      <td>-73.841610</td>\n",
       "      <td>40.712278</td>\n",
       "      <td>1</td>\n",
       "      <td>1</td>\n",
       "      <td>6</td>\n",
       "      <td>15</td>\n",
       "      <td>2</td>\n",
       "      <td>17</td>\n",
       "      <td>0</td>\n",
       "      <td>0</td>\n",
       "      <td>0</td>\n",
       "    </tr>\n",
       "    <tr>\n",
       "      <th>1</th>\n",
       "      <td>16.9</td>\n",
       "      <td>-74.016048</td>\n",
       "      <td>40.711303</td>\n",
       "      <td>-73.979268</td>\n",
       "      <td>40.782004</td>\n",
       "      <td>1</td>\n",
       "      <td>2</td>\n",
       "      <td>1</td>\n",
       "      <td>5</td>\n",
       "      <td>3</td>\n",
       "      <td>16</td>\n",
       "      <td>0</td>\n",
       "      <td>0</td>\n",
       "      <td>0</td>\n",
       "    </tr>\n",
       "    <tr>\n",
       "      <th>2</th>\n",
       "      <td>5.7</td>\n",
       "      <td>-73.982738</td>\n",
       "      <td>40.761270</td>\n",
       "      <td>-73.991242</td>\n",
       "      <td>40.750562</td>\n",
       "      <td>2</td>\n",
       "      <td>3</td>\n",
       "      <td>8</td>\n",
       "      <td>18</td>\n",
       "      <td>5</td>\n",
       "      <td>0</td>\n",
       "      <td>0</td>\n",
       "      <td>0</td>\n",
       "      <td>1</td>\n",
       "    </tr>\n",
       "    <tr>\n",
       "      <th>3</th>\n",
       "      <td>7.7</td>\n",
       "      <td>-73.987130</td>\n",
       "      <td>40.733143</td>\n",
       "      <td>-73.991567</td>\n",
       "      <td>40.758092</td>\n",
       "      <td>1</td>\n",
       "      <td>4</td>\n",
       "      <td>4</td>\n",
       "      <td>21</td>\n",
       "      <td>7</td>\n",
       "      <td>4</td>\n",
       "      <td>0</td>\n",
       "      <td>1</td>\n",
       "      <td>0</td>\n",
       "    </tr>\n",
       "    <tr>\n",
       "      <th>4</th>\n",
       "      <td>5.3</td>\n",
       "      <td>-73.968095</td>\n",
       "      <td>40.768008</td>\n",
       "      <td>-73.956655</td>\n",
       "      <td>40.783762</td>\n",
       "      <td>1</td>\n",
       "      <td>2</td>\n",
       "      <td>3</td>\n",
       "      <td>9</td>\n",
       "      <td>3</td>\n",
       "      <td>7</td>\n",
       "      <td>0</td>\n",
       "      <td>1</td>\n",
       "      <td>0</td>\n",
       "    </tr>\n",
       "  </tbody>\n",
       "</table>\n",
       "</div>"
      ],
      "text/plain": [
       "   fare_amount  pickup_longitude  pickup_latitude  dropoff_longitude  \\\n",
       "0          4.5        -73.844311        40.721319         -73.841610   \n",
       "1         16.9        -74.016048        40.711303         -73.979268   \n",
       "2          5.7        -73.982738        40.761270         -73.991242   \n",
       "3          7.7        -73.987130        40.733143         -73.991567   \n",
       "4          5.3        -73.968095        40.768008         -73.956655   \n",
       "\n",
       "   dropoff_latitude  passenger_count  year  month  day  dayOfWeek  hour  \\\n",
       "0         40.712278                1     1      6   15          2    17   \n",
       "1         40.782004                1     2      1    5          3    16   \n",
       "2         40.750562                2     3      8   18          5     0   \n",
       "3         40.758092                1     4      4   21          7     4   \n",
       "4         40.783762                1     2      3    9          3     7   \n",
       "\n",
       "   timeOfDayMid.Day  timeOfDayMorning  timeOfDayNight  \n",
       "0                 0                 0               0  \n",
       "1                 0                 0               0  \n",
       "2                 0                 0               1  \n",
       "3                 0                 1               0  \n",
       "4                 0                 1               0  "
      ]
     },
     "execution_count": 4,
     "metadata": {},
     "output_type": "execute_result"
    }
   ],
   "source": [
    "df.head()"
   ]
  },
  {
   "cell_type": "markdown",
   "metadata": {},
   "source": [
    "#### Prepare training-test split"
   ]
  },
  {
   "cell_type": "code",
   "execution_count": 5,
   "metadata": {},
   "outputs": [],
   "source": [
    "data = df.drop([\"fare_amount\"],axis=1).values\n",
    "target = df[\"fare_amount\"].values\n",
    "\n",
    "x_train, x_test, y_train, y_test = train_test_split(data, target, test_size=0.2)"
   ]
  },
  {
   "cell_type": "code",
   "execution_count": 6,
   "metadata": {},
   "outputs": [
    {
     "name": "stdout",
     "output_type": "stream",
     "text": [
      "Training set: (1567108, 13) (1567108,)\n",
      "Eval set: (391777, 13) (391777,)\n"
     ]
    }
   ],
   "source": [
    "print(\"Training set:\", x_train.shape, y_train.shape)\n",
    "print(\"Eval set:\", x_test.shape, y_test.shape)"
   ]
  },
  {
   "cell_type": "code",
   "execution_count": 7,
   "metadata": {},
   "outputs": [],
   "source": [
    "xgtrain = xgb.DMatrix(x_train, y_train)\n",
    "xgeval = xgb.DMatrix(x_test, y_test)"
   ]
  },
  {
   "cell_type": "markdown",
   "metadata": {},
   "source": [
    "### CPU Training"
   ]
  },
  {
   "cell_type": "code",
   "execution_count": 8,
   "metadata": {},
   "outputs": [
    {
     "name": "stdout",
     "output_type": "stream",
     "text": [
      "[0]\ttrain-rmse:11.0751\teval-rmse:11.069\n",
      "[1]\ttrain-rmse:10.0945\teval-rmse:10.0886\n",
      "[2]\ttrain-rmse:9.22554\teval-rmse:9.21955\n",
      "[3]\ttrain-rmse:8.43778\teval-rmse:8.43341\n",
      "[4]\ttrain-rmse:7.73899\teval-rmse:7.73667\n",
      "[5]\ttrain-rmse:7.11444\teval-rmse:7.1144\n",
      "[6]\ttrain-rmse:6.57042\teval-rmse:6.57309\n",
      "[7]\ttrain-rmse:6.09435\teval-rmse:6.09996\n",
      "[8]\ttrain-rmse:5.65832\teval-rmse:5.66755\n",
      "[9]\ttrain-rmse:5.26692\teval-rmse:5.28024\n",
      "[10]\ttrain-rmse:4.93682\teval-rmse:4.95372\n",
      "[11]\ttrain-rmse:4.65128\teval-rmse:4.67243\n",
      "[12]\ttrain-rmse:4.3812\teval-rmse:4.40699\n",
      "[13]\ttrain-rmse:4.13757\teval-rmse:4.16851\n",
      "[14]\ttrain-rmse:3.92693\teval-rmse:3.96325\n",
      "[15]\ttrain-rmse:3.74544\teval-rmse:3.78718\n",
      "[16]\ttrain-rmse:3.60301\teval-rmse:3.64967\n",
      "[17]\ttrain-rmse:3.47277\teval-rmse:3.5247\n",
      "[18]\ttrain-rmse:3.35146\teval-rmse:3.4089\n",
      "[19]\ttrain-rmse:3.25129\teval-rmse:3.31384\n",
      "[20]\ttrain-rmse:3.14912\teval-rmse:3.21713\n",
      "[21]\ttrain-rmse:3.06073\teval-rmse:3.13378\n",
      "[22]\ttrain-rmse:2.99421\teval-rmse:3.07241\n",
      "[23]\ttrain-rmse:2.9245\teval-rmse:3.00821\n",
      "[24]\ttrain-rmse:2.86796\teval-rmse:2.95678\n",
      "[25]\ttrain-rmse:2.82343\teval-rmse:2.91728\n",
      "[26]\ttrain-rmse:2.78127\teval-rmse:2.88023\n",
      "[27]\ttrain-rmse:2.73\teval-rmse:2.83435\n",
      "[28]\ttrain-rmse:2.69662\teval-rmse:2.80569\n",
      "[29]\ttrain-rmse:2.66942\teval-rmse:2.78313\n",
      "Total time taken 31.5\n"
     ]
    }
   ],
   "source": [
    "start_time = time.time()\n",
    "\n",
    "params = {'tree_method': 'exact', 'max_depth': 12, 'learning_rate': 0.1, 'silent': 1}\n",
    "bst = xgb.train(params, xgtrain, 30, evals=[(xgtrain, \"train\"), (xgeval, \"eval\")])\n",
    "\n",
    "duration_cpu = time.time() - start_time\n",
    "print(\"Total time taken\", round(duration_cpu,1))"
   ]
  },
  {
   "cell_type": "markdown",
   "metadata": {},
   "source": [
    "### GPU training"
   ]
  },
  {
   "cell_type": "code",
   "execution_count": 9,
   "metadata": {},
   "outputs": [
    {
     "name": "stdout",
     "output_type": "stream",
     "text": [
      "\u001b[1m\u001b[37mtimothy-desktop\u001b[m  Wed Dec 19 16:32:27 2018\r\n",
      "\u001b[36m[0]\u001b[m \u001b[34mGeForce GTX 1080 Ti\u001b[m |\u001b[31m 43'C\u001b[m, \u001b[32m  3 %\u001b[m | \u001b[36m\u001b[1m\u001b[33m  554\u001b[m / \u001b[33m11175\u001b[m MB | \u001b[1m\u001b[30mtimothy\u001b[m(\u001b[33m185M\u001b[m) \u001b[1m\u001b[30mroot\u001b[m(\u001b[33m251M\u001b[m) \u001b[1m\u001b[30mtimothy\u001b[m(\u001b[33m84M\u001b[m)\r\n"
     ]
    }
   ],
   "source": [
    "!gpustat"
   ]
  },
  {
   "cell_type": "code",
   "execution_count": 10,
   "metadata": {},
   "outputs": [
    {
     "name": "stdout",
     "output_type": "stream",
     "text": [
      "[0]\ttrain-rmse:11.0751\teval-rmse:11.0698\n",
      "[1]\ttrain-rmse:10.0948\teval-rmse:10.0904\n",
      "[2]\ttrain-rmse:9.22602\teval-rmse:9.2225\n",
      "[3]\ttrain-rmse:8.43633\teval-rmse:8.43522\n",
      "[4]\ttrain-rmse:7.73942\teval-rmse:7.74069\n",
      "[5]\ttrain-rmse:7.12065\teval-rmse:7.12449\n",
      "[6]\ttrain-rmse:6.58089\teval-rmse:6.58749\n",
      "[7]\ttrain-rmse:6.08895\teval-rmse:6.09893\n",
      "[8]\ttrain-rmse:5.65789\teval-rmse:5.67146\n",
      "[9]\ttrain-rmse:5.28094\teval-rmse:5.29838\n",
      "[10]\ttrain-rmse:4.94785\teval-rmse:4.96955\n",
      "[11]\ttrain-rmse:4.63211\teval-rmse:4.65868\n",
      "[12]\ttrain-rmse:4.37626\teval-rmse:4.40757\n",
      "[13]\ttrain-rmse:4.15618\teval-rmse:4.19215\n",
      "[14]\ttrain-rmse:3.94121\teval-rmse:3.98263\n",
      "[15]\ttrain-rmse:3.77309\teval-rmse:3.81982\n",
      "[16]\ttrain-rmse:3.60724\teval-rmse:3.65999\n",
      "[17]\ttrain-rmse:3.48345\teval-rmse:3.54151\n",
      "[18]\ttrain-rmse:3.34815\teval-rmse:3.41213\n",
      "[19]\ttrain-rmse:3.24008\teval-rmse:3.30958\n",
      "[20]\ttrain-rmse:3.14041\teval-rmse:3.21545\n",
      "[21]\ttrain-rmse:3.06424\teval-rmse:3.14493\n",
      "[22]\ttrain-rmse:3.00118\teval-rmse:3.08708\n",
      "[23]\ttrain-rmse:2.93794\teval-rmse:3.0296\n",
      "[24]\ttrain-rmse:2.87536\teval-rmse:2.97276\n",
      "[25]\ttrain-rmse:2.81227\teval-rmse:2.91557\n",
      "[26]\ttrain-rmse:2.75888\teval-rmse:2.86745\n",
      "[27]\ttrain-rmse:2.72072\teval-rmse:2.83411\n",
      "[28]\ttrain-rmse:2.68598\teval-rmse:2.80386\n",
      "[29]\ttrain-rmse:2.65942\teval-rmse:2.78207\n",
      "Total time taken 7.1\n"
     ]
    }
   ],
   "source": [
    "start_time = time.time()\n",
    "\n",
    "params = {'tree_method': 'gpu_exact', 'max_depth': 12, 'learning_rate': 0.1, 'silent': 1}\n",
    "bst = xgb.train(params, xgtrain, 30, evals=[(xgtrain, \"train\"), (xgeval, \"eval\")])\n",
    "\n",
    "duration_gpu = time.time() - start_time\n",
    "print(\"Total time taken\", round(duration_gpu,1))"
   ]
  },
  {
   "cell_type": "markdown",
   "metadata": {},
   "source": [
    "## Evaluation"
   ]
  },
  {
   "cell_type": "code",
   "execution_count": 11,
   "metadata": {},
   "outputs": [
    {
     "name": "stdout",
     "output_type": "stream",
     "text": [
      "Mean Squared Error: 7.739942827437807\n"
     ]
    }
   ],
   "source": [
    "preds = bst.predict(xgeval)\n",
    "error = mean_squared_error(y_test, preds)\n",
    "print(\"Mean Squared Error:\", error)"
   ]
  },
  {
   "cell_type": "code",
   "execution_count": 12,
   "metadata": {},
   "outputs": [
    {
     "name": "stdout",
     "output_type": "stream",
     "text": [
      "GPU speedup: 442.6 %\n"
     ]
    }
   ],
   "source": [
    "gpu_over_cpu_percent = round((duration_cpu/duration_gpu)*100, 1)\n",
    "print(\"GPU speedup:\", gpu_over_cpu_percent, \"%\")"
   ]
  },
  {
   "cell_type": "code",
   "execution_count": 13,
   "metadata": {},
   "outputs": [
    {
     "name": "stdout",
     "output_type": "stream",
     "text": [
      "Features: ['fare_amount', 'pickup_longitude', 'pickup_latitude', 'dropoff_longitude', 'dropoff_latitude', 'passenger_count', 'year', 'month', 'day', 'dayOfWeek', 'hour', 'timeOfDayMid.Day', 'timeOfDayMorning', 'timeOfDayNight']\n"
     ]
    },
    {
     "data": {
      "text/plain": [
       "<matplotlib.axes._subplots.AxesSubplot at 0x7f7c872a5630>"
      ]
     },
     "execution_count": 13,
     "metadata": {},
     "output_type": "execute_result"
    },
    {
     "data": {
      "image/png": "[encoded data removed]",
      "text/plain": [
       "<Figure size 432x288 with 1 Axes>"
      ]
     },
     "metadata": {
      "needs_background": "light"
     },
     "output_type": "display_data"
    }
   ],
   "source": [
    "print(\"Features:\", df.columns.tolist())\n",
    "xgb.plot_importance(bst)"
   ]
  },
  {
   "cell_type": "code",
   "execution_count": 14,
   "metadata": {
    "scrolled": false
   },
   "outputs": [],
   "source": [
    "#xgb.to_graphviz(bst) # big diagram!"
   ]
  },
  {
   "cell_type": "code",
   "execution_count": null,
   "metadata": {},
   "outputs": [],
   "source": []
  }
 ],
 "metadata": {
  "kernelspec": {
   "display_name": "Python 3",
   "language": "python",
   "name": "python3"
  },
  "language_info": {
   "codemirror_mode": {
    "name": "ipython",
    "version": 3
   },
   "file_extension": ".py",
   "mimetype": "text/x-python",
   "name": "python",
   "nbconvert_exporter": "python",
   "pygments_lexer": "ipython3",
   "version": "3.6.7"
  }
 },
 "nbformat": 4,
 "nbformat_minor": 2
}
